{
  "cells": [
    {
      "cell_type": "markdown",
      "id": "1e67d8e1",
      "metadata": {
        "papermill": {
          "duration": 0.013517,
          "end_time": "2025-01-21T20:32:53.346932",
          "exception": false,
          "start_time": "2025-01-21T20:32:53.333415",
          "status": "completed"
        },
        "tags": [],
        "id": "1e67d8e1"
      },
      "source": [
        "# PACKAGE"
      ]
    },
    {
      "cell_type": "code",
      "execution_count": null,
      "id": "075196de",
      "metadata": {
        "_cell_guid": "b1076dfc-b9ad-4769-8c92-a6c4dae69d19",
        "_uuid": "8f2839f25d086af736a60e9eeb907d3b93b6e0e5",
        "execution": {
          "iopub.execute_input": "2025-01-21T20:32:53.373355Z",
          "iopub.status.busy": "2025-01-21T20:32:53.372986Z",
          "iopub.status.idle": "2025-01-21T20:32:55.298052Z",
          "shell.execute_reply": "2025-01-21T20:32:55.297381Z"
        },
        "papermill": {
          "duration": 1.94007,
          "end_time": "2025-01-21T20:32:55.299602",
          "exception": false,
          "start_time": "2025-01-21T20:32:53.359532",
          "status": "completed"
        },
        "tags": [],
        "id": "075196de"
      },
      "outputs": [],
      "source": [
        "import pandas as pd\n",
        "import numpy as np\n",
        "import seaborn as sns\n",
        "import matplotlib.pyplot as plt"
      ]
    },
    {
      "cell_type": "code",
      "execution_count": null,
      "id": "73351cff",
      "metadata": {
        "execution": {
          "iopub.execute_input": "2025-01-21T20:32:55.326362Z",
          "iopub.status.busy": "2025-01-21T20:32:55.325979Z",
          "iopub.status.idle": "2025-01-21T20:32:55.329184Z",
          "shell.execute_reply": "2025-01-21T20:32:55.328583Z"
        },
        "papermill": {
          "duration": 0.017958,
          "end_time": "2025-01-21T20:32:55.330414",
          "exception": false,
          "start_time": "2025-01-21T20:32:55.312456",
          "status": "completed"
        },
        "tags": [],
        "id": "73351cff"
      },
      "outputs": [],
      "source": [
        "import warnings\n",
        "warnings.filterwarnings(\"ignore\")"
      ]
    },
    {
      "cell_type": "markdown",
      "id": "9bfb4f1d",
      "metadata": {
        "papermill": {
          "duration": 0.012003,
          "end_time": "2025-01-21T20:32:55.354437",
          "exception": false,
          "start_time": "2025-01-21T20:32:55.342434",
          "status": "completed"
        },
        "tags": [],
        "id": "9bfb4f1d"
      },
      "source": [
        "# DATA"
      ]
    },
    {
      "cell_type": "code",
      "execution_count": null,
      "id": "3a39adb6",
      "metadata": {
        "execution": {
          "iopub.execute_input": "2025-01-21T20:32:55.379818Z",
          "iopub.status.busy": "2025-01-21T20:32:55.379615Z",
          "iopub.status.idle": "2025-01-21T20:32:55.382603Z",
          "shell.execute_reply": "2025-01-21T20:32:55.381820Z"
        },
        "papermill": {
          "duration": 0.017065,
          "end_time": "2025-01-21T20:32:55.383883",
          "exception": false,
          "start_time": "2025-01-21T20:32:55.366818",
          "status": "completed"
        },
        "tags": [],
        "id": "3a39adb6"
      },
      "outputs": [],
      "source": [
        "train_path = '/kaggle/input/datavers/train_cleaned.csv'"
      ]
    },
    {
      "cell_type": "code",
      "execution_count": null,
      "id": "e3765c84",
      "metadata": {
        "execution": {
          "iopub.execute_input": "2025-01-21T20:32:55.409404Z",
          "iopub.status.busy": "2025-01-21T20:32:55.409133Z",
          "iopub.status.idle": "2025-01-21T20:33:00.850466Z",
          "shell.execute_reply": "2025-01-21T20:33:00.849775Z"
        },
        "papermill": {
          "duration": 5.455582,
          "end_time": "2025-01-21T20:33:00.852143",
          "exception": false,
          "start_time": "2025-01-21T20:32:55.396561",
          "status": "completed"
        },
        "tags": [],
        "id": "e3765c84"
      },
      "outputs": [],
      "source": [
        "data_train = pd.read_csv(train_path)"
      ]
    },
    {
      "cell_type": "code",
      "execution_count": null,
      "id": "03b0a969",
      "metadata": {
        "execution": {
          "iopub.execute_input": "2025-01-21T20:33:00.878224Z",
          "iopub.status.busy": "2025-01-21T20:33:00.877999Z",
          "iopub.status.idle": "2025-01-21T20:33:00.896408Z",
          "shell.execute_reply": "2025-01-21T20:33:00.895711Z"
        },
        "papermill": {
          "duration": 0.032777,
          "end_time": "2025-01-21T20:33:00.897730",
          "exception": false,
          "start_time": "2025-01-21T20:33:00.864953",
          "status": "completed"
        },
        "tags": [],
        "id": "03b0a969"
      },
      "outputs": [],
      "source": [
        "data_train['hour'] = data_train['hour'].astype(float)\n",
        "data_train['day'] = data_train['day'].astype(float)\n",
        "data_train['month'] = data_train['month'].astype(float)\n",
        "data_train['hour_maintenance'] = data_train['hour_maintenance'].astype(float)\n",
        "data_train['day_maintenance'] = data_train['day_maintenance'].astype(float)\n",
        "data_train['month_maintenance'] = data_train['month_maintenance'].astype(float)\n",
        "data_train['month_distance'] = data_train['month_distance'].astype(float)"
      ]
    },
    {
      "cell_type": "code",
      "execution_count": null,
      "id": "f4b43ec3",
      "metadata": {
        "execution": {
          "iopub.execute_input": "2025-01-21T20:33:00.923164Z",
          "iopub.status.busy": "2025-01-21T20:33:00.922903Z",
          "iopub.status.idle": "2025-01-21T20:33:00.951809Z",
          "shell.execute_reply": "2025-01-21T20:33:00.950732Z"
        },
        "papermill": {
          "duration": 0.043166,
          "end_time": "2025-01-21T20:33:00.953275",
          "exception": false,
          "start_time": "2025-01-21T20:33:00.910109",
          "status": "completed"
        },
        "tags": [],
        "id": "f4b43ec3",
        "outputId": "ecce36b4-15a6-40c3-dbd6-c6c09ee0aa58"
      },
      "outputs": [
        {
          "data": {
            "text/html": [
              "<div>\n",
              "<style scoped>\n",
              "    .dataframe tbody tr th:only-of-type {\n",
              "        vertical-align: middle;\n",
              "    }\n",
              "\n",
              "    .dataframe tbody tr th {\n",
              "        vertical-align: top;\n",
              "    }\n",
              "\n",
              "    .dataframe thead th {\n",
              "        text-align: right;\n",
              "    }\n",
              "</style>\n",
              "<table border=\"1\" class=\"dataframe\">\n",
              "  <thead>\n",
              "    <tr style=\"text-align: right;\">\n",
              "      <th></th>\n",
              "      <th>temperature_10H_max (°C)</th>\n",
              "      <th>temperature_10H_min (°C)</th>\n",
              "      <th>temperature-1</th>\n",
              "      <th>temperature-2</th>\n",
              "      <th>temperature-3</th>\n",
              "      <th>apparent_temperature_max</th>\n",
              "      <th>apparent_temperature_min</th>\n",
              "      <th>humidity</th>\n",
              "      <th>Voltage-L</th>\n",
              "      <th>Voltage-R</th>\n",
              "      <th>...</th>\n",
              "      <th>end_month</th>\n",
              "      <th>time_of_day</th>\n",
              "      <th>average_temperature</th>\n",
              "      <th>temperature_range</th>\n",
              "      <th>average_voltage</th>\n",
              "      <th>average_current</th>\n",
              "      <th>average_RPM</th>\n",
              "      <th>total_RPM</th>\n",
              "      <th>average_vibration</th>\n",
              "      <th>total_vibration</th>\n",
              "    </tr>\n",
              "  </thead>\n",
              "  <tbody>\n",
              "    <tr>\n",
              "      <th>0</th>\n",
              "      <td>462.826917</td>\n",
              "      <td>3.185101</td>\n",
              "      <td>117.322749</td>\n",
              "      <td>22.256591</td>\n",
              "      <td>0.165788</td>\n",
              "      <td>8.695319</td>\n",
              "      <td>-31.803539</td>\n",
              "      <td>51.354324</td>\n",
              "      <td>427.396277</td>\n",
              "      <td>295.878727</td>\n",
              "      <td>...</td>\n",
              "      <td>0</td>\n",
              "      <td>1</td>\n",
              "      <td>121.151429</td>\n",
              "      <td>459.641816</td>\n",
              "      <td>306.306985</td>\n",
              "      <td>57.775493</td>\n",
              "      <td>3827.521658</td>\n",
              "      <td>15310.086631</td>\n",
              "      <td>38.411903</td>\n",
              "      <td>76.823806</td>\n",
              "    </tr>\n",
              "    <tr>\n",
              "      <th>1</th>\n",
              "      <td>1800.712687</td>\n",
              "      <td>34.780531</td>\n",
              "      <td>165.394315</td>\n",
              "      <td>37.812987</td>\n",
              "      <td>654.109832</td>\n",
              "      <td>43.150303</td>\n",
              "      <td>-21.229334</td>\n",
              "      <td>30.374734</td>\n",
              "      <td>432.705017</td>\n",
              "      <td>270.634005</td>\n",
              "      <td>...</td>\n",
              "      <td>0</td>\n",
              "      <td>3</td>\n",
              "      <td>538.562070</td>\n",
              "      <td>1765.932156</td>\n",
              "      <td>300.425196</td>\n",
              "      <td>59.023950</td>\n",
              "      <td>3985.376165</td>\n",
              "      <td>15941.504658</td>\n",
              "      <td>34.564163</td>\n",
              "      <td>69.128326</td>\n",
              "    </tr>\n",
              "    <tr>\n",
              "      <th>2</th>\n",
              "      <td>559.959722</td>\n",
              "      <td>1.690250</td>\n",
              "      <td>465.592957</td>\n",
              "      <td>37.758918</td>\n",
              "      <td>54.096550</td>\n",
              "      <td>15.061316</td>\n",
              "      <td>-22.506290</td>\n",
              "      <td>28.297122</td>\n",
              "      <td>435.504998</td>\n",
              "      <td>274.241212</td>\n",
              "      <td>...</td>\n",
              "      <td>0</td>\n",
              "      <td>1</td>\n",
              "      <td>223.819680</td>\n",
              "      <td>558.269472</td>\n",
              "      <td>302.825123</td>\n",
              "      <td>60.837411</td>\n",
              "      <td>3387.498950</td>\n",
              "      <td>13549.995801</td>\n",
              "      <td>39.842275</td>\n",
              "      <td>79.684550</td>\n",
              "    </tr>\n",
              "    <tr>\n",
              "      <th>3</th>\n",
              "      <td>2304.199051</td>\n",
              "      <td>-20.798110</td>\n",
              "      <td>74.052065</td>\n",
              "      <td>25.217705</td>\n",
              "      <td>177.638587</td>\n",
              "      <td>47.222930</td>\n",
              "      <td>-52.193460</td>\n",
              "      <td>28.524163</td>\n",
              "      <td>436.427583</td>\n",
              "      <td>270.492020</td>\n",
              "      <td>...</td>\n",
              "      <td>0</td>\n",
              "      <td>1</td>\n",
              "      <td>512.061859</td>\n",
              "      <td>2324.997161</td>\n",
              "      <td>300.700787</td>\n",
              "      <td>57.740275</td>\n",
              "      <td>3442.113605</td>\n",
              "      <td>13768.454419</td>\n",
              "      <td>37.850330</td>\n",
              "      <td>75.700660</td>\n",
              "    </tr>\n",
              "    <tr>\n",
              "      <th>4</th>\n",
              "      <td>527.464470</td>\n",
              "      <td>10.538378</td>\n",
              "      <td>445.022111</td>\n",
              "      <td>30.655798</td>\n",
              "      <td>54.131187</td>\n",
              "      <td>22.688836</td>\n",
              "      <td>-19.903160</td>\n",
              "      <td>50.104089</td>\n",
              "      <td>436.557558</td>\n",
              "      <td>270.068438</td>\n",
              "      <td>...</td>\n",
              "      <td>0</td>\n",
              "      <td>3</td>\n",
              "      <td>213.562389</td>\n",
              "      <td>516.926092</td>\n",
              "      <td>300.133045</td>\n",
              "      <td>60.618562</td>\n",
              "      <td>3415.934086</td>\n",
              "      <td>13663.736343</td>\n",
              "      <td>35.385172</td>\n",
              "      <td>70.770345</td>\n",
              "    </tr>\n",
              "  </tbody>\n",
              "</table>\n",
              "<p>5 rows × 46 columns</p>\n",
              "</div>"
            ],
            "text/plain": [
              "   temperature_10H_max (°C)  temperature_10H_min (°C)  temperature-1  \\\n",
              "0                462.826917                  3.185101     117.322749   \n",
              "1               1800.712687                 34.780531     165.394315   \n",
              "2                559.959722                  1.690250     465.592957   \n",
              "3               2304.199051                -20.798110      74.052065   \n",
              "4                527.464470                 10.538378     445.022111   \n",
              "\n",
              "   temperature-2  temperature-3  apparent_temperature_max  \\\n",
              "0      22.256591       0.165788                  8.695319   \n",
              "1      37.812987     654.109832                 43.150303   \n",
              "2      37.758918      54.096550                 15.061316   \n",
              "3      25.217705     177.638587                 47.222930   \n",
              "4      30.655798      54.131187                 22.688836   \n",
              "\n",
              "   apparent_temperature_min   humidity   Voltage-L   Voltage-R  ...  \\\n",
              "0                -31.803539  51.354324  427.396277  295.878727  ...   \n",
              "1                -21.229334  30.374734  432.705017  270.634005  ...   \n",
              "2                -22.506290  28.297122  435.504998  274.241212  ...   \n",
              "3                -52.193460  28.524163  436.427583  270.492020  ...   \n",
              "4                -19.903160  50.104089  436.557558  270.068438  ...   \n",
              "\n",
              "   end_month  time_of_day  average_temperature  temperature_range  \\\n",
              "0          0            1           121.151429         459.641816   \n",
              "1          0            3           538.562070        1765.932156   \n",
              "2          0            1           223.819680         558.269472   \n",
              "3          0            1           512.061859        2324.997161   \n",
              "4          0            3           213.562389         516.926092   \n",
              "\n",
              "   average_voltage  average_current  average_RPM     total_RPM  \\\n",
              "0       306.306985        57.775493  3827.521658  15310.086631   \n",
              "1       300.425196        59.023950  3985.376165  15941.504658   \n",
              "2       302.825123        60.837411  3387.498950  13549.995801   \n",
              "3       300.700787        57.740275  3442.113605  13768.454419   \n",
              "4       300.133045        60.618562  3415.934086  13663.736343   \n",
              "\n",
              "   average_vibration  total_vibration  \n",
              "0          38.411903        76.823806  \n",
              "1          34.564163        69.128326  \n",
              "2          39.842275        79.684550  \n",
              "3          37.850330        75.700660  \n",
              "4          35.385172        70.770345  \n",
              "\n",
              "[5 rows x 46 columns]"
            ]
          },
          "execution_count": 6,
          "metadata": {},
          "output_type": "execute_result"
        }
      ],
      "source": [
        "data_train.head()"
      ]
    },
    {
      "cell_type": "code",
      "execution_count": null,
      "id": "5d684f42",
      "metadata": {
        "execution": {
          "iopub.execute_input": "2025-01-21T20:33:00.979542Z",
          "iopub.status.busy": "2025-01-21T20:33:00.979259Z",
          "iopub.status.idle": "2025-01-21T20:33:01.070063Z",
          "shell.execute_reply": "2025-01-21T20:33:01.068986Z"
        },
        "papermill": {
          "duration": 0.105317,
          "end_time": "2025-01-21T20:33:01.071454",
          "exception": false,
          "start_time": "2025-01-21T20:33:00.966137",
          "status": "completed"
        },
        "tags": [],
        "id": "5d684f42",
        "outputId": "0702c7af-7063-42cf-b7c1-73d6ed535169"
      },
      "outputs": [
        {
          "name": "stdout",
          "output_type": "stream",
          "text": [
            "<class 'pandas.core.frame.DataFrame'>\n",
            "RangeIndex: 429841 entries, 0 to 429840\n",
            "Data columns (total 46 columns):\n",
            " #   Column                    Non-Null Count   Dtype  \n",
            "---  ------                    --------------   -----  \n",
            " 0   temperature_10H_max (°C)  429841 non-null  float64\n",
            " 1   temperature_10H_min (°C)  429841 non-null  float64\n",
            " 2   temperature-1             429841 non-null  float64\n",
            " 3   temperature-2             429841 non-null  float64\n",
            " 4   temperature-3             429841 non-null  float64\n",
            " 5   apparent_temperature_max  429841 non-null  float64\n",
            " 6   apparent_temperature_min  429841 non-null  float64\n",
            " 7   humidity                  429841 non-null  float64\n",
            " 8   Voltage-L                 429841 non-null  float64\n",
            " 9   Voltage-R                 429841 non-null  float64\n",
            " 10  Voltage-M                 429841 non-null  float64\n",
            " 11  Current-M                 429841 non-null  float64\n",
            " 12  Current-R                 429841 non-null  float64\n",
            " 13  Current-T                 429841 non-null  float64\n",
            " 14  RPM                       429841 non-null  float64\n",
            " 15  RPM-1                     429841 non-null  float64\n",
            " 16  RPM-2                     429841 non-null  float64\n",
            " 17  RPM-3                     429841 non-null  float64\n",
            " 18  Vibration-1               429841 non-null  float64\n",
            " 19  Vibration-2               429841 non-null  float64\n",
            " 20  Power                     429841 non-null  float64\n",
            " 21  Power_Backup              429841 non-null  int64  \n",
            " 22  Status                    429841 non-null  int64  \n",
            " 23  Priority                  429841 non-null  int64  \n",
            " 24  Area                      429841 non-null  object \n",
            " 25  Status Sparepart          429841 non-null  int64  \n",
            " 26  Age                       429841 non-null  float64\n",
            " 27  Country Machine           429841 non-null  int64  \n",
            " 28  hour                      429841 non-null  float64\n",
            " 29  day                       429841 non-null  float64\n",
            " 30  month                     429841 non-null  float64\n",
            " 31  hour_maintenance          429841 non-null  float64\n",
            " 32  day_maintenance           429841 non-null  float64\n",
            " 33  month_maintenance         429841 non-null  float64\n",
            " 34  month_distance            429841 non-null  float64\n",
            " 35  weekend                   429841 non-null  int64  \n",
            " 36  end_month                 429841 non-null  int64  \n",
            " 37  time_of_day               429841 non-null  int64  \n",
            " 38  average_temperature       429841 non-null  float64\n",
            " 39  temperature_range         429841 non-null  float64\n",
            " 40  average_voltage           429841 non-null  float64\n",
            " 41  average_current           429841 non-null  float64\n",
            " 42  average_RPM               429841 non-null  float64\n",
            " 43  total_RPM                 429841 non-null  float64\n",
            " 44  average_vibration         429841 non-null  float64\n",
            " 45  total_vibration           429841 non-null  float64\n",
            "dtypes: float64(37), int64(8), object(1)\n",
            "memory usage: 150.9+ MB\n"
          ]
        }
      ],
      "source": [
        "data_train.info()"
      ]
    },
    {
      "cell_type": "code",
      "execution_count": null,
      "id": "e6be476a",
      "metadata": {
        "execution": {
          "iopub.execute_input": "2025-01-21T20:33:01.097439Z",
          "iopub.status.busy": "2025-01-21T20:33:01.097181Z",
          "iopub.status.idle": "2025-01-21T20:33:01.105654Z",
          "shell.execute_reply": "2025-01-21T20:33:01.104752Z"
        },
        "papermill": {
          "duration": 0.022965,
          "end_time": "2025-01-21T20:33:01.107007",
          "exception": false,
          "start_time": "2025-01-21T20:33:01.084042",
          "status": "completed"
        },
        "tags": [],
        "id": "e6be476a",
        "outputId": "833418b6-8e73-405d-9055-06bbb96f9da9"
      },
      "outputs": [
        {
          "data": {
            "text/plain": [
              "Status\n",
              "0    264014\n",
              "1     84339\n",
              "2     81488\n",
              "Name: count, dtype: int64"
            ]
          },
          "execution_count": 8,
          "metadata": {},
          "output_type": "execute_result"
        }
      ],
      "source": [
        "data_train['Status'].value_counts()"
      ]
    },
    {
      "cell_type": "code",
      "execution_count": null,
      "id": "cbcf884f",
      "metadata": {
        "execution": {
          "iopub.execute_input": "2025-01-21T20:33:01.133695Z",
          "iopub.status.busy": "2025-01-21T20:33:01.133454Z",
          "iopub.status.idle": "2025-01-21T20:33:01.140848Z",
          "shell.execute_reply": "2025-01-21T20:33:01.140193Z"
        },
        "papermill": {
          "duration": 0.021622,
          "end_time": "2025-01-21T20:33:01.142178",
          "exception": false,
          "start_time": "2025-01-21T20:33:01.120556",
          "status": "completed"
        },
        "tags": [],
        "id": "cbcf884f",
        "outputId": "28b06dfc-3049-47d8-e756-6d5a44c06ba1"
      },
      "outputs": [
        {
          "data": {
            "text/plain": [
              "Priority\n",
              "0    162780\n",
              "1    150458\n",
              "2    116603\n",
              "Name: count, dtype: int64"
            ]
          },
          "execution_count": 9,
          "metadata": {},
          "output_type": "execute_result"
        }
      ],
      "source": [
        "data_train['Priority'].value_counts()"
      ]
    },
    {
      "cell_type": "code",
      "execution_count": null,
      "id": "80483521",
      "metadata": {
        "execution": {
          "iopub.execute_input": "2025-01-21T20:33:01.168571Z",
          "iopub.status.busy": "2025-01-21T20:33:01.168318Z",
          "iopub.status.idle": "2025-01-21T20:33:01.440129Z",
          "shell.execute_reply": "2025-01-21T20:33:01.439411Z"
        },
        "papermill": {
          "duration": 0.286623,
          "end_time": "2025-01-21T20:33:01.441842",
          "exception": false,
          "start_time": "2025-01-21T20:33:01.155219",
          "status": "completed"
        },
        "tags": [],
        "id": "80483521"
      },
      "outputs": [],
      "source": [
        "# One-hot encoding untuk kolom 'Country Machine'\n",
        "onehot_encoded_country = pd.get_dummies(data_train['Country Machine'], prefix='Country_Machine')\n",
        "\n",
        "# Pastikan nilai True/False diubah menjadi 1/0\n",
        "onehot_encoded_country = onehot_encoded_country.astype(int)\n",
        "\n",
        "# One-hot encoding untuk kolom 'Status Sparepart'\n",
        "onehot_encoded_status_sparepart = pd.get_dummies(data_train['Status Sparepart'], prefix='Status_Sparepart')\n",
        "\n",
        "# Pastikan nilai True/False diubah menjadi 1/0\n",
        "onehot_encoded_status_sparepart = onehot_encoded_status_sparepart.astype(int)\n",
        "\n",
        "# One-hot encoding untuk kolom 'Priority'\n",
        "onehot_encoded_priority = pd.get_dummies(data_train['Priority'], prefix='Priority')\n",
        "\n",
        "# Pastikan nilai True/False diubah menjadi 1/0\n",
        "onehot_encoded_priority = onehot_encoded_priority.astype(int)\n",
        "\n",
        "# Gabungkan hasil one-hot encoding ke data_train\n",
        "data_train_encoded = pd.concat([data_train, onehot_encoded_country, onehot_encoded_status_sparepart, onehot_encoded_priority], axis=1)\n",
        "\n",
        "# Hapus kolom asli 'Country Machine' dan 'Status Sparepart' (opsional)\n",
        "data_train_encoded.drop(columns=['Country Machine', 'Status Sparepart', 'Priority'], inplace=True)"
      ]
    },
    {
      "cell_type": "code",
      "execution_count": null,
      "id": "3066f9ab",
      "metadata": {
        "execution": {
          "iopub.execute_input": "2025-01-21T20:33:01.470111Z",
          "iopub.status.busy": "2025-01-21T20:33:01.469879Z",
          "iopub.status.idle": "2025-01-21T20:33:01.486892Z",
          "shell.execute_reply": "2025-01-21T20:33:01.486012Z"
        },
        "papermill": {
          "duration": 0.031996,
          "end_time": "2025-01-21T20:33:01.488154",
          "exception": false,
          "start_time": "2025-01-21T20:33:01.456158",
          "status": "completed"
        },
        "tags": [],
        "id": "3066f9ab",
        "outputId": "1dd588b4-2258-4829-e632-2d3d4ea40c60"
      },
      "outputs": [
        {
          "data": {
            "text/html": [
              "<div>\n",
              "<style scoped>\n",
              "    .dataframe tbody tr th:only-of-type {\n",
              "        vertical-align: middle;\n",
              "    }\n",
              "\n",
              "    .dataframe tbody tr th {\n",
              "        vertical-align: top;\n",
              "    }\n",
              "\n",
              "    .dataframe thead th {\n",
              "        text-align: right;\n",
              "    }\n",
              "</style>\n",
              "<table border=\"1\" class=\"dataframe\">\n",
              "  <thead>\n",
              "    <tr style=\"text-align: right;\">\n",
              "      <th></th>\n",
              "      <th>temperature_10H_max (°C)</th>\n",
              "      <th>temperature_10H_min (°C)</th>\n",
              "      <th>temperature-1</th>\n",
              "      <th>temperature-2</th>\n",
              "      <th>temperature-3</th>\n",
              "      <th>apparent_temperature_max</th>\n",
              "      <th>apparent_temperature_min</th>\n",
              "      <th>humidity</th>\n",
              "      <th>Voltage-L</th>\n",
              "      <th>Voltage-R</th>\n",
              "      <th>...</th>\n",
              "      <th>Country_Machine_4</th>\n",
              "      <th>Status_Sparepart_0</th>\n",
              "      <th>Status_Sparepart_1</th>\n",
              "      <th>Status_Sparepart_2</th>\n",
              "      <th>Status_Sparepart_3</th>\n",
              "      <th>Status_Sparepart_4</th>\n",
              "      <th>Status_Sparepart_5</th>\n",
              "      <th>Priority_0</th>\n",
              "      <th>Priority_1</th>\n",
              "      <th>Priority_2</th>\n",
              "    </tr>\n",
              "  </thead>\n",
              "  <tbody>\n",
              "    <tr>\n",
              "      <th>0</th>\n",
              "      <td>462.826917</td>\n",
              "      <td>3.185101</td>\n",
              "      <td>117.322749</td>\n",
              "      <td>22.256591</td>\n",
              "      <td>0.165788</td>\n",
              "      <td>8.695319</td>\n",
              "      <td>-31.803539</td>\n",
              "      <td>51.354324</td>\n",
              "      <td>427.396277</td>\n",
              "      <td>295.878727</td>\n",
              "      <td>...</td>\n",
              "      <td>0</td>\n",
              "      <td>0</td>\n",
              "      <td>0</td>\n",
              "      <td>0</td>\n",
              "      <td>1</td>\n",
              "      <td>0</td>\n",
              "      <td>0</td>\n",
              "      <td>0</td>\n",
              "      <td>0</td>\n",
              "      <td>1</td>\n",
              "    </tr>\n",
              "    <tr>\n",
              "      <th>1</th>\n",
              "      <td>1800.712687</td>\n",
              "      <td>34.780531</td>\n",
              "      <td>165.394315</td>\n",
              "      <td>37.812987</td>\n",
              "      <td>654.109832</td>\n",
              "      <td>43.150303</td>\n",
              "      <td>-21.229334</td>\n",
              "      <td>30.374734</td>\n",
              "      <td>432.705017</td>\n",
              "      <td>270.634005</td>\n",
              "      <td>...</td>\n",
              "      <td>1</td>\n",
              "      <td>0</td>\n",
              "      <td>0</td>\n",
              "      <td>0</td>\n",
              "      <td>0</td>\n",
              "      <td>0</td>\n",
              "      <td>1</td>\n",
              "      <td>0</td>\n",
              "      <td>0</td>\n",
              "      <td>1</td>\n",
              "    </tr>\n",
              "    <tr>\n",
              "      <th>2</th>\n",
              "      <td>559.959722</td>\n",
              "      <td>1.690250</td>\n",
              "      <td>465.592957</td>\n",
              "      <td>37.758918</td>\n",
              "      <td>54.096550</td>\n",
              "      <td>15.061316</td>\n",
              "      <td>-22.506290</td>\n",
              "      <td>28.297122</td>\n",
              "      <td>435.504998</td>\n",
              "      <td>274.241212</td>\n",
              "      <td>...</td>\n",
              "      <td>1</td>\n",
              "      <td>0</td>\n",
              "      <td>1</td>\n",
              "      <td>0</td>\n",
              "      <td>0</td>\n",
              "      <td>0</td>\n",
              "      <td>0</td>\n",
              "      <td>0</td>\n",
              "      <td>1</td>\n",
              "      <td>0</td>\n",
              "    </tr>\n",
              "    <tr>\n",
              "      <th>3</th>\n",
              "      <td>2304.199051</td>\n",
              "      <td>-20.798110</td>\n",
              "      <td>74.052065</td>\n",
              "      <td>25.217705</td>\n",
              "      <td>177.638587</td>\n",
              "      <td>47.222930</td>\n",
              "      <td>-52.193460</td>\n",
              "      <td>28.524163</td>\n",
              "      <td>436.427583</td>\n",
              "      <td>270.492020</td>\n",
              "      <td>...</td>\n",
              "      <td>0</td>\n",
              "      <td>1</td>\n",
              "      <td>0</td>\n",
              "      <td>0</td>\n",
              "      <td>0</td>\n",
              "      <td>0</td>\n",
              "      <td>0</td>\n",
              "      <td>1</td>\n",
              "      <td>0</td>\n",
              "      <td>0</td>\n",
              "    </tr>\n",
              "    <tr>\n",
              "      <th>4</th>\n",
              "      <td>527.464470</td>\n",
              "      <td>10.538378</td>\n",
              "      <td>445.022111</td>\n",
              "      <td>30.655798</td>\n",
              "      <td>54.131187</td>\n",
              "      <td>22.688836</td>\n",
              "      <td>-19.903160</td>\n",
              "      <td>50.104089</td>\n",
              "      <td>436.557558</td>\n",
              "      <td>270.068438</td>\n",
              "      <td>...</td>\n",
              "      <td>0</td>\n",
              "      <td>1</td>\n",
              "      <td>0</td>\n",
              "      <td>0</td>\n",
              "      <td>0</td>\n",
              "      <td>0</td>\n",
              "      <td>0</td>\n",
              "      <td>1</td>\n",
              "      <td>0</td>\n",
              "      <td>0</td>\n",
              "    </tr>\n",
              "  </tbody>\n",
              "</table>\n",
              "<p>5 rows × 57 columns</p>\n",
              "</div>"
            ],
            "text/plain": [
              "   temperature_10H_max (°C)  temperature_10H_min (°C)  temperature-1  \\\n",
              "0                462.826917                  3.185101     117.322749   \n",
              "1               1800.712687                 34.780531     165.394315   \n",
              "2                559.959722                  1.690250     465.592957   \n",
              "3               2304.199051                -20.798110      74.052065   \n",
              "4                527.464470                 10.538378     445.022111   \n",
              "\n",
              "   temperature-2  temperature-3  apparent_temperature_max  \\\n",
              "0      22.256591       0.165788                  8.695319   \n",
              "1      37.812987     654.109832                 43.150303   \n",
              "2      37.758918      54.096550                 15.061316   \n",
              "3      25.217705     177.638587                 47.222930   \n",
              "4      30.655798      54.131187                 22.688836   \n",
              "\n",
              "   apparent_temperature_min   humidity   Voltage-L   Voltage-R  ...  \\\n",
              "0                -31.803539  51.354324  427.396277  295.878727  ...   \n",
              "1                -21.229334  30.374734  432.705017  270.634005  ...   \n",
              "2                -22.506290  28.297122  435.504998  274.241212  ...   \n",
              "3                -52.193460  28.524163  436.427583  270.492020  ...   \n",
              "4                -19.903160  50.104089  436.557558  270.068438  ...   \n",
              "\n",
              "   Country_Machine_4  Status_Sparepart_0  Status_Sparepart_1  \\\n",
              "0                  0                   0                   0   \n",
              "1                  1                   0                   0   \n",
              "2                  1                   0                   1   \n",
              "3                  0                   1                   0   \n",
              "4                  0                   1                   0   \n",
              "\n",
              "   Status_Sparepart_2  Status_Sparepart_3  Status_Sparepart_4  \\\n",
              "0                   0                   1                   0   \n",
              "1                   0                   0                   0   \n",
              "2                   0                   0                   0   \n",
              "3                   0                   0                   0   \n",
              "4                   0                   0                   0   \n",
              "\n",
              "   Status_Sparepart_5  Priority_0  Priority_1  Priority_2  \n",
              "0                   0           0           0           1  \n",
              "1                   1           0           0           1  \n",
              "2                   0           0           1           0  \n",
              "3                   0           1           0           0  \n",
              "4                   0           1           0           0  \n",
              "\n",
              "[5 rows x 57 columns]"
            ]
          },
          "execution_count": 11,
          "metadata": {},
          "output_type": "execute_result"
        }
      ],
      "source": [
        "data_train_encoded.head()"
      ]
    },
    {
      "cell_type": "code",
      "execution_count": null,
      "id": "0ee1c623",
      "metadata": {
        "execution": {
          "iopub.execute_input": "2025-01-21T20:33:01.516628Z",
          "iopub.status.busy": "2025-01-21T20:33:01.516369Z",
          "iopub.status.idle": "2025-01-21T20:33:01.606596Z",
          "shell.execute_reply": "2025-01-21T20:33:01.605270Z"
        },
        "papermill": {
          "duration": 0.105845,
          "end_time": "2025-01-21T20:33:01.607923",
          "exception": false,
          "start_time": "2025-01-21T20:33:01.502078",
          "status": "completed"
        },
        "tags": [],
        "id": "0ee1c623",
        "outputId": "cc626aaf-ecf5-4de7-fa00-bcee0fba48af"
      },
      "outputs": [
        {
          "name": "stdout",
          "output_type": "stream",
          "text": [
            "<class 'pandas.core.frame.DataFrame'>\n",
            "RangeIndex: 429841 entries, 0 to 429840\n",
            "Data columns (total 57 columns):\n",
            " #   Column                    Non-Null Count   Dtype  \n",
            "---  ------                    --------------   -----  \n",
            " 0   temperature_10H_max (°C)  429841 non-null  float64\n",
            " 1   temperature_10H_min (°C)  429841 non-null  float64\n",
            " 2   temperature-1             429841 non-null  float64\n",
            " 3   temperature-2             429841 non-null  float64\n",
            " 4   temperature-3             429841 non-null  float64\n",
            " 5   apparent_temperature_max  429841 non-null  float64\n",
            " 6   apparent_temperature_min  429841 non-null  float64\n",
            " 7   humidity                  429841 non-null  float64\n",
            " 8   Voltage-L                 429841 non-null  float64\n",
            " 9   Voltage-R                 429841 non-null  float64\n",
            " 10  Voltage-M                 429841 non-null  float64\n",
            " 11  Current-M                 429841 non-null  float64\n",
            " 12  Current-R                 429841 non-null  float64\n",
            " 13  Current-T                 429841 non-null  float64\n",
            " 14  RPM                       429841 non-null  float64\n",
            " 15  RPM-1                     429841 non-null  float64\n",
            " 16  RPM-2                     429841 non-null  float64\n",
            " 17  RPM-3                     429841 non-null  float64\n",
            " 18  Vibration-1               429841 non-null  float64\n",
            " 19  Vibration-2               429841 non-null  float64\n",
            " 20  Power                     429841 non-null  float64\n",
            " 21  Power_Backup              429841 non-null  int64  \n",
            " 22  Status                    429841 non-null  int64  \n",
            " 23  Area                      429841 non-null  object \n",
            " 24  Age                       429841 non-null  float64\n",
            " 25  hour                      429841 non-null  float64\n",
            " 26  day                       429841 non-null  float64\n",
            " 27  month                     429841 non-null  float64\n",
            " 28  hour_maintenance          429841 non-null  float64\n",
            " 29  day_maintenance           429841 non-null  float64\n",
            " 30  month_maintenance         429841 non-null  float64\n",
            " 31  month_distance            429841 non-null  float64\n",
            " 32  weekend                   429841 non-null  int64  \n",
            " 33  end_month                 429841 non-null  int64  \n",
            " 34  time_of_day               429841 non-null  int64  \n",
            " 35  average_temperature       429841 non-null  float64\n",
            " 36  temperature_range         429841 non-null  float64\n",
            " 37  average_voltage           429841 non-null  float64\n",
            " 38  average_current           429841 non-null  float64\n",
            " 39  average_RPM               429841 non-null  float64\n",
            " 40  total_RPM                 429841 non-null  float64\n",
            " 41  average_vibration         429841 non-null  float64\n",
            " 42  total_vibration           429841 non-null  float64\n",
            " 43  Country_Machine_0         429841 non-null  int64  \n",
            " 44  Country_Machine_1         429841 non-null  int64  \n",
            " 45  Country_Machine_2         429841 non-null  int64  \n",
            " 46  Country_Machine_3         429841 non-null  int64  \n",
            " 47  Country_Machine_4         429841 non-null  int64  \n",
            " 48  Status_Sparepart_0        429841 non-null  int64  \n",
            " 49  Status_Sparepart_1        429841 non-null  int64  \n",
            " 50  Status_Sparepart_2        429841 non-null  int64  \n",
            " 51  Status_Sparepart_3        429841 non-null  int64  \n",
            " 52  Status_Sparepart_4        429841 non-null  int64  \n",
            " 53  Status_Sparepart_5        429841 non-null  int64  \n",
            " 54  Priority_0                429841 non-null  int64  \n",
            " 55  Priority_1                429841 non-null  int64  \n",
            " 56  Priority_2                429841 non-null  int64  \n",
            "dtypes: float64(37), int64(19), object(1)\n",
            "memory usage: 186.9+ MB\n"
          ]
        }
      ],
      "source": [
        "data_train_encoded.info()"
      ]
    },
    {
      "cell_type": "markdown",
      "id": "186f2161",
      "metadata": {
        "papermill": {
          "duration": 0.013091,
          "end_time": "2025-01-21T20:33:01.634184",
          "exception": false,
          "start_time": "2025-01-21T20:33:01.621093",
          "status": "completed"
        },
        "tags": [],
        "id": "186f2161"
      },
      "source": [
        "# FEATURE SELECTION"
      ]
    },
    {
      "cell_type": "markdown",
      "id": "3f35db56",
      "metadata": {
        "papermill": {
          "duration": 0.012463,
          "end_time": "2025-01-21T20:33:01.661210",
          "exception": false,
          "start_time": "2025-01-21T20:33:01.648747",
          "status": "completed"
        },
        "tags": [],
        "id": "3f35db56"
      },
      "source": [
        "- undersampling\n",
        "- scaling (numerik)"
      ]
    },
    {
      "cell_type": "code",
      "execution_count": null,
      "id": "d02bf041",
      "metadata": {
        "execution": {
          "iopub.execute_input": "2025-01-21T20:33:01.688448Z",
          "iopub.status.busy": "2025-01-21T20:33:01.688188Z",
          "iopub.status.idle": "2025-01-21T20:33:05.855723Z",
          "shell.execute_reply": "2025-01-21T20:33:05.854842Z"
        },
        "papermill": {
          "duration": 4.183429,
          "end_time": "2025-01-21T20:33:05.857807",
          "exception": false,
          "start_time": "2025-01-21T20:33:01.674378",
          "status": "completed"
        },
        "tags": [],
        "id": "d02bf041",
        "outputId": "370ccd88-b6ee-44ad-afb9-f9abfe9ae4d7"
      },
      "outputs": [
        {
          "name": "stdout",
          "output_type": "stream",
          "text": [
            "Requirement already satisfied: imbalanced-learn in /usr/local/lib/python3.10/dist-packages (0.12.4)\r\n",
            "Requirement already satisfied: numpy>=1.17.3 in /usr/local/lib/python3.10/dist-packages (from imbalanced-learn) (1.26.4)\r\n",
            "Requirement already satisfied: scipy>=1.5.0 in /usr/local/lib/python3.10/dist-packages (from imbalanced-learn) (1.13.1)\r\n",
            "Requirement already satisfied: scikit-learn>=1.0.2 in /usr/local/lib/python3.10/dist-packages (from imbalanced-learn) (1.2.2)\r\n",
            "Requirement already satisfied: joblib>=1.1.1 in /usr/local/lib/python3.10/dist-packages (from imbalanced-learn) (1.4.2)\r\n",
            "Requirement already satisfied: threadpoolctl>=2.0.0 in /usr/local/lib/python3.10/dist-packages (from imbalanced-learn) (3.5.0)\r\n",
            "Requirement already satisfied: mkl_fft in /usr/local/lib/python3.10/dist-packages (from numpy>=1.17.3->imbalanced-learn) (1.3.8)\r\n",
            "Requirement already satisfied: mkl_random in /usr/local/lib/python3.10/dist-packages (from numpy>=1.17.3->imbalanced-learn) (1.2.4)\r\n",
            "Requirement already satisfied: mkl_umath in /usr/local/lib/python3.10/dist-packages (from numpy>=1.17.3->imbalanced-learn) (0.1.1)\r\n",
            "Requirement already satisfied: mkl in /usr/local/lib/python3.10/dist-packages (from numpy>=1.17.3->imbalanced-learn) (2025.0.1)\r\n",
            "Requirement already satisfied: tbb4py in /usr/local/lib/python3.10/dist-packages (from numpy>=1.17.3->imbalanced-learn) (2022.0.0)\r\n",
            "Requirement already satisfied: mkl-service in /usr/local/lib/python3.10/dist-packages (from numpy>=1.17.3->imbalanced-learn) (2.4.1)\r\n",
            "Requirement already satisfied: intel-openmp>=2024 in /usr/local/lib/python3.10/dist-packages (from mkl->numpy>=1.17.3->imbalanced-learn) (2024.2.0)\r\n",
            "Requirement already satisfied: tbb==2022.* in /usr/local/lib/python3.10/dist-packages (from mkl->numpy>=1.17.3->imbalanced-learn) (2022.0.0)\r\n",
            "Requirement already satisfied: tcmlib==1.* in /usr/local/lib/python3.10/dist-packages (from tbb==2022.*->mkl->numpy>=1.17.3->imbalanced-learn) (1.2.0)\r\n",
            "Requirement already satisfied: intel-cmplr-lib-rt in /usr/local/lib/python3.10/dist-packages (from mkl_umath->numpy>=1.17.3->imbalanced-learn) (2024.2.0)\r\n",
            "Requirement already satisfied: intel-cmplr-lib-ur==2024.2.0 in /usr/local/lib/python3.10/dist-packages (from intel-openmp>=2024->mkl->numpy>=1.17.3->imbalanced-learn) (2024.2.0)\r\n"
          ]
        }
      ],
      "source": [
        "!pip install imbalanced-learn"
      ]
    },
    {
      "cell_type": "code",
      "execution_count": null,
      "id": "f996272e",
      "metadata": {
        "execution": {
          "iopub.execute_input": "2025-01-21T20:33:05.923071Z",
          "iopub.status.busy": "2025-01-21T20:33:05.922767Z",
          "iopub.status.idle": "2025-01-21T20:33:06.428978Z",
          "shell.execute_reply": "2025-01-21T20:33:06.428291Z"
        },
        "papermill": {
          "duration": 0.558784,
          "end_time": "2025-01-21T20:33:06.430480",
          "exception": false,
          "start_time": "2025-01-21T20:33:05.871696",
          "status": "completed"
        },
        "tags": [],
        "id": "f996272e"
      },
      "outputs": [],
      "source": [
        "from sklearn.model_selection import train_test_split\n",
        "from sklearn.ensemble import RandomForestClassifier\n",
        "from sklearn.feature_selection import SelectFromModel\n",
        "from sklearn.metrics import accuracy_score"
      ]
    },
    {
      "cell_type": "code",
      "execution_count": null,
      "id": "5878cef6",
      "metadata": {
        "execution": {
          "iopub.execute_input": "2025-01-21T20:33:06.458309Z",
          "iopub.status.busy": "2025-01-21T20:33:06.458085Z",
          "iopub.status.idle": "2025-01-21T20:33:06.461093Z",
          "shell.execute_reply": "2025-01-21T20:33:06.460504Z"
        },
        "papermill": {
          "duration": 0.018013,
          "end_time": "2025-01-21T20:33:06.462209",
          "exception": false,
          "start_time": "2025-01-21T20:33:06.444196",
          "status": "completed"
        },
        "tags": [],
        "id": "5878cef6"
      },
      "outputs": [],
      "source": [
        "from sklearn.preprocessing import RobustScaler"
      ]
    },
    {
      "cell_type": "code",
      "execution_count": null,
      "id": "a90e965d",
      "metadata": {
        "execution": {
          "iopub.execute_input": "2025-01-21T20:33:06.495115Z",
          "iopub.status.busy": "2025-01-21T20:33:06.494847Z",
          "iopub.status.idle": "2025-01-21T20:33:06.498527Z",
          "shell.execute_reply": "2025-01-21T20:33:06.497801Z"
        },
        "papermill": {
          "duration": 0.024087,
          "end_time": "2025-01-21T20:33:06.499724",
          "exception": false,
          "start_time": "2025-01-21T20:33:06.475637",
          "status": "completed"
        },
        "tags": [],
        "id": "a90e965d"
      },
      "outputs": [],
      "source": [
        "columns_drop = ['Status', 'Area']"
      ]
    },
    {
      "cell_type": "code",
      "execution_count": null,
      "id": "829eb437",
      "metadata": {
        "execution": {
          "iopub.execute_input": "2025-01-21T20:33:06.528177Z",
          "iopub.status.busy": "2025-01-21T20:33:06.527963Z",
          "iopub.status.idle": "2025-01-21T20:33:06.586884Z",
          "shell.execute_reply": "2025-01-21T20:33:06.586029Z"
        },
        "papermill": {
          "duration": 0.074865,
          "end_time": "2025-01-21T20:33:06.588711",
          "exception": false,
          "start_time": "2025-01-21T20:33:06.513846",
          "status": "completed"
        },
        "tags": [],
        "id": "829eb437"
      },
      "outputs": [],
      "source": [
        "X = data_train_encoded.drop(columns=columns_drop)\n",
        "y = data_train_encoded['Status']"
      ]
    },
    {
      "cell_type": "code",
      "execution_count": null,
      "id": "9ba22b75",
      "metadata": {
        "execution": {
          "iopub.execute_input": "2025-01-21T20:33:06.617772Z",
          "iopub.status.busy": "2025-01-21T20:33:06.617548Z",
          "iopub.status.idle": "2025-01-21T20:33:07.554909Z",
          "shell.execute_reply": "2025-01-21T20:33:07.554169Z"
        },
        "papermill": {
          "duration": 0.953222,
          "end_time": "2025-01-21T20:33:07.556622",
          "exception": false,
          "start_time": "2025-01-21T20:33:06.603400",
          "status": "completed"
        },
        "tags": [],
        "id": "9ba22b75"
      },
      "outputs": [],
      "source": [
        "# Pilih kolom dengan tipe float\n",
        "float_columns = X.select_dtypes(include=['float64']).columns\n",
        "\n",
        "# Inisialisasi Robust Scaler\n",
        "scaler = RobustScaler()\n",
        "X[float_columns] = scaler.fit_transform(X[float_columns])"
      ]
    },
    {
      "cell_type": "code",
      "execution_count": null,
      "id": "b2192cf4",
      "metadata": {
        "execution": {
          "iopub.execute_input": "2025-01-21T20:33:07.585163Z",
          "iopub.status.busy": "2025-01-21T20:33:07.584945Z",
          "iopub.status.idle": "2025-01-21T20:33:07.602698Z",
          "shell.execute_reply": "2025-01-21T20:33:07.602033Z"
        },
        "papermill": {
          "duration": 0.032632,
          "end_time": "2025-01-21T20:33:07.603912",
          "exception": false,
          "start_time": "2025-01-21T20:33:07.571280",
          "status": "completed"
        },
        "tags": [],
        "id": "b2192cf4",
        "outputId": "2a894ca5-4cde-4485-b9c2-ba11845cb38f"
      },
      "outputs": [
        {
          "data": {
            "text/html": [
              "<div>\n",
              "<style scoped>\n",
              "    .dataframe tbody tr th:only-of-type {\n",
              "        vertical-align: middle;\n",
              "    }\n",
              "\n",
              "    .dataframe tbody tr th {\n",
              "        vertical-align: top;\n",
              "    }\n",
              "\n",
              "    .dataframe thead th {\n",
              "        text-align: right;\n",
              "    }\n",
              "</style>\n",
              "<table border=\"1\" class=\"dataframe\">\n",
              "  <thead>\n",
              "    <tr style=\"text-align: right;\">\n",
              "      <th></th>\n",
              "      <th>temperature_10H_max (°C)</th>\n",
              "      <th>temperature_10H_min (°C)</th>\n",
              "      <th>temperature-1</th>\n",
              "      <th>temperature-2</th>\n",
              "      <th>temperature-3</th>\n",
              "      <th>apparent_temperature_max</th>\n",
              "      <th>apparent_temperature_min</th>\n",
              "      <th>humidity</th>\n",
              "      <th>Voltage-L</th>\n",
              "      <th>Voltage-R</th>\n",
              "      <th>...</th>\n",
              "      <th>Country_Machine_4</th>\n",
              "      <th>Status_Sparepart_0</th>\n",
              "      <th>Status_Sparepart_1</th>\n",
              "      <th>Status_Sparepart_2</th>\n",
              "      <th>Status_Sparepart_3</th>\n",
              "      <th>Status_Sparepart_4</th>\n",
              "      <th>Status_Sparepart_5</th>\n",
              "      <th>Priority_0</th>\n",
              "      <th>Priority_1</th>\n",
              "      <th>Priority_2</th>\n",
              "    </tr>\n",
              "  </thead>\n",
              "  <tbody>\n",
              "    <tr>\n",
              "      <th>0</th>\n",
              "      <td>-0.382206</td>\n",
              "      <td>-0.240577</td>\n",
              "      <td>-1.041132</td>\n",
              "      <td>-0.183239</td>\n",
              "      <td>-0.516357</td>\n",
              "      <td>-0.774638</td>\n",
              "      <td>-0.234122</td>\n",
              "      <td>1.350235</td>\n",
              "      <td>-0.274065</td>\n",
              "      <td>0.401441</td>\n",
              "      <td>...</td>\n",
              "      <td>0</td>\n",
              "      <td>0</td>\n",
              "      <td>0</td>\n",
              "      <td>0</td>\n",
              "      <td>1</td>\n",
              "      <td>0</td>\n",
              "      <td>0</td>\n",
              "      <td>0</td>\n",
              "      <td>0</td>\n",
              "      <td>1</td>\n",
              "    </tr>\n",
              "    <tr>\n",
              "      <th>1</th>\n",
              "      <td>3.367675</td>\n",
              "      <td>0.594653</td>\n",
              "      <td>-0.739489</td>\n",
              "      <td>0.499191</td>\n",
              "      <td>3.703510</td>\n",
              "      <td>0.729295</td>\n",
              "      <td>0.228925</td>\n",
              "      <td>-0.547624</td>\n",
              "      <td>0.085736</td>\n",
              "      <td>-0.483498</td>\n",
              "      <td>...</td>\n",
              "      <td>1</td>\n",
              "      <td>0</td>\n",
              "      <td>0</td>\n",
              "      <td>0</td>\n",
              "      <td>0</td>\n",
              "      <td>0</td>\n",
              "      <td>1</td>\n",
              "      <td>0</td>\n",
              "      <td>0</td>\n",
              "      <td>1</td>\n",
              "    </tr>\n",
              "    <tr>\n",
              "      <th>2</th>\n",
              "      <td>-0.109958</td>\n",
              "      <td>-0.280094</td>\n",
              "      <td>1.144220</td>\n",
              "      <td>0.496819</td>\n",
              "      <td>-0.168345</td>\n",
              "      <td>-0.496767</td>\n",
              "      <td>0.173007</td>\n",
              "      <td>-0.735570</td>\n",
              "      <td>0.275505</td>\n",
              "      <td>-0.357049</td>\n",
              "      <td>...</td>\n",
              "      <td>1</td>\n",
              "      <td>0</td>\n",
              "      <td>1</td>\n",
              "      <td>0</td>\n",
              "      <td>0</td>\n",
              "      <td>0</td>\n",
              "      <td>0</td>\n",
              "      <td>0</td>\n",
              "      <td>1</td>\n",
              "      <td>0</td>\n",
              "    </tr>\n",
              "    <tr>\n",
              "      <th>3</th>\n",
              "      <td>4.778868</td>\n",
              "      <td>-0.874577</td>\n",
              "      <td>-1.312651</td>\n",
              "      <td>-0.053340</td>\n",
              "      <td>0.628865</td>\n",
              "      <td>0.907062</td>\n",
              "      <td>-1.127002</td>\n",
              "      <td>-0.715031</td>\n",
              "      <td>0.338033</td>\n",
              "      <td>-0.488475</td>\n",
              "      <td>...</td>\n",
              "      <td>0</td>\n",
              "      <td>1</td>\n",
              "      <td>0</td>\n",
              "      <td>0</td>\n",
              "      <td>0</td>\n",
              "      <td>0</td>\n",
              "      <td>0</td>\n",
              "      <td>1</td>\n",
              "      <td>0</td>\n",
              "      <td>0</td>\n",
              "    </tr>\n",
              "    <tr>\n",
              "      <th>4</th>\n",
              "      <td>-0.201037</td>\n",
              "      <td>-0.046192</td>\n",
              "      <td>1.015141</td>\n",
              "      <td>0.185218</td>\n",
              "      <td>-0.168121</td>\n",
              "      <td>-0.163832</td>\n",
              "      <td>0.286999</td>\n",
              "      <td>1.237136</td>\n",
              "      <td>0.346842</td>\n",
              "      <td>-0.503323</td>\n",
              "      <td>...</td>\n",
              "      <td>0</td>\n",
              "      <td>1</td>\n",
              "      <td>0</td>\n",
              "      <td>0</td>\n",
              "      <td>0</td>\n",
              "      <td>0</td>\n",
              "      <td>0</td>\n",
              "      <td>1</td>\n",
              "      <td>0</td>\n",
              "      <td>0</td>\n",
              "    </tr>\n",
              "  </tbody>\n",
              "</table>\n",
              "<p>5 rows × 55 columns</p>\n",
              "</div>"
            ],
            "text/plain": [
              "   temperature_10H_max (°C)  temperature_10H_min (°C)  temperature-1  \\\n",
              "0                 -0.382206                 -0.240577      -1.041132   \n",
              "1                  3.367675                  0.594653      -0.739489   \n",
              "2                 -0.109958                 -0.280094       1.144220   \n",
              "3                  4.778868                 -0.874577      -1.312651   \n",
              "4                 -0.201037                 -0.046192       1.015141   \n",
              "\n",
              "   temperature-2  temperature-3  apparent_temperature_max  \\\n",
              "0      -0.183239      -0.516357                 -0.774638   \n",
              "1       0.499191       3.703510                  0.729295   \n",
              "2       0.496819      -0.168345                 -0.496767   \n",
              "3      -0.053340       0.628865                  0.907062   \n",
              "4       0.185218      -0.168121                 -0.163832   \n",
              "\n",
              "   apparent_temperature_min  humidity  Voltage-L  Voltage-R  ...  \\\n",
              "0                 -0.234122  1.350235  -0.274065   0.401441  ...   \n",
              "1                  0.228925 -0.547624   0.085736  -0.483498  ...   \n",
              "2                  0.173007 -0.735570   0.275505  -0.357049  ...   \n",
              "3                 -1.127002 -0.715031   0.338033  -0.488475  ...   \n",
              "4                  0.286999  1.237136   0.346842  -0.503323  ...   \n",
              "\n",
              "   Country_Machine_4  Status_Sparepart_0  Status_Sparepart_1  \\\n",
              "0                  0                   0                   0   \n",
              "1                  1                   0                   0   \n",
              "2                  1                   0                   1   \n",
              "3                  0                   1                   0   \n",
              "4                  0                   1                   0   \n",
              "\n",
              "   Status_Sparepart_2  Status_Sparepart_3  Status_Sparepart_4  \\\n",
              "0                   0                   1                   0   \n",
              "1                   0                   0                   0   \n",
              "2                   0                   0                   0   \n",
              "3                   0                   0                   0   \n",
              "4                   0                   0                   0   \n",
              "\n",
              "   Status_Sparepart_5  Priority_0  Priority_1  Priority_2  \n",
              "0                   0           0           0           1  \n",
              "1                   1           0           0           1  \n",
              "2                   0           0           1           0  \n",
              "3                   0           1           0           0  \n",
              "4                   0           1           0           0  \n",
              "\n",
              "[5 rows x 55 columns]"
            ]
          },
          "execution_count": 19,
          "metadata": {},
          "output_type": "execute_result"
        }
      ],
      "source": [
        "X.head()"
      ]
    },
    {
      "cell_type": "code",
      "execution_count": null,
      "id": "40ee8a34",
      "metadata": {
        "execution": {
          "iopub.execute_input": "2025-01-21T20:33:07.631833Z",
          "iopub.status.busy": "2025-01-21T20:33:07.631593Z",
          "iopub.status.idle": "2025-01-21T20:33:07.636124Z",
          "shell.execute_reply": "2025-01-21T20:33:07.635423Z"
        },
        "papermill": {
          "duration": 0.019808,
          "end_time": "2025-01-21T20:33:07.637479",
          "exception": false,
          "start_time": "2025-01-21T20:33:07.617671",
          "status": "completed"
        },
        "tags": [],
        "id": "40ee8a34",
        "outputId": "90fd158d-e425-4820-ffb1-1a046883791f"
      },
      "outputs": [
        {
          "data": {
            "text/plain": [
              "0    0\n",
              "1    0\n",
              "2    0\n",
              "3    0\n",
              "4    0\n",
              "Name: Status, dtype: int64"
            ]
          },
          "execution_count": 20,
          "metadata": {},
          "output_type": "execute_result"
        }
      ],
      "source": [
        "y.head()"
      ]
    },
    {
      "cell_type": "code",
      "execution_count": null,
      "id": "932f3db3",
      "metadata": {
        "execution": {
          "iopub.execute_input": "2025-01-21T20:33:07.666050Z",
          "iopub.status.busy": "2025-01-21T20:33:07.665811Z",
          "iopub.status.idle": "2025-01-21T20:33:08.029089Z",
          "shell.execute_reply": "2025-01-21T20:33:08.028135Z"
        },
        "papermill": {
          "duration": 0.3789,
          "end_time": "2025-01-21T20:33:08.030353",
          "exception": false,
          "start_time": "2025-01-21T20:33:07.651453",
          "status": "completed"
        },
        "tags": [],
        "id": "932f3db3",
        "outputId": "6807e421-a279-4279-ac46-ed0d381c9dfb"
      },
      "outputs": [
        {
          "data": {
            "text/plain": [
              "((343872, 55), (85969, 55))"
            ]
          },
          "execution_count": 21,
          "metadata": {},
          "output_type": "execute_result"
        }
      ],
      "source": [
        "X_train, X_test, y_train, y_test = train_test_split(X,y, test_size = 0.2, random_state = 0)\n",
        "X_train.shape, X_test.shape"
      ]
    },
    {
      "cell_type": "code",
      "execution_count": null,
      "id": "d34e2157",
      "metadata": {
        "execution": {
          "iopub.execute_input": "2025-01-21T20:33:08.059098Z",
          "iopub.status.busy": "2025-01-21T20:33:08.058877Z",
          "iopub.status.idle": "2025-01-21T20:33:08.063781Z",
          "shell.execute_reply": "2025-01-21T20:33:08.063180Z"
        },
        "papermill": {
          "duration": 0.020659,
          "end_time": "2025-01-21T20:33:08.065004",
          "exception": false,
          "start_time": "2025-01-21T20:33:08.044345",
          "status": "completed"
        },
        "tags": [],
        "id": "d34e2157",
        "outputId": "505468d8-36aa-404e-9a16-c49f5bdf3172"
      },
      "outputs": [
        {
          "data": {
            "text/plain": [
              "((343872,), (85969,))"
            ]
          },
          "execution_count": 22,
          "metadata": {},
          "output_type": "execute_result"
        }
      ],
      "source": [
        "y_train.shape, y_test.shape"
      ]
    },
    {
      "cell_type": "code",
      "execution_count": null,
      "id": "0be3fcbc",
      "metadata": {
        "execution": {
          "iopub.execute_input": "2025-01-21T20:33:08.093280Z",
          "iopub.status.busy": "2025-01-21T20:33:08.093064Z",
          "iopub.status.idle": "2025-01-21T20:33:08.100043Z",
          "shell.execute_reply": "2025-01-21T20:33:08.099165Z"
        },
        "papermill": {
          "duration": 0.022199,
          "end_time": "2025-01-21T20:33:08.101200",
          "exception": false,
          "start_time": "2025-01-21T20:33:08.079001",
          "status": "completed"
        },
        "tags": [],
        "id": "0be3fcbc",
        "outputId": "2b12a0df-9759-489a-8c8c-79c3d43fc00b"
      },
      "outputs": [
        {
          "name": "stdout",
          "output_type": "stream",
          "text": [
            "Status\n",
            "0    211368\n",
            "1     67476\n",
            "2     65028\n",
            "Name: count, dtype: int64\n"
          ]
        }
      ],
      "source": [
        "# Melihat jumlah sampel per kelas\n",
        "print(y_train.value_counts())"
      ]
    },
    {
      "cell_type": "code",
      "execution_count": null,
      "id": "a0d25e65",
      "metadata": {
        "execution": {
          "iopub.execute_input": "2025-01-21T20:33:08.129790Z",
          "iopub.status.busy": "2025-01-21T20:33:08.129556Z",
          "iopub.status.idle": "2025-01-21T20:33:08.334560Z",
          "shell.execute_reply": "2025-01-21T20:33:08.333709Z"
        },
        "papermill": {
          "duration": 0.221301,
          "end_time": "2025-01-21T20:33:08.336008",
          "exception": false,
          "start_time": "2025-01-21T20:33:08.114707",
          "status": "completed"
        },
        "tags": [],
        "id": "a0d25e65"
      },
      "outputs": [],
      "source": [
        "from imblearn.under_sampling import RandomUnderSampler\n",
        "from imblearn.over_sampling import RandomOverSampler\n",
        "\n",
        "# Inisialisasi undersampler untuk kelas 0\n",
        "undersampler = RandomUnderSampler(sampling_strategy={0: 100000}, random_state=42)\n",
        "\n",
        "# Inisialisasi oversampler untuk kelas 1 dan 2\n",
        "oversampler = RandomOverSampler(sampling_strategy={1: 100000, 2: 100000}, random_state=42)"
      ]
    },
    {
      "cell_type": "code",
      "execution_count": null,
      "id": "fa2b1d53",
      "metadata": {
        "execution": {
          "iopub.execute_input": "2025-01-21T20:33:08.365080Z",
          "iopub.status.busy": "2025-01-21T20:33:08.364578Z",
          "iopub.status.idle": "2025-01-21T20:33:08.661492Z",
          "shell.execute_reply": "2025-01-21T20:33:08.660524Z"
        },
        "papermill": {
          "duration": 0.312819,
          "end_time": "2025-01-21T20:33:08.663200",
          "exception": false,
          "start_time": "2025-01-21T20:33:08.350381",
          "status": "completed"
        },
        "tags": [],
        "id": "fa2b1d53"
      },
      "outputs": [],
      "source": [
        "X_train_resampled, y_train_resampled = undersampler.fit_resample(X_train, y_train)"
      ]
    },
    {
      "cell_type": "code",
      "execution_count": null,
      "id": "1effed2a",
      "metadata": {
        "execution": {
          "iopub.execute_input": "2025-01-21T20:33:08.692891Z",
          "iopub.status.busy": "2025-01-21T20:33:08.692619Z",
          "iopub.status.idle": "2025-01-21T20:33:09.109584Z",
          "shell.execute_reply": "2025-01-21T20:33:09.108524Z"
        },
        "papermill": {
          "duration": 0.433301,
          "end_time": "2025-01-21T20:33:09.111240",
          "exception": false,
          "start_time": "2025-01-21T20:33:08.677939",
          "status": "completed"
        },
        "tags": [],
        "id": "1effed2a"
      },
      "outputs": [],
      "source": [
        "X_train_final, y_train_final = oversampler.fit_resample(X_train_resampled, y_train_resampled)"
      ]
    },
    {
      "cell_type": "code",
      "execution_count": null,
      "id": "c1950155",
      "metadata": {
        "execution": {
          "iopub.execute_input": "2025-01-21T20:33:09.141070Z",
          "iopub.status.busy": "2025-01-21T20:33:09.140810Z",
          "iopub.status.idle": "2025-01-21T20:33:09.178491Z",
          "shell.execute_reply": "2025-01-21T20:33:09.177560Z"
        },
        "papermill": {
          "duration": 0.053801,
          "end_time": "2025-01-21T20:33:09.179820",
          "exception": false,
          "start_time": "2025-01-21T20:33:09.126019",
          "status": "completed"
        },
        "tags": [],
        "id": "c1950155",
        "outputId": "dae69d9e-c86a-43ee-bfcf-37d52f39754e"
      },
      "outputs": [
        {
          "name": "stdout",
          "output_type": "stream",
          "text": [
            "Distribusi kelas setelah resampling: Counter({0: 100000, 1: 100000, 2: 100000})\n"
          ]
        }
      ],
      "source": [
        "from collections import Counter\n",
        "\n",
        "print(\"Distribusi kelas setelah resampling:\", Counter(y_train_final))"
      ]
    },
    {
      "cell_type": "markdown",
      "id": "d1e3ee08",
      "metadata": {
        "papermill": {
          "duration": 0.013595,
          "end_time": "2025-01-21T20:33:09.207766",
          "exception": false,
          "start_time": "2025-01-21T20:33:09.194171",
          "status": "completed"
        },
        "tags": [],
        "id": "d1e3ee08"
      },
      "source": [
        "### Feature importance of random forest classifier"
      ]
    },
    {
      "cell_type": "code",
      "execution_count": null,
      "id": "36eed2a9",
      "metadata": {
        "execution": {
          "iopub.execute_input": "2025-01-21T20:33:09.236026Z",
          "iopub.status.busy": "2025-01-21T20:33:09.235763Z",
          "iopub.status.idle": "2025-01-21T20:33:09.238862Z",
          "shell.execute_reply": "2025-01-21T20:33:09.238197Z"
        },
        "papermill": {
          "duration": 0.018474,
          "end_time": "2025-01-21T20:33:09.239954",
          "exception": false,
          "start_time": "2025-01-21T20:33:09.221480",
          "status": "completed"
        },
        "tags": [],
        "id": "36eed2a9"
      },
      "outputs": [],
      "source": [
        "# sel = SelectFromModel(RandomForestClassifier(n_estimators=200, random_state=42, n_jobs=-1))\n",
        "# sel.fit(X_train_final, y_train_final)\n",
        "# sel.get_support()"
      ]
    },
    {
      "cell_type": "code",
      "execution_count": null,
      "id": "3e470d45",
      "metadata": {
        "execution": {
          "iopub.execute_input": "2025-01-21T20:33:09.268370Z",
          "iopub.status.busy": "2025-01-21T20:33:09.268137Z",
          "iopub.status.idle": "2025-01-21T20:33:09.271024Z",
          "shell.execute_reply": "2025-01-21T20:33:09.270373Z"
        },
        "papermill": {
          "duration": 0.018372,
          "end_time": "2025-01-21T20:33:09.272235",
          "exception": false,
          "start_time": "2025-01-21T20:33:09.253863",
          "status": "completed"
        },
        "tags": [],
        "id": "3e470d45"
      },
      "outputs": [],
      "source": [
        "# X_train_final.columns"
      ]
    },
    {
      "cell_type": "code",
      "execution_count": null,
      "id": "b8a4e4fd",
      "metadata": {
        "execution": {
          "iopub.execute_input": "2025-01-21T20:33:09.300807Z",
          "iopub.status.busy": "2025-01-21T20:33:09.300589Z",
          "iopub.status.idle": "2025-01-21T20:33:09.303584Z",
          "shell.execute_reply": "2025-01-21T20:33:09.302872Z"
        },
        "papermill": {
          "duration": 0.018997,
          "end_time": "2025-01-21T20:33:09.304817",
          "exception": false,
          "start_time": "2025-01-21T20:33:09.285820",
          "status": "completed"
        },
        "tags": [],
        "id": "b8a4e4fd"
      },
      "outputs": [],
      "source": [
        "# features = X_train_final.columns[sel.get_support()]"
      ]
    },
    {
      "cell_type": "code",
      "execution_count": null,
      "id": "2d19c95c",
      "metadata": {
        "execution": {
          "iopub.execute_input": "2025-01-21T20:33:09.333386Z",
          "iopub.status.busy": "2025-01-21T20:33:09.333170Z",
          "iopub.status.idle": "2025-01-21T20:33:09.335983Z",
          "shell.execute_reply": "2025-01-21T20:33:09.335306Z"
        },
        "papermill": {
          "duration": 0.018616,
          "end_time": "2025-01-21T20:33:09.337222",
          "exception": false,
          "start_time": "2025-01-21T20:33:09.318606",
          "status": "completed"
        },
        "tags": [],
        "id": "2d19c95c"
      },
      "outputs": [],
      "source": [
        "# features"
      ]
    },
    {
      "cell_type": "code",
      "execution_count": null,
      "id": "360e4e43",
      "metadata": {
        "execution": {
          "iopub.execute_input": "2025-01-21T20:33:09.365277Z",
          "iopub.status.busy": "2025-01-21T20:33:09.365080Z",
          "iopub.status.idle": "2025-01-21T20:33:09.368046Z",
          "shell.execute_reply": "2025-01-21T20:33:09.367384Z"
        },
        "papermill": {
          "duration": 0.018269,
          "end_time": "2025-01-21T20:33:09.369282",
          "exception": false,
          "start_time": "2025-01-21T20:33:09.351013",
          "status": "completed"
        },
        "tags": [],
        "id": "360e4e43"
      },
      "outputs": [],
      "source": [
        "# len(features)"
      ]
    },
    {
      "cell_type": "code",
      "execution_count": null,
      "id": "b608cebe",
      "metadata": {
        "execution": {
          "iopub.execute_input": "2025-01-21T20:33:09.397545Z",
          "iopub.status.busy": "2025-01-21T20:33:09.397302Z",
          "iopub.status.idle": "2025-01-21T20:33:09.400222Z",
          "shell.execute_reply": "2025-01-21T20:33:09.399445Z"
        },
        "papermill": {
          "duration": 0.018524,
          "end_time": "2025-01-21T20:33:09.401479",
          "exception": false,
          "start_time": "2025-01-21T20:33:09.382955",
          "status": "completed"
        },
        "tags": [],
        "id": "b608cebe"
      },
      "outputs": [],
      "source": [
        "# sel.estimator_.feature_importances_"
      ]
    },
    {
      "cell_type": "markdown",
      "id": "21eff915",
      "metadata": {
        "papermill": {
          "duration": 0.013602,
          "end_time": "2025-01-21T20:33:09.428840",
          "exception": false,
          "start_time": "2025-01-21T20:33:09.415238",
          "status": "completed"
        },
        "tags": [],
        "id": "21eff915"
      },
      "source": [
        "### LASSO"
      ]
    },
    {
      "cell_type": "code",
      "execution_count": null,
      "id": "4ad3dd04",
      "metadata": {
        "execution": {
          "iopub.execute_input": "2025-01-21T20:33:09.456961Z",
          "iopub.status.busy": "2025-01-21T20:33:09.456721Z",
          "iopub.status.idle": "2025-01-21T20:33:09.459764Z",
          "shell.execute_reply": "2025-01-21T20:33:09.459090Z"
        },
        "papermill": {
          "duration": 0.018525,
          "end_time": "2025-01-21T20:33:09.460927",
          "exception": false,
          "start_time": "2025-01-21T20:33:09.442402",
          "status": "completed"
        },
        "tags": [],
        "id": "4ad3dd04"
      },
      "outputs": [],
      "source": [
        "from sklearn.linear_model import LogisticRegression\n",
        "from sklearn.feature_selection import SelectFromModel"
      ]
    },
    {
      "cell_type": "code",
      "execution_count": null,
      "id": "be49c06c",
      "metadata": {
        "execution": {
          "iopub.execute_input": "2025-01-21T20:33:09.490003Z",
          "iopub.status.busy": "2025-01-21T20:33:09.489785Z",
          "iopub.status.idle": "2025-01-21T20:34:07.878965Z",
          "shell.execute_reply": "2025-01-21T20:34:07.878093Z"
        },
        "papermill": {
          "duration": 58.420627,
          "end_time": "2025-01-21T20:34:07.895077",
          "exception": false,
          "start_time": "2025-01-21T20:33:09.474450",
          "status": "completed"
        },
        "tags": [],
        "id": "be49c06c",
        "outputId": "69044f38-14fa-4456-cbb8-e316da519bf0"
      },
      "outputs": [
        {
          "data": {
            "text/html": [
              "<style>#sk-container-id-1 {color: black;background-color: white;}#sk-container-id-1 pre{padding: 0;}#sk-container-id-1 div.sk-toggleable {background-color: white;}#sk-container-id-1 label.sk-toggleable__label {cursor: pointer;display: block;width: 100%;margin-bottom: 0;padding: 0.3em;box-sizing: border-box;text-align: center;}#sk-container-id-1 label.sk-toggleable__label-arrow:before {content: \"▸\";float: left;margin-right: 0.25em;color: #696969;}#sk-container-id-1 label.sk-toggleable__label-arrow:hover:before {color: black;}#sk-container-id-1 div.sk-estimator:hover label.sk-toggleable__label-arrow:before {color: black;}#sk-container-id-1 div.sk-toggleable__content {max-height: 0;max-width: 0;overflow: hidden;text-align: left;background-color: #f0f8ff;}#sk-container-id-1 div.sk-toggleable__content pre {margin: 0.2em;color: black;border-radius: 0.25em;background-color: #f0f8ff;}#sk-container-id-1 input.sk-toggleable__control:checked~div.sk-toggleable__content {max-height: 200px;max-width: 100%;overflow: auto;}#sk-container-id-1 input.sk-toggleable__control:checked~label.sk-toggleable__label-arrow:before {content: \"▾\";}#sk-container-id-1 div.sk-estimator input.sk-toggleable__control:checked~label.sk-toggleable__label {background-color: #d4ebff;}#sk-container-id-1 div.sk-label input.sk-toggleable__control:checked~label.sk-toggleable__label {background-color: #d4ebff;}#sk-container-id-1 input.sk-hidden--visually {border: 0;clip: rect(1px 1px 1px 1px);clip: rect(1px, 1px, 1px, 1px);height: 1px;margin: -1px;overflow: hidden;padding: 0;position: absolute;width: 1px;}#sk-container-id-1 div.sk-estimator {font-family: monospace;background-color: #f0f8ff;border: 1px dotted black;border-radius: 0.25em;box-sizing: border-box;margin-bottom: 0.5em;}#sk-container-id-1 div.sk-estimator:hover {background-color: #d4ebff;}#sk-container-id-1 div.sk-parallel-item::after {content: \"\";width: 100%;border-bottom: 1px solid gray;flex-grow: 1;}#sk-container-id-1 div.sk-label:hover label.sk-toggleable__label {background-color: #d4ebff;}#sk-container-id-1 div.sk-serial::before {content: \"\";position: absolute;border-left: 1px solid gray;box-sizing: border-box;top: 0;bottom: 0;left: 50%;z-index: 0;}#sk-container-id-1 div.sk-serial {display: flex;flex-direction: column;align-items: center;background-color: white;padding-right: 0.2em;padding-left: 0.2em;position: relative;}#sk-container-id-1 div.sk-item {position: relative;z-index: 1;}#sk-container-id-1 div.sk-parallel {display: flex;align-items: stretch;justify-content: center;background-color: white;position: relative;}#sk-container-id-1 div.sk-item::before, #sk-container-id-1 div.sk-parallel-item::before {content: \"\";position: absolute;border-left: 1px solid gray;box-sizing: border-box;top: 0;bottom: 0;left: 50%;z-index: -1;}#sk-container-id-1 div.sk-parallel-item {display: flex;flex-direction: column;z-index: 1;position: relative;background-color: white;}#sk-container-id-1 div.sk-parallel-item:first-child::after {align-self: flex-end;width: 50%;}#sk-container-id-1 div.sk-parallel-item:last-child::after {align-self: flex-start;width: 50%;}#sk-container-id-1 div.sk-parallel-item:only-child::after {width: 0;}#sk-container-id-1 div.sk-dashed-wrapped {border: 1px dashed gray;margin: 0 0.4em 0.5em 0.4em;box-sizing: border-box;padding-bottom: 0.4em;background-color: white;}#sk-container-id-1 div.sk-label label {font-family: monospace;font-weight: bold;display: inline-block;line-height: 1.2em;}#sk-container-id-1 div.sk-label-container {text-align: center;}#sk-container-id-1 div.sk-container {/* jupyter's `normalize.less` sets `[hidden] { display: none; }` but bootstrap.min.css set `[hidden] { display: none !important; }` so we also need the `!important` here to be able to override the default hidden behavior on the sphinx rendered scikit-learn.org. See: https://github.com/scikit-learn/scikit-learn/issues/21755 */display: inline-block !important;position: relative;}#sk-container-id-1 div.sk-text-repr-fallback {display: none;}</style><div id=\"sk-container-id-1\" class=\"sk-top-container\"><div class=\"sk-text-repr-fallback\"><pre>LogisticRegression(multi_class=&#x27;multinomial&#x27;, penalty=&#x27;l1&#x27;, random_state=42,\n",
              "                   solver=&#x27;saga&#x27;)</pre><b>In a Jupyter environment, please rerun this cell to show the HTML representation or trust the notebook. <br />On GitHub, the HTML representation is unable to render, please try loading this page with nbviewer.org.</b></div><div class=\"sk-container\" hidden><div class=\"sk-item\"><div class=\"sk-estimator sk-toggleable\"><input class=\"sk-toggleable__control sk-hidden--visually\" id=\"sk-estimator-id-1\" type=\"checkbox\" checked><label for=\"sk-estimator-id-1\" class=\"sk-toggleable__label sk-toggleable__label-arrow\">LogisticRegression</label><div class=\"sk-toggleable__content\"><pre>LogisticRegression(multi_class=&#x27;multinomial&#x27;, penalty=&#x27;l1&#x27;, random_state=42,\n",
              "                   solver=&#x27;saga&#x27;)</pre></div></div></div></div></div>"
            ],
            "text/plain": [
              "LogisticRegression(multi_class='multinomial', penalty='l1', random_state=42,\n",
              "                   solver='saga')"
            ]
          },
          "execution_count": 35,
          "metadata": {},
          "output_type": "execute_result"
        }
      ],
      "source": [
        "# Inisialisasi model Lasso (Logistic Regression dengan L1 Regularization)\n",
        "lasso = LogisticRegression(penalty='l1', solver='saga', multi_class='multinomial', random_state=42)\n",
        "\n",
        "# Fit model\n",
        "lasso.fit(X_train_final, y_train_final)"
      ]
    },
    {
      "cell_type": "code",
      "execution_count": null,
      "id": "258cd27f",
      "metadata": {
        "execution": {
          "iopub.execute_input": "2025-01-21T20:34:07.924374Z",
          "iopub.status.busy": "2025-01-21T20:34:07.924134Z",
          "iopub.status.idle": "2025-01-21T20:34:08.003518Z",
          "shell.execute_reply": "2025-01-21T20:34:08.002451Z"
        },
        "papermill": {
          "duration": 0.095716,
          "end_time": "2025-01-21T20:34:08.005202",
          "exception": false,
          "start_time": "2025-01-21T20:34:07.909486",
          "status": "completed"
        },
        "tags": [],
        "id": "258cd27f",
        "outputId": "1e3da804-208c-4821-e740-adeb3184acb8"
      },
      "outputs": [
        {
          "name": "stdout",
          "output_type": "stream",
          "text": [
            "Fitur terpilih dengan Lasso:\n",
            "Index(['temperature-2', 'apparent_temperature_max', 'apparent_temperature_min',\n",
            "       'Voltage-M', 'RPM', 'Power', 'Power_Backup', 'Age', 'hour', 'day',\n",
            "       'day_maintenance', 'month_maintenance', 'weekend', 'end_month',\n",
            "       'time_of_day', 'Country_Machine_1', 'Country_Machine_2',\n",
            "       'Country_Machine_4', 'Status_Sparepart_0', 'Status_Sparepart_2',\n",
            "       'Status_Sparepart_3', 'Status_Sparepart_4', 'Status_Sparepart_5',\n",
            "       'Priority_1', 'Priority_2'],\n",
            "      dtype='object')\n"
          ]
        }
      ],
      "source": [
        "# Seleksi fitur\n",
        "selector = SelectFromModel(lasso, threshold='mean', max_features=30)\n",
        "X_train_lasso = selector.transform(X_train_final)\n",
        "\n",
        "# Menampilkan fitur terpilih\n",
        "selected_features = X_train_final.columns[selector.get_support()]\n",
        "print(\"Fitur terpilih dengan Lasso:\")\n",
        "print(selected_features)"
      ]
    },
    {
      "cell_type": "code",
      "execution_count": null,
      "id": "8f7999d2",
      "metadata": {
        "execution": {
          "iopub.execute_input": "2025-01-21T20:34:08.036740Z",
          "iopub.status.busy": "2025-01-21T20:34:08.036493Z",
          "iopub.status.idle": "2025-01-21T20:34:08.039257Z",
          "shell.execute_reply": "2025-01-21T20:34:08.038653Z"
        },
        "papermill": {
          "duration": 0.019547,
          "end_time": "2025-01-21T20:34:08.040450",
          "exception": false,
          "start_time": "2025-01-21T20:34:08.020903",
          "status": "completed"
        },
        "tags": [],
        "id": "8f7999d2"
      },
      "outputs": [],
      "source": [
        "# # Gabungkan fitur yang relevan\n",
        "# combined_features = list(set(features).union(set(selected_features)))\n",
        "\n",
        "# # Menampilkan fitur terpilih\n",
        "# print(\"Fitur Terpilih Gabungan:\")\n",
        "# print(combined_features)"
      ]
    },
    {
      "cell_type": "code",
      "execution_count": null,
      "id": "f32aa5ef",
      "metadata": {
        "execution": {
          "iopub.execute_input": "2025-01-21T20:34:08.069304Z",
          "iopub.status.busy": "2025-01-21T20:34:08.069106Z",
          "iopub.status.idle": "2025-01-21T20:34:08.072289Z",
          "shell.execute_reply": "2025-01-21T20:34:08.071643Z"
        },
        "papermill": {
          "duration": 0.018881,
          "end_time": "2025-01-21T20:34:08.073584",
          "exception": false,
          "start_time": "2025-01-21T20:34:08.054703",
          "status": "completed"
        },
        "tags": [],
        "id": "f32aa5ef"
      },
      "outputs": [],
      "source": [
        "selected_column = ['temperature-2', 'apparent_temperature_max', 'apparent_temperature_min',\n",
        "       'Voltage-M', 'RPM', 'Power', 'Power_Backup', 'Age', 'hour', 'day',\n",
        "       'day_maintenance', 'month_maintenance', 'weekend', 'end_month',\n",
        "       'time_of_day', 'Country_Machine_1', 'Country_Machine_2',\n",
        "       'Country_Machine_4', 'Status_Sparepart_0', 'Status_Sparepart_2',\n",
        "       'Status_Sparepart_3', 'Status_Sparepart_4', 'Status_Sparepart_5',\n",
        "       'Priority_1', 'Priority_2']"
      ]
    },
    {
      "cell_type": "code",
      "execution_count": null,
      "id": "e5d5e2be",
      "metadata": {
        "execution": {
          "iopub.execute_input": "2025-01-21T20:34:08.102534Z",
          "iopub.status.busy": "2025-01-21T20:34:08.102242Z",
          "iopub.status.idle": "2025-01-21T20:34:08.157105Z",
          "shell.execute_reply": "2025-01-21T20:34:08.156254Z"
        },
        "papermill": {
          "duration": 0.070884,
          "end_time": "2025-01-21T20:34:08.158440",
          "exception": false,
          "start_time": "2025-01-21T20:34:08.087556",
          "status": "completed"
        },
        "tags": [],
        "id": "e5d5e2be"
      },
      "outputs": [],
      "source": [
        "X_train_new = X_train_final[selected_column]"
      ]
    },
    {
      "cell_type": "code",
      "execution_count": null,
      "id": "338aa95c",
      "metadata": {
        "execution": {
          "iopub.execute_input": "2025-01-21T20:34:08.188394Z",
          "iopub.status.busy": "2025-01-21T20:34:08.188133Z",
          "iopub.status.idle": "2025-01-21T20:34:08.191133Z",
          "shell.execute_reply": "2025-01-21T20:34:08.190309Z"
        },
        "papermill": {
          "duration": 0.019064,
          "end_time": "2025-01-21T20:34:08.192467",
          "exception": false,
          "start_time": "2025-01-21T20:34:08.173403",
          "status": "completed"
        },
        "tags": [],
        "id": "338aa95c"
      },
      "outputs": [],
      "source": [
        "# X_train_new = X_train_new.drop(columns=['Voltage-R', 'temperature_10H_max (°C)',\n",
        "#                                        'Vibration-2', 'temperature_range'])"
      ]
    },
    {
      "cell_type": "code",
      "execution_count": null,
      "id": "fd7a8da2",
      "metadata": {
        "execution": {
          "iopub.execute_input": "2025-01-21T20:34:08.221060Z",
          "iopub.status.busy": "2025-01-21T20:34:08.220850Z",
          "iopub.status.idle": "2025-01-21T20:34:10.310088Z",
          "shell.execute_reply": "2025-01-21T20:34:10.309292Z"
        },
        "papermill": {
          "duration": 2.108373,
          "end_time": "2025-01-21T20:34:10.314805",
          "exception": false,
          "start_time": "2025-01-21T20:34:08.206432",
          "status": "completed"
        },
        "tags": [],
        "id": "fd7a8da2",
        "outputId": "3d2a51f0-1c1b-4b57-8351-bb355f661aed"
      },
      "outputs": [
        {
          "data": {
            "image/png": "[encoded data removed]",
            "text/plain": [
              "<Figure size 1000x800 with 2 Axes>"
            ]
          },
          "metadata": {},
          "output_type": "display_data"
        }
      ],
      "source": [
        "# Hitung matriks korelasi\n",
        "correlation_matrix = X_train_new.corr()\n",
        "\n",
        "# Plot heatmap korelasi\n",
        "plt.figure(figsize=(10, 8))\n",
        "sns.heatmap(correlation_matrix, annot=True, fmt=\".2f\", cmap=\"coolwarm\", cbar=True, square=True)\n",
        "plt.title(\"Heatmap Korelasi Variabel X\")\n",
        "plt.show()"
      ]
    },
    {
      "cell_type": "code",
      "execution_count": null,
      "id": "3ea1ab1b",
      "metadata": {
        "execution": {
          "iopub.execute_input": "2025-01-21T20:34:10.354177Z",
          "iopub.status.busy": "2025-01-21T20:34:10.353945Z",
          "iopub.status.idle": "2025-01-21T20:34:10.369533Z",
          "shell.execute_reply": "2025-01-21T20:34:10.368910Z"
        },
        "papermill": {
          "duration": 0.036292,
          "end_time": "2025-01-21T20:34:10.370767",
          "exception": false,
          "start_time": "2025-01-21T20:34:10.334475",
          "status": "completed"
        },
        "tags": [],
        "id": "3ea1ab1b"
      },
      "outputs": [],
      "source": [
        "X_test_new = X_test[selected_column]"
      ]
    },
    {
      "cell_type": "code",
      "execution_count": null,
      "id": "ac7bbf38",
      "metadata": {
        "execution": {
          "iopub.execute_input": "2025-01-21T20:34:10.408822Z",
          "iopub.status.busy": "2025-01-21T20:34:10.408561Z",
          "iopub.status.idle": "2025-01-21T20:34:10.411590Z",
          "shell.execute_reply": "2025-01-21T20:34:10.410881Z"
        },
        "papermill": {
          "duration": 0.023658,
          "end_time": "2025-01-21T20:34:10.412971",
          "exception": false,
          "start_time": "2025-01-21T20:34:10.389313",
          "status": "completed"
        },
        "tags": [],
        "id": "ac7bbf38"
      },
      "outputs": [],
      "source": [
        "# X_test_new = X_test_new.drop(columns=['Voltage-R', 'temperature_10H_max (°C)',\n",
        "#                                        'Vibration-2', 'temperature_range'])"
      ]
    },
    {
      "cell_type": "markdown",
      "id": "1c0beb95",
      "metadata": {
        "papermill": {
          "duration": 0.018278,
          "end_time": "2025-01-21T20:34:10.450272",
          "exception": false,
          "start_time": "2025-01-21T20:34:10.431994",
          "status": "completed"
        },
        "tags": [],
        "id": "1c0beb95"
      },
      "source": [
        "# MODELLING"
      ]
    },
    {
      "cell_type": "code",
      "execution_count": null,
      "id": "a116ef1a",
      "metadata": {
        "execution": {
          "iopub.execute_input": "2025-01-21T20:34:10.488494Z",
          "iopub.status.busy": "2025-01-21T20:34:10.488229Z",
          "iopub.status.idle": "2025-01-21T20:34:10.491596Z",
          "shell.execute_reply": "2025-01-21T20:34:10.490906Z"
        },
        "papermill": {
          "duration": 0.023811,
          "end_time": "2025-01-21T20:34:10.492876",
          "exception": false,
          "start_time": "2025-01-21T20:34:10.469065",
          "status": "completed"
        },
        "tags": [],
        "id": "a116ef1a"
      },
      "outputs": [],
      "source": [
        "from sklearn.ensemble import RandomForestClassifier\n",
        "from sklearn.metrics import classification_report\n",
        "from sklearn.model_selection import train_test_split"
      ]
    },
    {
      "cell_type": "code",
      "execution_count": null,
      "id": "9dd2a7ac",
      "metadata": {
        "execution": {
          "iopub.execute_input": "2025-01-21T20:34:10.531233Z",
          "iopub.status.busy": "2025-01-21T20:34:10.531023Z",
          "iopub.status.idle": "2025-01-21T20:34:10.549498Z",
          "shell.execute_reply": "2025-01-21T20:34:10.548643Z"
        },
        "papermill": {
          "duration": 0.039053,
          "end_time": "2025-01-21T20:34:10.550889",
          "exception": false,
          "start_time": "2025-01-21T20:34:10.511836",
          "status": "completed"
        },
        "tags": [],
        "id": "9dd2a7ac",
        "outputId": "b862ff7c-bf16-488f-8c85-96643e9e6c06"
      },
      "outputs": [
        {
          "data": {
            "text/html": [
              "<div>\n",
              "<style scoped>\n",
              "    .dataframe tbody tr th:only-of-type {\n",
              "        vertical-align: middle;\n",
              "    }\n",
              "\n",
              "    .dataframe tbody tr th {\n",
              "        vertical-align: top;\n",
              "    }\n",
              "\n",
              "    .dataframe thead th {\n",
              "        text-align: right;\n",
              "    }\n",
              "</style>\n",
              "<table border=\"1\" class=\"dataframe\">\n",
              "  <thead>\n",
              "    <tr style=\"text-align: right;\">\n",
              "      <th></th>\n",
              "      <th>temperature-2</th>\n",
              "      <th>apparent_temperature_max</th>\n",
              "      <th>apparent_temperature_min</th>\n",
              "      <th>Voltage-M</th>\n",
              "      <th>RPM</th>\n",
              "      <th>Power</th>\n",
              "      <th>Power_Backup</th>\n",
              "      <th>Age</th>\n",
              "      <th>hour</th>\n",
              "      <th>day</th>\n",
              "      <th>...</th>\n",
              "      <th>Country_Machine_1</th>\n",
              "      <th>Country_Machine_2</th>\n",
              "      <th>Country_Machine_4</th>\n",
              "      <th>Status_Sparepart_0</th>\n",
              "      <th>Status_Sparepart_2</th>\n",
              "      <th>Status_Sparepart_3</th>\n",
              "      <th>Status_Sparepart_4</th>\n",
              "      <th>Status_Sparepart_5</th>\n",
              "      <th>Priority_1</th>\n",
              "      <th>Priority_2</th>\n",
              "    </tr>\n",
              "  </thead>\n",
              "  <tbody>\n",
              "    <tr>\n",
              "      <th>0</th>\n",
              "      <td>0.321196</td>\n",
              "      <td>1.426375</td>\n",
              "      <td>0.051795</td>\n",
              "      <td>0.120778</td>\n",
              "      <td>-0.578670</td>\n",
              "      <td>0.121730</td>\n",
              "      <td>0</td>\n",
              "      <td>0.5</td>\n",
              "      <td>0.416667</td>\n",
              "      <td>1.000000</td>\n",
              "      <td>...</td>\n",
              "      <td>0</td>\n",
              "      <td>1</td>\n",
              "      <td>0</td>\n",
              "      <td>0</td>\n",
              "      <td>0</td>\n",
              "      <td>0</td>\n",
              "      <td>1</td>\n",
              "      <td>0</td>\n",
              "      <td>0</td>\n",
              "      <td>0</td>\n",
              "    </tr>\n",
              "    <tr>\n",
              "      <th>1</th>\n",
              "      <td>-0.112103</td>\n",
              "      <td>0.182619</td>\n",
              "      <td>0.069560</td>\n",
              "      <td>-0.966324</td>\n",
              "      <td>-0.669051</td>\n",
              "      <td>1.442601</td>\n",
              "      <td>0</td>\n",
              "      <td>0.5</td>\n",
              "      <td>-0.416667</td>\n",
              "      <td>0.866667</td>\n",
              "      <td>...</td>\n",
              "      <td>0</td>\n",
              "      <td>1</td>\n",
              "      <td>0</td>\n",
              "      <td>0</td>\n",
              "      <td>0</td>\n",
              "      <td>1</td>\n",
              "      <td>0</td>\n",
              "      <td>0</td>\n",
              "      <td>0</td>\n",
              "      <td>0</td>\n",
              "    </tr>\n",
              "    <tr>\n",
              "      <th>2</th>\n",
              "      <td>0.349120</td>\n",
              "      <td>-0.008061</td>\n",
              "      <td>0.244572</td>\n",
              "      <td>-0.373175</td>\n",
              "      <td>0.164497</td>\n",
              "      <td>-0.155345</td>\n",
              "      <td>0</td>\n",
              "      <td>0.0</td>\n",
              "      <td>0.500000</td>\n",
              "      <td>-0.400000</td>\n",
              "      <td>...</td>\n",
              "      <td>1</td>\n",
              "      <td>0</td>\n",
              "      <td>0</td>\n",
              "      <td>0</td>\n",
              "      <td>0</td>\n",
              "      <td>0</td>\n",
              "      <td>0</td>\n",
              "      <td>0</td>\n",
              "      <td>0</td>\n",
              "      <td>0</td>\n",
              "    </tr>\n",
              "    <tr>\n",
              "      <th>3</th>\n",
              "      <td>-0.217375</td>\n",
              "      <td>0.360891</td>\n",
              "      <td>0.664109</td>\n",
              "      <td>-0.041518</td>\n",
              "      <td>-0.357871</td>\n",
              "      <td>-0.663427</td>\n",
              "      <td>1</td>\n",
              "      <td>0.3</td>\n",
              "      <td>1.000000</td>\n",
              "      <td>0.133333</td>\n",
              "      <td>...</td>\n",
              "      <td>0</td>\n",
              "      <td>0</td>\n",
              "      <td>0</td>\n",
              "      <td>0</td>\n",
              "      <td>0</td>\n",
              "      <td>1</td>\n",
              "      <td>0</td>\n",
              "      <td>0</td>\n",
              "      <td>0</td>\n",
              "      <td>0</td>\n",
              "    </tr>\n",
              "    <tr>\n",
              "      <th>4</th>\n",
              "      <td>0.175480</td>\n",
              "      <td>0.803522</td>\n",
              "      <td>0.395546</td>\n",
              "      <td>0.172740</td>\n",
              "      <td>1.050208</td>\n",
              "      <td>0.380521</td>\n",
              "      <td>0</td>\n",
              "      <td>0.7</td>\n",
              "      <td>0.166667</td>\n",
              "      <td>0.000000</td>\n",
              "      <td>...</td>\n",
              "      <td>0</td>\n",
              "      <td>0</td>\n",
              "      <td>0</td>\n",
              "      <td>1</td>\n",
              "      <td>0</td>\n",
              "      <td>0</td>\n",
              "      <td>0</td>\n",
              "      <td>0</td>\n",
              "      <td>0</td>\n",
              "      <td>1</td>\n",
              "    </tr>\n",
              "  </tbody>\n",
              "</table>\n",
              "<p>5 rows × 25 columns</p>\n",
              "</div>"
            ],
            "text/plain": [
              "   temperature-2  apparent_temperature_max  apparent_temperature_min  \\\n",
              "0       0.321196                  1.426375                  0.051795   \n",
              "1      -0.112103                  0.182619                  0.069560   \n",
              "2       0.349120                 -0.008061                  0.244572   \n",
              "3      -0.217375                  0.360891                  0.664109   \n",
              "4       0.175480                  0.803522                  0.395546   \n",
              "\n",
              "   Voltage-M       RPM     Power  Power_Backup  Age      hour       day  ...  \\\n",
              "0   0.120778 -0.578670  0.121730             0  0.5  0.416667  1.000000  ...   \n",
              "1  -0.966324 -0.669051  1.442601             0  0.5 -0.416667  0.866667  ...   \n",
              "2  -0.373175  0.164497 -0.155345             0  0.0  0.500000 -0.400000  ...   \n",
              "3  -0.041518 -0.357871 -0.663427             1  0.3  1.000000  0.133333  ...   \n",
              "4   0.172740  1.050208  0.380521             0  0.7  0.166667  0.000000  ...   \n",
              "\n",
              "   Country_Machine_1  Country_Machine_2  Country_Machine_4  \\\n",
              "0                  0                  1                  0   \n",
              "1                  0                  1                  0   \n",
              "2                  1                  0                  0   \n",
              "3                  0                  0                  0   \n",
              "4                  0                  0                  0   \n",
              "\n",
              "   Status_Sparepart_0  Status_Sparepart_2  Status_Sparepart_3  \\\n",
              "0                   0                   0                   0   \n",
              "1                   0                   0                   1   \n",
              "2                   0                   0                   0   \n",
              "3                   0                   0                   1   \n",
              "4                   1                   0                   0   \n",
              "\n",
              "   Status_Sparepart_4  Status_Sparepart_5  Priority_1  Priority_2  \n",
              "0                   1                   0           0           0  \n",
              "1                   0                   0           0           0  \n",
              "2                   0                   0           0           0  \n",
              "3                   0                   0           0           0  \n",
              "4                   0                   0           0           1  \n",
              "\n",
              "[5 rows x 25 columns]"
            ]
          },
          "execution_count": 45,
          "metadata": {},
          "output_type": "execute_result"
        }
      ],
      "source": [
        "X_train_new.head()"
      ]
    },
    {
      "cell_type": "markdown",
      "id": "9cdc6af8",
      "metadata": {
        "papermill": {
          "duration": 0.018702,
          "end_time": "2025-01-21T20:34:10.591322",
          "exception": false,
          "start_time": "2025-01-21T20:34:10.572620",
          "status": "completed"
        },
        "tags": [],
        "id": "9cdc6af8"
      },
      "source": [
        "### Regresi Logistik"
      ]
    },
    {
      "cell_type": "code",
      "execution_count": null,
      "id": "087763df",
      "metadata": {
        "execution": {
          "iopub.execute_input": "2025-01-21T20:34:10.630281Z",
          "iopub.status.busy": "2025-01-21T20:34:10.630034Z",
          "iopub.status.idle": "2025-01-21T20:34:19.747647Z",
          "shell.execute_reply": "2025-01-21T20:34:19.746755Z"
        },
        "papermill": {
          "duration": 9.138939,
          "end_time": "2025-01-21T20:34:19.749049",
          "exception": false,
          "start_time": "2025-01-21T20:34:10.610110",
          "status": "completed"
        },
        "tags": [],
        "id": "087763df",
        "outputId": "afeaa371-5f02-427d-b007-52e10a1c24ba"
      },
      "outputs": [
        {
          "data": {
            "text/html": [
              "<style>#sk-container-id-2 {color: black;background-color: white;}#sk-container-id-2 pre{padding: 0;}#sk-container-id-2 div.sk-toggleable {background-color: white;}#sk-container-id-2 label.sk-toggleable__label {cursor: pointer;display: block;width: 100%;margin-bottom: 0;padding: 0.3em;box-sizing: border-box;text-align: center;}#sk-container-id-2 label.sk-toggleable__label-arrow:before {content: \"▸\";float: left;margin-right: 0.25em;color: #696969;}#sk-container-id-2 label.sk-toggleable__label-arrow:hover:before {color: black;}#sk-container-id-2 div.sk-estimator:hover label.sk-toggleable__label-arrow:before {color: black;}#sk-container-id-2 div.sk-toggleable__content {max-height: 0;max-width: 0;overflow: hidden;text-align: left;background-color: #f0f8ff;}#sk-container-id-2 div.sk-toggleable__content pre {margin: 0.2em;color: black;border-radius: 0.25em;background-color: #f0f8ff;}#sk-container-id-2 input.sk-toggleable__control:checked~div.sk-toggleable__content {max-height: 200px;max-width: 100%;overflow: auto;}#sk-container-id-2 input.sk-toggleable__control:checked~label.sk-toggleable__label-arrow:before {content: \"▾\";}#sk-container-id-2 div.sk-estimator input.sk-toggleable__control:checked~label.sk-toggleable__label {background-color: #d4ebff;}#sk-container-id-2 div.sk-label input.sk-toggleable__control:checked~label.sk-toggleable__label {background-color: #d4ebff;}#sk-container-id-2 input.sk-hidden--visually {border: 0;clip: rect(1px 1px 1px 1px);clip: rect(1px, 1px, 1px, 1px);height: 1px;margin: -1px;overflow: hidden;padding: 0;position: absolute;width: 1px;}#sk-container-id-2 div.sk-estimator {font-family: monospace;background-color: #f0f8ff;border: 1px dotted black;border-radius: 0.25em;box-sizing: border-box;margin-bottom: 0.5em;}#sk-container-id-2 div.sk-estimator:hover {background-color: #d4ebff;}#sk-container-id-2 div.sk-parallel-item::after {content: \"\";width: 100%;border-bottom: 1px solid gray;flex-grow: 1;}#sk-container-id-2 div.sk-label:hover label.sk-toggleable__label {background-color: #d4ebff;}#sk-container-id-2 div.sk-serial::before {content: \"\";position: absolute;border-left: 1px solid gray;box-sizing: border-box;top: 0;bottom: 0;left: 50%;z-index: 0;}#sk-container-id-2 div.sk-serial {display: flex;flex-direction: column;align-items: center;background-color: white;padding-right: 0.2em;padding-left: 0.2em;position: relative;}#sk-container-id-2 div.sk-item {position: relative;z-index: 1;}#sk-container-id-2 div.sk-parallel {display: flex;align-items: stretch;justify-content: center;background-color: white;position: relative;}#sk-container-id-2 div.sk-item::before, #sk-container-id-2 div.sk-parallel-item::before {content: \"\";position: absolute;border-left: 1px solid gray;box-sizing: border-box;top: 0;bottom: 0;left: 50%;z-index: -1;}#sk-container-id-2 div.sk-parallel-item {display: flex;flex-direction: column;z-index: 1;position: relative;background-color: white;}#sk-container-id-2 div.sk-parallel-item:first-child::after {align-self: flex-end;width: 50%;}#sk-container-id-2 div.sk-parallel-item:last-child::after {align-self: flex-start;width: 50%;}#sk-container-id-2 div.sk-parallel-item:only-child::after {width: 0;}#sk-container-id-2 div.sk-dashed-wrapped {border: 1px dashed gray;margin: 0 0.4em 0.5em 0.4em;box-sizing: border-box;padding-bottom: 0.4em;background-color: white;}#sk-container-id-2 div.sk-label label {font-family: monospace;font-weight: bold;display: inline-block;line-height: 1.2em;}#sk-container-id-2 div.sk-label-container {text-align: center;}#sk-container-id-2 div.sk-container {/* jupyter's `normalize.less` sets `[hidden] { display: none; }` but bootstrap.min.css set `[hidden] { display: none !important; }` so we also need the `!important` here to be able to override the default hidden behavior on the sphinx rendered scikit-learn.org. See: https://github.com/scikit-learn/scikit-learn/issues/21755 */display: inline-block !important;position: relative;}#sk-container-id-2 div.sk-text-repr-fallback {display: none;}</style><div id=\"sk-container-id-2\" class=\"sk-top-container\"><div class=\"sk-text-repr-fallback\"><pre>LogisticRegression(multi_class=&#x27;multinomial&#x27;, penalty=&#x27;l1&#x27;, random_state=42,\n",
              "                   solver=&#x27;saga&#x27;)</pre><b>In a Jupyter environment, please rerun this cell to show the HTML representation or trust the notebook. <br />On GitHub, the HTML representation is unable to render, please try loading this page with nbviewer.org.</b></div><div class=\"sk-container\" hidden><div class=\"sk-item\"><div class=\"sk-estimator sk-toggleable\"><input class=\"sk-toggleable__control sk-hidden--visually\" id=\"sk-estimator-id-2\" type=\"checkbox\" checked><label for=\"sk-estimator-id-2\" class=\"sk-toggleable__label sk-toggleable__label-arrow\">LogisticRegression</label><div class=\"sk-toggleable__content\"><pre>LogisticRegression(multi_class=&#x27;multinomial&#x27;, penalty=&#x27;l1&#x27;, random_state=42,\n",
              "                   solver=&#x27;saga&#x27;)</pre></div></div></div></div></div>"
            ],
            "text/plain": [
              "LogisticRegression(multi_class='multinomial', penalty='l1', random_state=42,\n",
              "                   solver='saga')"
            ]
          },
          "execution_count": 46,
          "metadata": {},
          "output_type": "execute_result"
        }
      ],
      "source": [
        "from sklearn.linear_model import LogisticRegression\n",
        "\n",
        "# Inisialisasi model Logistic Regression dengan regularisasi L1 (Lasso)\n",
        "lasso = LogisticRegression(penalty='l1', solver='saga', multi_class='multinomial', random_state=42)\n",
        "\n",
        "# Fit model pada data training\n",
        "lasso.fit(X_train_new, y_train_final)"
      ]
    },
    {
      "cell_type": "code",
      "execution_count": null,
      "id": "9130596e",
      "metadata": {
        "execution": {
          "iopub.execute_input": "2025-01-21T20:34:19.804005Z",
          "iopub.status.busy": "2025-01-21T20:34:19.803556Z",
          "iopub.status.idle": "2025-01-21T20:34:19.864061Z",
          "shell.execute_reply": "2025-01-21T20:34:19.862896Z"
        },
        "papermill": {
          "duration": 0.088564,
          "end_time": "2025-01-21T20:34:19.865849",
          "exception": false,
          "start_time": "2025-01-21T20:34:19.777285",
          "status": "completed"
        },
        "tags": [],
        "id": "9130596e",
        "outputId": "fdea7e20-9a94-4606-8219-4bb604e71b53"
      },
      "outputs": [
        {
          "name": "stdout",
          "output_type": "stream",
          "text": [
            "Classification Report:\n",
            "\n",
            "              precision    recall  f1-score   support\n",
            "\n",
            "           0     0.6139    0.3518    0.4472     52646\n",
            "           1     0.1976    0.3523    0.2531     16863\n",
            "           2     0.1907    0.2981    0.2326     16460\n",
            "\n",
            "    accuracy                         0.3416     85969\n",
            "   macro avg     0.3340    0.3340    0.3110     85969\n",
            "weighted avg     0.4512    0.3416    0.3681     85969\n",
            "\n"
          ]
        }
      ],
      "source": [
        "# Prediksi pada data test\n",
        "y_pred_rl = lasso.predict(X_test_new)\n",
        "\n",
        "# Evaluasi menggunakan classification report\n",
        "print(\"Classification Report:\\n\")\n",
        "print(classification_report(y_test, y_pred_rl, digits=4))"
      ]
    },
    {
      "cell_type": "markdown",
      "id": "6e969208",
      "metadata": {
        "papermill": {
          "duration": 0.02489,
          "end_time": "2025-01-21T20:34:19.916541",
          "exception": false,
          "start_time": "2025-01-21T20:34:19.891651",
          "status": "completed"
        },
        "tags": [],
        "id": "6e969208"
      },
      "source": [
        "### Decision Tree"
      ]
    },
    {
      "cell_type": "code",
      "execution_count": null,
      "id": "a611cdc3",
      "metadata": {
        "execution": {
          "iopub.execute_input": "2025-01-21T20:34:19.956667Z",
          "iopub.status.busy": "2025-01-21T20:34:19.956376Z",
          "iopub.status.idle": "2025-01-21T20:34:29.331842Z",
          "shell.execute_reply": "2025-01-21T20:34:29.330981Z"
        },
        "papermill": {
          "duration": 9.397118,
          "end_time": "2025-01-21T20:34:29.333490",
          "exception": false,
          "start_time": "2025-01-21T20:34:19.936372",
          "status": "completed"
        },
        "tags": [],
        "id": "a611cdc3",
        "outputId": "1f4c1ecf-77dc-4553-be14-93025d8b690d"
      },
      "outputs": [
        {
          "data": {
            "text/html": [
              "<style>#sk-container-id-3 {color: black;background-color: white;}#sk-container-id-3 pre{padding: 0;}#sk-container-id-3 div.sk-toggleable {background-color: white;}#sk-container-id-3 label.sk-toggleable__label {cursor: pointer;display: block;width: 100%;margin-bottom: 0;padding: 0.3em;box-sizing: border-box;text-align: center;}#sk-container-id-3 label.sk-toggleable__label-arrow:before {content: \"▸\";float: left;margin-right: 0.25em;color: #696969;}#sk-container-id-3 label.sk-toggleable__label-arrow:hover:before {color: black;}#sk-container-id-3 div.sk-estimator:hover label.sk-toggleable__label-arrow:before {color: black;}#sk-container-id-3 div.sk-toggleable__content {max-height: 0;max-width: 0;overflow: hidden;text-align: left;background-color: #f0f8ff;}#sk-container-id-3 div.sk-toggleable__content pre {margin: 0.2em;color: black;border-radius: 0.25em;background-color: #f0f8ff;}#sk-container-id-3 input.sk-toggleable__control:checked~div.sk-toggleable__content {max-height: 200px;max-width: 100%;overflow: auto;}#sk-container-id-3 input.sk-toggleable__control:checked~label.sk-toggleable__label-arrow:before {content: \"▾\";}#sk-container-id-3 div.sk-estimator input.sk-toggleable__control:checked~label.sk-toggleable__label {background-color: #d4ebff;}#sk-container-id-3 div.sk-label input.sk-toggleable__control:checked~label.sk-toggleable__label {background-color: #d4ebff;}#sk-container-id-3 input.sk-hidden--visually {border: 0;clip: rect(1px 1px 1px 1px);clip: rect(1px, 1px, 1px, 1px);height: 1px;margin: -1px;overflow: hidden;padding: 0;position: absolute;width: 1px;}#sk-container-id-3 div.sk-estimator {font-family: monospace;background-color: #f0f8ff;border: 1px dotted black;border-radius: 0.25em;box-sizing: border-box;margin-bottom: 0.5em;}#sk-container-id-3 div.sk-estimator:hover {background-color: #d4ebff;}#sk-container-id-3 div.sk-parallel-item::after {content: \"\";width: 100%;border-bottom: 1px solid gray;flex-grow: 1;}#sk-container-id-3 div.sk-label:hover label.sk-toggleable__label {background-color: #d4ebff;}#sk-container-id-3 div.sk-serial::before {content: \"\";position: absolute;border-left: 1px solid gray;box-sizing: border-box;top: 0;bottom: 0;left: 50%;z-index: 0;}#sk-container-id-3 div.sk-serial {display: flex;flex-direction: column;align-items: center;background-color: white;padding-right: 0.2em;padding-left: 0.2em;position: relative;}#sk-container-id-3 div.sk-item {position: relative;z-index: 1;}#sk-container-id-3 div.sk-parallel {display: flex;align-items: stretch;justify-content: center;background-color: white;position: relative;}#sk-container-id-3 div.sk-item::before, #sk-container-id-3 div.sk-parallel-item::before {content: \"\";position: absolute;border-left: 1px solid gray;box-sizing: border-box;top: 0;bottom: 0;left: 50%;z-index: -1;}#sk-container-id-3 div.sk-parallel-item {display: flex;flex-direction: column;z-index: 1;position: relative;background-color: white;}#sk-container-id-3 div.sk-parallel-item:first-child::after {align-self: flex-end;width: 50%;}#sk-container-id-3 div.sk-parallel-item:last-child::after {align-self: flex-start;width: 50%;}#sk-container-id-3 div.sk-parallel-item:only-child::after {width: 0;}#sk-container-id-3 div.sk-dashed-wrapped {border: 1px dashed gray;margin: 0 0.4em 0.5em 0.4em;box-sizing: border-box;padding-bottom: 0.4em;background-color: white;}#sk-container-id-3 div.sk-label label {font-family: monospace;font-weight: bold;display: inline-block;line-height: 1.2em;}#sk-container-id-3 div.sk-label-container {text-align: center;}#sk-container-id-3 div.sk-container {/* jupyter's `normalize.less` sets `[hidden] { display: none; }` but bootstrap.min.css set `[hidden] { display: none !important; }` so we also need the `!important` here to be able to override the default hidden behavior on the sphinx rendered scikit-learn.org. See: https://github.com/scikit-learn/scikit-learn/issues/21755 */display: inline-block !important;position: relative;}#sk-container-id-3 div.sk-text-repr-fallback {display: none;}</style><div id=\"sk-container-id-3\" class=\"sk-top-container\"><div class=\"sk-text-repr-fallback\"><pre>DecisionTreeClassifier(random_state=42)</pre><b>In a Jupyter environment, please rerun this cell to show the HTML representation or trust the notebook. <br />On GitHub, the HTML representation is unable to render, please try loading this page with nbviewer.org.</b></div><div class=\"sk-container\" hidden><div class=\"sk-item\"><div class=\"sk-estimator sk-toggleable\"><input class=\"sk-toggleable__control sk-hidden--visually\" id=\"sk-estimator-id-3\" type=\"checkbox\" checked><label for=\"sk-estimator-id-3\" class=\"sk-toggleable__label sk-toggleable__label-arrow\">DecisionTreeClassifier</label><div class=\"sk-toggleable__content\"><pre>DecisionTreeClassifier(random_state=42)</pre></div></div></div></div></div>"
            ],
            "text/plain": [
              "DecisionTreeClassifier(random_state=42)"
            ]
          },
          "execution_count": 48,
          "metadata": {},
          "output_type": "execute_result"
        }
      ],
      "source": [
        "from sklearn.tree import DecisionTreeClassifier\n",
        "\n",
        "# Model Decision Tree\n",
        "dt = DecisionTreeClassifier(random_state=42)\n",
        "dt.fit(X_train_new, y_train_final)"
      ]
    },
    {
      "cell_type": "code",
      "execution_count": null,
      "id": "790970cc",
      "metadata": {
        "execution": {
          "iopub.execute_input": "2025-01-21T20:34:29.373652Z",
          "iopub.status.busy": "2025-01-21T20:34:29.373363Z",
          "iopub.status.idle": "2025-01-21T20:34:29.455398Z",
          "shell.execute_reply": "2025-01-21T20:34:29.454258Z"
        },
        "papermill": {
          "duration": 0.103313,
          "end_time": "2025-01-21T20:34:29.456686",
          "exception": false,
          "start_time": "2025-01-21T20:34:29.353373",
          "status": "completed"
        },
        "tags": [],
        "id": "790970cc",
        "outputId": "94ae68a9-d9b1-4587-d193-3e3314d22d97"
      },
      "outputs": [
        {
          "name": "stdout",
          "output_type": "stream",
          "text": [
            "Classification Report (Decision Tree):\n",
            "\n",
            "              precision    recall  f1-score   support\n",
            "\n",
            "           0     0.6111    0.4214    0.4988     52646\n",
            "           1     0.1940    0.2903    0.2326     16863\n",
            "           2     0.1894    0.2812    0.2264     16460\n",
            "\n",
            "    accuracy                         0.3688     85969\n",
            "   macro avg     0.3315    0.3310    0.3192     85969\n",
            "weighted avg     0.4485    0.3688    0.3944     85969\n",
            "\n"
          ]
        }
      ],
      "source": [
        "# Prediksi\n",
        "y_pred_dt = dt.predict(X_test_new)\n",
        "\n",
        "# Evaluasi\n",
        "print(\"Classification Report (Decision Tree):\\n\")\n",
        "print(classification_report(y_test, y_pred_dt, digits=4))"
      ]
    },
    {
      "cell_type": "markdown",
      "id": "0cbf7a34",
      "metadata": {
        "papermill": {
          "duration": 0.018749,
          "end_time": "2025-01-21T20:34:29.495442",
          "exception": false,
          "start_time": "2025-01-21T20:34:29.476693",
          "status": "completed"
        },
        "tags": [],
        "id": "0cbf7a34"
      },
      "source": [
        "### Random Forest"
      ]
    },
    {
      "cell_type": "code",
      "execution_count": null,
      "id": "4b7901ca",
      "metadata": {
        "execution": {
          "iopub.execute_input": "2025-01-21T20:34:29.533825Z",
          "iopub.status.busy": "2025-01-21T20:34:29.533528Z",
          "iopub.status.idle": "2025-01-21T20:37:48.622861Z",
          "shell.execute_reply": "2025-01-21T20:37:48.621947Z"
        },
        "papermill": {
          "duration": 199.130158,
          "end_time": "2025-01-21T20:37:48.644248",
          "exception": false,
          "start_time": "2025-01-21T20:34:29.514090",
          "status": "completed"
        },
        "tags": [],
        "id": "4b7901ca",
        "outputId": "50a72b6a-c537-4679-93e3-3028cd671010"
      },
      "outputs": [
        {
          "data": {
            "text/html": [
              "<style>#sk-container-id-4 {color: black;background-color: white;}#sk-container-id-4 pre{padding: 0;}#sk-container-id-4 div.sk-toggleable {background-color: white;}#sk-container-id-4 label.sk-toggleable__label {cursor: pointer;display: block;width: 100%;margin-bottom: 0;padding: 0.3em;box-sizing: border-box;text-align: center;}#sk-container-id-4 label.sk-toggleable__label-arrow:before {content: \"▸\";float: left;margin-right: 0.25em;color: #696969;}#sk-container-id-4 label.sk-toggleable__label-arrow:hover:before {color: black;}#sk-container-id-4 div.sk-estimator:hover label.sk-toggleable__label-arrow:before {color: black;}#sk-container-id-4 div.sk-toggleable__content {max-height: 0;max-width: 0;overflow: hidden;text-align: left;background-color: #f0f8ff;}#sk-container-id-4 div.sk-toggleable__content pre {margin: 0.2em;color: black;border-radius: 0.25em;background-color: #f0f8ff;}#sk-container-id-4 input.sk-toggleable__control:checked~div.sk-toggleable__content {max-height: 200px;max-width: 100%;overflow: auto;}#sk-container-id-4 input.sk-toggleable__control:checked~label.sk-toggleable__label-arrow:before {content: \"▾\";}#sk-container-id-4 div.sk-estimator input.sk-toggleable__control:checked~label.sk-toggleable__label {background-color: #d4ebff;}#sk-container-id-4 div.sk-label input.sk-toggleable__control:checked~label.sk-toggleable__label {background-color: #d4ebff;}#sk-container-id-4 input.sk-hidden--visually {border: 0;clip: rect(1px 1px 1px 1px);clip: rect(1px, 1px, 1px, 1px);height: 1px;margin: -1px;overflow: hidden;padding: 0;position: absolute;width: 1px;}#sk-container-id-4 div.sk-estimator {font-family: monospace;background-color: #f0f8ff;border: 1px dotted black;border-radius: 0.25em;box-sizing: border-box;margin-bottom: 0.5em;}#sk-container-id-4 div.sk-estimator:hover {background-color: #d4ebff;}#sk-container-id-4 div.sk-parallel-item::after {content: \"\";width: 100%;border-bottom: 1px solid gray;flex-grow: 1;}#sk-container-id-4 div.sk-label:hover label.sk-toggleable__label {background-color: #d4ebff;}#sk-container-id-4 div.sk-serial::before {content: \"\";position: absolute;border-left: 1px solid gray;box-sizing: border-box;top: 0;bottom: 0;left: 50%;z-index: 0;}#sk-container-id-4 div.sk-serial {display: flex;flex-direction: column;align-items: center;background-color: white;padding-right: 0.2em;padding-left: 0.2em;position: relative;}#sk-container-id-4 div.sk-item {position: relative;z-index: 1;}#sk-container-id-4 div.sk-parallel {display: flex;align-items: stretch;justify-content: center;background-color: white;position: relative;}#sk-container-id-4 div.sk-item::before, #sk-container-id-4 div.sk-parallel-item::before {content: \"\";position: absolute;border-left: 1px solid gray;box-sizing: border-box;top: 0;bottom: 0;left: 50%;z-index: -1;}#sk-container-id-4 div.sk-parallel-item {display: flex;flex-direction: column;z-index: 1;position: relative;background-color: white;}#sk-container-id-4 div.sk-parallel-item:first-child::after {align-self: flex-end;width: 50%;}#sk-container-id-4 div.sk-parallel-item:last-child::after {align-self: flex-start;width: 50%;}#sk-container-id-4 div.sk-parallel-item:only-child::after {width: 0;}#sk-container-id-4 div.sk-dashed-wrapped {border: 1px dashed gray;margin: 0 0.4em 0.5em 0.4em;box-sizing: border-box;padding-bottom: 0.4em;background-color: white;}#sk-container-id-4 div.sk-label label {font-family: monospace;font-weight: bold;display: inline-block;line-height: 1.2em;}#sk-container-id-4 div.sk-label-container {text-align: center;}#sk-container-id-4 div.sk-container {/* jupyter's `normalize.less` sets `[hidden] { display: none; }` but bootstrap.min.css set `[hidden] { display: none !important; }` so we also need the `!important` here to be able to override the default hidden behavior on the sphinx rendered scikit-learn.org. See: https://github.com/scikit-learn/scikit-learn/issues/21755 */display: inline-block !important;position: relative;}#sk-container-id-4 div.sk-text-repr-fallback {display: none;}</style><div id=\"sk-container-id-4\" class=\"sk-top-container\"><div class=\"sk-text-repr-fallback\"><pre>RandomForestClassifier(n_estimators=400, n_jobs=-1, random_state=42)</pre><b>In a Jupyter environment, please rerun this cell to show the HTML representation or trust the notebook. <br />On GitHub, the HTML representation is unable to render, please try loading this page with nbviewer.org.</b></div><div class=\"sk-container\" hidden><div class=\"sk-item\"><div class=\"sk-estimator sk-toggleable\"><input class=\"sk-toggleable__control sk-hidden--visually\" id=\"sk-estimator-id-4\" type=\"checkbox\" checked><label for=\"sk-estimator-id-4\" class=\"sk-toggleable__label sk-toggleable__label-arrow\">RandomForestClassifier</label><div class=\"sk-toggleable__content\"><pre>RandomForestClassifier(n_estimators=400, n_jobs=-1, random_state=42)</pre></div></div></div></div></div>"
            ],
            "text/plain": [
              "RandomForestClassifier(n_estimators=400, n_jobs=-1, random_state=42)"
            ]
          },
          "execution_count": 50,
          "metadata": {},
          "output_type": "execute_result"
        }
      ],
      "source": [
        "# Model Random Forest\n",
        "rf = RandomForestClassifier(random_state=42, n_estimators=400, n_jobs=-1)\n",
        "rf.fit(X_train_new, y_train_final)"
      ]
    },
    {
      "cell_type": "code",
      "execution_count": null,
      "id": "26f3c355",
      "metadata": {
        "execution": {
          "iopub.execute_input": "2025-01-21T20:37:48.684631Z",
          "iopub.status.busy": "2025-01-21T20:37:48.684347Z",
          "iopub.status.idle": "2025-01-21T20:37:54.038466Z",
          "shell.execute_reply": "2025-01-21T20:37:54.037402Z"
        },
        "papermill": {
          "duration": 5.375385,
          "end_time": "2025-01-21T20:37:54.039884",
          "exception": false,
          "start_time": "2025-01-21T20:37:48.664499",
          "status": "completed"
        },
        "tags": [],
        "id": "26f3c355",
        "outputId": "af22b7a7-30a4-465c-8fae-c1d529d2440d"
      },
      "outputs": [
        {
          "name": "stdout",
          "output_type": "stream",
          "text": [
            "Classification Report:\n",
            "\n",
            "              precision    recall  f1-score   support\n",
            "\n",
            "           0     0.6129    0.8733    0.7203     52646\n",
            "           1     0.1891    0.0708    0.1030     16863\n",
            "           2     0.1995    0.0563    0.0878     16460\n",
            "\n",
            "    accuracy                         0.5595     85969\n",
            "   macro avg     0.3338    0.3335    0.3037     85969\n",
            "weighted avg     0.4506    0.5595    0.4781     85969\n",
            "\n"
          ]
        }
      ],
      "source": [
        "y_pred_rf = rf.predict(X_test_new)\n",
        "\n",
        "# Evaluasi\n",
        "print(\"Classification Report:\\n\")\n",
        "print(classification_report(y_test, y_pred_rf, digits=4))"
      ]
    },
    {
      "cell_type": "markdown",
      "id": "e005b10c",
      "metadata": {
        "papermill": {
          "duration": 0.01999,
          "end_time": "2025-01-21T20:37:54.080176",
          "exception": false,
          "start_time": "2025-01-21T20:37:54.060186",
          "status": "completed"
        },
        "tags": [],
        "id": "e005b10c"
      },
      "source": [
        "### KNN"
      ]
    },
    {
      "cell_type": "code",
      "execution_count": null,
      "id": "c936ebd3",
      "metadata": {
        "execution": {
          "iopub.execute_input": "2025-01-21T20:37:54.119587Z",
          "iopub.status.busy": "2025-01-21T20:37:54.119301Z",
          "iopub.status.idle": "2025-01-21T20:37:54.181853Z",
          "shell.execute_reply": "2025-01-21T20:37:54.181064Z"
        },
        "papermill": {
          "duration": 0.084286,
          "end_time": "2025-01-21T20:37:54.183588",
          "exception": false,
          "start_time": "2025-01-21T20:37:54.099302",
          "status": "completed"
        },
        "tags": [],
        "id": "c936ebd3",
        "outputId": "f6fe6b50-1b60-4386-9ca4-48ab64721597"
      },
      "outputs": [
        {
          "data": {
            "text/html": [
              "<style>#sk-container-id-5 {color: black;background-color: white;}#sk-container-id-5 pre{padding: 0;}#sk-container-id-5 div.sk-toggleable {background-color: white;}#sk-container-id-5 label.sk-toggleable__label {cursor: pointer;display: block;width: 100%;margin-bottom: 0;padding: 0.3em;box-sizing: border-box;text-align: center;}#sk-container-id-5 label.sk-toggleable__label-arrow:before {content: \"▸\";float: left;margin-right: 0.25em;color: #696969;}#sk-container-id-5 label.sk-toggleable__label-arrow:hover:before {color: black;}#sk-container-id-5 div.sk-estimator:hover label.sk-toggleable__label-arrow:before {color: black;}#sk-container-id-5 div.sk-toggleable__content {max-height: 0;max-width: 0;overflow: hidden;text-align: left;background-color: #f0f8ff;}#sk-container-id-5 div.sk-toggleable__content pre {margin: 0.2em;color: black;border-radius: 0.25em;background-color: #f0f8ff;}#sk-container-id-5 input.sk-toggleable__control:checked~div.sk-toggleable__content {max-height: 200px;max-width: 100%;overflow: auto;}#sk-container-id-5 input.sk-toggleable__control:checked~label.sk-toggleable__label-arrow:before {content: \"▾\";}#sk-container-id-5 div.sk-estimator input.sk-toggleable__control:checked~label.sk-toggleable__label {background-color: #d4ebff;}#sk-container-id-5 div.sk-label input.sk-toggleable__control:checked~label.sk-toggleable__label {background-color: #d4ebff;}#sk-container-id-5 input.sk-hidden--visually {border: 0;clip: rect(1px 1px 1px 1px);clip: rect(1px, 1px, 1px, 1px);height: 1px;margin: -1px;overflow: hidden;padding: 0;position: absolute;width: 1px;}#sk-container-id-5 div.sk-estimator {font-family: monospace;background-color: #f0f8ff;border: 1px dotted black;border-radius: 0.25em;box-sizing: border-box;margin-bottom: 0.5em;}#sk-container-id-5 div.sk-estimator:hover {background-color: #d4ebff;}#sk-container-id-5 div.sk-parallel-item::after {content: \"\";width: 100%;border-bottom: 1px solid gray;flex-grow: 1;}#sk-container-id-5 div.sk-label:hover label.sk-toggleable__label {background-color: #d4ebff;}#sk-container-id-5 div.sk-serial::before {content: \"\";position: absolute;border-left: 1px solid gray;box-sizing: border-box;top: 0;bottom: 0;left: 50%;z-index: 0;}#sk-container-id-5 div.sk-serial {display: flex;flex-direction: column;align-items: center;background-color: white;padding-right: 0.2em;padding-left: 0.2em;position: relative;}#sk-container-id-5 div.sk-item {position: relative;z-index: 1;}#sk-container-id-5 div.sk-parallel {display: flex;align-items: stretch;justify-content: center;background-color: white;position: relative;}#sk-container-id-5 div.sk-item::before, #sk-container-id-5 div.sk-parallel-item::before {content: \"\";position: absolute;border-left: 1px solid gray;box-sizing: border-box;top: 0;bottom: 0;left: 50%;z-index: -1;}#sk-container-id-5 div.sk-parallel-item {display: flex;flex-direction: column;z-index: 1;position: relative;background-color: white;}#sk-container-id-5 div.sk-parallel-item:first-child::after {align-self: flex-end;width: 50%;}#sk-container-id-5 div.sk-parallel-item:last-child::after {align-self: flex-start;width: 50%;}#sk-container-id-5 div.sk-parallel-item:only-child::after {width: 0;}#sk-container-id-5 div.sk-dashed-wrapped {border: 1px dashed gray;margin: 0 0.4em 0.5em 0.4em;box-sizing: border-box;padding-bottom: 0.4em;background-color: white;}#sk-container-id-5 div.sk-label label {font-family: monospace;font-weight: bold;display: inline-block;line-height: 1.2em;}#sk-container-id-5 div.sk-label-container {text-align: center;}#sk-container-id-5 div.sk-container {/* jupyter's `normalize.less` sets `[hidden] { display: none; }` but bootstrap.min.css set `[hidden] { display: none !important; }` so we also need the `!important` here to be able to override the default hidden behavior on the sphinx rendered scikit-learn.org. See: https://github.com/scikit-learn/scikit-learn/issues/21755 */display: inline-block !important;position: relative;}#sk-container-id-5 div.sk-text-repr-fallback {display: none;}</style><div id=\"sk-container-id-5\" class=\"sk-top-container\"><div class=\"sk-text-repr-fallback\"><pre>KNeighborsClassifier()</pre><b>In a Jupyter environment, please rerun this cell to show the HTML representation or trust the notebook. <br />On GitHub, the HTML representation is unable to render, please try loading this page with nbviewer.org.</b></div><div class=\"sk-container\" hidden><div class=\"sk-item\"><div class=\"sk-estimator sk-toggleable\"><input class=\"sk-toggleable__control sk-hidden--visually\" id=\"sk-estimator-id-5\" type=\"checkbox\" checked><label for=\"sk-estimator-id-5\" class=\"sk-toggleable__label sk-toggleable__label-arrow\">KNeighborsClassifier</label><div class=\"sk-toggleable__content\"><pre>KNeighborsClassifier()</pre></div></div></div></div></div>"
            ],
            "text/plain": [
              "KNeighborsClassifier()"
            ]
          },
          "execution_count": 52,
          "metadata": {},
          "output_type": "execute_result"
        }
      ],
      "source": [
        "from sklearn.neighbors import KNeighborsClassifier\n",
        "\n",
        "# Model KNN\n",
        "knn_model = KNeighborsClassifier(n_neighbors=5)\n",
        "knn_model.fit(X_train_new, y_train_final)"
      ]
    },
    {
      "cell_type": "code",
      "execution_count": null,
      "id": "f83ddef8",
      "metadata": {
        "execution": {
          "iopub.execute_input": "2025-01-21T20:37:54.223814Z",
          "iopub.status.busy": "2025-01-21T20:37:54.223541Z",
          "iopub.status.idle": "2025-01-21T20:38:52.138884Z",
          "shell.execute_reply": "2025-01-21T20:38:52.137966Z"
        },
        "papermill": {
          "duration": 57.956649,
          "end_time": "2025-01-21T20:38:52.160148",
          "exception": false,
          "start_time": "2025-01-21T20:37:54.203499",
          "status": "completed"
        },
        "tags": [],
        "id": "f83ddef8",
        "outputId": "5a1e4839-7f41-40d5-84e8-d7dd3e032656"
      },
      "outputs": [
        {
          "name": "stdout",
          "output_type": "stream",
          "text": [
            "Classification Report (KNN):\n",
            "\n",
            "              precision    recall  f1-score   support\n",
            "\n",
            "           0     0.6116    0.4186    0.4970     52646\n",
            "           1     0.1957    0.3291    0.2455     16863\n",
            "           2     0.1869    0.2450    0.2120     16460\n",
            "\n",
            "    accuracy                         0.3678     85969\n",
            "   macro avg     0.3314    0.3309    0.3181     85969\n",
            "weighted avg     0.4487    0.3678    0.3931     85969\n",
            "\n"
          ]
        }
      ],
      "source": [
        "# Prediksi\n",
        "y_pred_knn = knn_model.predict(X_test_new)\n",
        "\n",
        "# Evaluasi\n",
        "print(\"Classification Report (KNN):\\n\")\n",
        "print(classification_report(y_test, y_pred_knn, digits=4))"
      ]
    },
    {
      "cell_type": "markdown",
      "id": "117b104f",
      "metadata": {
        "papermill": {
          "duration": 0.01905,
          "end_time": "2025-01-21T20:38:52.198547",
          "exception": false,
          "start_time": "2025-01-21T20:38:52.179497",
          "status": "completed"
        },
        "tags": [],
        "id": "117b104f"
      },
      "source": [
        "### AdaBoost"
      ]
    },
    {
      "cell_type": "code",
      "execution_count": null,
      "id": "aef713a8",
      "metadata": {
        "execution": {
          "iopub.execute_input": "2025-01-21T20:38:52.238394Z",
          "iopub.status.busy": "2025-01-21T20:38:52.238095Z",
          "iopub.status.idle": "2025-01-21T20:40:21.965384Z",
          "shell.execute_reply": "2025-01-21T20:40:21.964551Z"
        },
        "papermill": {
          "duration": 89.768758,
          "end_time": "2025-01-21T20:40:21.987196",
          "exception": false,
          "start_time": "2025-01-21T20:38:52.218438",
          "status": "completed"
        },
        "tags": [],
        "id": "aef713a8",
        "outputId": "8bef04a1-8ba6-4f1c-981c-9b689eed5440"
      },
      "outputs": [
        {
          "data": {
            "text/html": [
              "<style>#sk-container-id-6 {color: black;background-color: white;}#sk-container-id-6 pre{padding: 0;}#sk-container-id-6 div.sk-toggleable {background-color: white;}#sk-container-id-6 label.sk-toggleable__label {cursor: pointer;display: block;width: 100%;margin-bottom: 0;padding: 0.3em;box-sizing: border-box;text-align: center;}#sk-container-id-6 label.sk-toggleable__label-arrow:before {content: \"▸\";float: left;margin-right: 0.25em;color: #696969;}#sk-container-id-6 label.sk-toggleable__label-arrow:hover:before {color: black;}#sk-container-id-6 div.sk-estimator:hover label.sk-toggleable__label-arrow:before {color: black;}#sk-container-id-6 div.sk-toggleable__content {max-height: 0;max-width: 0;overflow: hidden;text-align: left;background-color: #f0f8ff;}#sk-container-id-6 div.sk-toggleable__content pre {margin: 0.2em;color: black;border-radius: 0.25em;background-color: #f0f8ff;}#sk-container-id-6 input.sk-toggleable__control:checked~div.sk-toggleable__content {max-height: 200px;max-width: 100%;overflow: auto;}#sk-container-id-6 input.sk-toggleable__control:checked~label.sk-toggleable__label-arrow:before {content: \"▾\";}#sk-container-id-6 div.sk-estimator input.sk-toggleable__control:checked~label.sk-toggleable__label {background-color: #d4ebff;}#sk-container-id-6 div.sk-label input.sk-toggleable__control:checked~label.sk-toggleable__label {background-color: #d4ebff;}#sk-container-id-6 input.sk-hidden--visually {border: 0;clip: rect(1px 1px 1px 1px);clip: rect(1px, 1px, 1px, 1px);height: 1px;margin: -1px;overflow: hidden;padding: 0;position: absolute;width: 1px;}#sk-container-id-6 div.sk-estimator {font-family: monospace;background-color: #f0f8ff;border: 1px dotted black;border-radius: 0.25em;box-sizing: border-box;margin-bottom: 0.5em;}#sk-container-id-6 div.sk-estimator:hover {background-color: #d4ebff;}#sk-container-id-6 div.sk-parallel-item::after {content: \"\";width: 100%;border-bottom: 1px solid gray;flex-grow: 1;}#sk-container-id-6 div.sk-label:hover label.sk-toggleable__label {background-color: #d4ebff;}#sk-container-id-6 div.sk-serial::before {content: \"\";position: absolute;border-left: 1px solid gray;box-sizing: border-box;top: 0;bottom: 0;left: 50%;z-index: 0;}#sk-container-id-6 div.sk-serial {display: flex;flex-direction: column;align-items: center;background-color: white;padding-right: 0.2em;padding-left: 0.2em;position: relative;}#sk-container-id-6 div.sk-item {position: relative;z-index: 1;}#sk-container-id-6 div.sk-parallel {display: flex;align-items: stretch;justify-content: center;background-color: white;position: relative;}#sk-container-id-6 div.sk-item::before, #sk-container-id-6 div.sk-parallel-item::before {content: \"\";position: absolute;border-left: 1px solid gray;box-sizing: border-box;top: 0;bottom: 0;left: 50%;z-index: -1;}#sk-container-id-6 div.sk-parallel-item {display: flex;flex-direction: column;z-index: 1;position: relative;background-color: white;}#sk-container-id-6 div.sk-parallel-item:first-child::after {align-self: flex-end;width: 50%;}#sk-container-id-6 div.sk-parallel-item:last-child::after {align-self: flex-start;width: 50%;}#sk-container-id-6 div.sk-parallel-item:only-child::after {width: 0;}#sk-container-id-6 div.sk-dashed-wrapped {border: 1px dashed gray;margin: 0 0.4em 0.5em 0.4em;box-sizing: border-box;padding-bottom: 0.4em;background-color: white;}#sk-container-id-6 div.sk-label label {font-family: monospace;font-weight: bold;display: inline-block;line-height: 1.2em;}#sk-container-id-6 div.sk-label-container {text-align: center;}#sk-container-id-6 div.sk-container {/* jupyter's `normalize.less` sets `[hidden] { display: none; }` but bootstrap.min.css set `[hidden] { display: none !important; }` so we also need the `!important` here to be able to override the default hidden behavior on the sphinx rendered scikit-learn.org. See: https://github.com/scikit-learn/scikit-learn/issues/21755 */display: inline-block !important;position: relative;}#sk-container-id-6 div.sk-text-repr-fallback {display: none;}</style><div id=\"sk-container-id-6\" class=\"sk-top-container\"><div class=\"sk-text-repr-fallback\"><pre>AdaBoostClassifier(base_estimator=DecisionTreeClassifier(max_depth=1),\n",
              "                   n_estimators=200, random_state=42)</pre><b>In a Jupyter environment, please rerun this cell to show the HTML representation or trust the notebook. <br />On GitHub, the HTML representation is unable to render, please try loading this page with nbviewer.org.</b></div><div class=\"sk-container\" hidden><div class=\"sk-item sk-dashed-wrapped\"><div class=\"sk-label-container\"><div class=\"sk-label sk-toggleable\"><input class=\"sk-toggleable__control sk-hidden--visually\" id=\"sk-estimator-id-6\" type=\"checkbox\" ><label for=\"sk-estimator-id-6\" class=\"sk-toggleable__label sk-toggleable__label-arrow\">AdaBoostClassifier</label><div class=\"sk-toggleable__content\"><pre>AdaBoostClassifier(base_estimator=DecisionTreeClassifier(max_depth=1),\n",
              "                   n_estimators=200, random_state=42)</pre></div></div></div><div class=\"sk-parallel\"><div class=\"sk-parallel-item\"><div class=\"sk-item\"><div class=\"sk-label-container\"><div class=\"sk-label sk-toggleable\"><input class=\"sk-toggleable__control sk-hidden--visually\" id=\"sk-estimator-id-7\" type=\"checkbox\" ><label for=\"sk-estimator-id-7\" class=\"sk-toggleable__label sk-toggleable__label-arrow\">base_estimator: DecisionTreeClassifier</label><div class=\"sk-toggleable__content\"><pre>DecisionTreeClassifier(max_depth=1)</pre></div></div></div><div class=\"sk-serial\"><div class=\"sk-item\"><div class=\"sk-estimator sk-toggleable\"><input class=\"sk-toggleable__control sk-hidden--visually\" id=\"sk-estimator-id-8\" type=\"checkbox\" ><label for=\"sk-estimator-id-8\" class=\"sk-toggleable__label sk-toggleable__label-arrow\">DecisionTreeClassifier</label><div class=\"sk-toggleable__content\"><pre>DecisionTreeClassifier(max_depth=1)</pre></div></div></div></div></div></div></div></div></div></div>"
            ],
            "text/plain": [
              "AdaBoostClassifier(base_estimator=DecisionTreeClassifier(max_depth=1),\n",
              "                   n_estimators=200, random_state=42)"
            ]
          },
          "execution_count": 54,
          "metadata": {},
          "output_type": "execute_result"
        }
      ],
      "source": [
        "from sklearn.ensemble import AdaBoostClassifier\n",
        "\n",
        "# Model AdaBoost dengan Decision Tree sebagai base estimator\n",
        "ab = AdaBoostClassifier(base_estimator=DecisionTreeClassifier(max_depth=1),\n",
        "                        n_estimators=200,\n",
        "                        random_state=42)\n",
        "ab.fit(X_train_new, y_train_final)"
      ]
    },
    {
      "cell_type": "code",
      "execution_count": null,
      "id": "383bd861",
      "metadata": {
        "execution": {
          "iopub.execute_input": "2025-01-21T20:40:22.026968Z",
          "iopub.status.busy": "2025-01-21T20:40:22.026636Z",
          "iopub.status.idle": "2025-01-21T20:40:23.888556Z",
          "shell.execute_reply": "2025-01-21T20:40:23.887224Z"
        },
        "papermill": {
          "duration": 1.883233,
          "end_time": "2025-01-21T20:40:23.889984",
          "exception": false,
          "start_time": "2025-01-21T20:40:22.006751",
          "status": "completed"
        },
        "tags": [],
        "id": "383bd861",
        "outputId": "58a438b4-ef70-4253-b828-79fab6c67106"
      },
      "outputs": [
        {
          "name": "stdout",
          "output_type": "stream",
          "text": [
            "Classification Report (AdaBoost):\n",
            "\n",
            "              precision    recall  f1-score   support\n",
            "\n",
            "           0     0.6124    0.3108    0.4123     52646\n",
            "           1     0.1959    0.3459    0.2502     16863\n",
            "           2     0.1924    0.3447    0.2469     16460\n",
            "\n",
            "    accuracy                         0.3241     85969\n",
            "   macro avg     0.3336    0.3338    0.3031     85969\n",
            "weighted avg     0.4503    0.3241    0.3488     85969\n",
            "\n"
          ]
        }
      ],
      "source": [
        "# Prediksi\n",
        "y_pred_ab = ab.predict(X_test_new)\n",
        "\n",
        "# Evaluasi\n",
        "print(\"Classification Report (AdaBoost):\\n\")\n",
        "print(classification_report(y_test, y_pred_ab, digits=4))"
      ]
    },
    {
      "cell_type": "markdown",
      "id": "deb48ff4",
      "metadata": {
        "papermill": {
          "duration": 0.020311,
          "end_time": "2025-01-21T20:40:23.931930",
          "exception": false,
          "start_time": "2025-01-21T20:40:23.911619",
          "status": "completed"
        },
        "tags": [],
        "id": "deb48ff4"
      },
      "source": [
        "### XG Boost"
      ]
    },
    {
      "cell_type": "code",
      "execution_count": null,
      "id": "71651aa8",
      "metadata": {
        "execution": {
          "iopub.execute_input": "2025-01-21T20:40:23.971925Z",
          "iopub.status.busy": "2025-01-21T20:40:23.971690Z",
          "iopub.status.idle": "2025-01-21T20:40:37.855621Z",
          "shell.execute_reply": "2025-01-21T20:40:37.854819Z"
        },
        "papermill": {
          "duration": 13.906119,
          "end_time": "2025-01-21T20:40:37.857465",
          "exception": false,
          "start_time": "2025-01-21T20:40:23.951346",
          "status": "completed"
        },
        "tags": [],
        "id": "71651aa8",
        "outputId": "1d8f7acb-35e6-4b97-802c-8b1fb6b389d8"
      },
      "outputs": [
        {
          "data": {
            "text/html": [
              "<style>#sk-container-id-7 {color: black;background-color: white;}#sk-container-id-7 pre{padding: 0;}#sk-container-id-7 div.sk-toggleable {background-color: white;}#sk-container-id-7 label.sk-toggleable__label {cursor: pointer;display: block;width: 100%;margin-bottom: 0;padding: 0.3em;box-sizing: border-box;text-align: center;}#sk-container-id-7 label.sk-toggleable__label-arrow:before {content: \"▸\";float: left;margin-right: 0.25em;color: #696969;}#sk-container-id-7 label.sk-toggleable__label-arrow:hover:before {color: black;}#sk-container-id-7 div.sk-estimator:hover label.sk-toggleable__label-arrow:before {color: black;}#sk-container-id-7 div.sk-toggleable__content {max-height: 0;max-width: 0;overflow: hidden;text-align: left;background-color: #f0f8ff;}#sk-container-id-7 div.sk-toggleable__content pre {margin: 0.2em;color: black;border-radius: 0.25em;background-color: #f0f8ff;}#sk-container-id-7 input.sk-toggleable__control:checked~div.sk-toggleable__content {max-height: 200px;max-width: 100%;overflow: auto;}#sk-container-id-7 input.sk-toggleable__control:checked~label.sk-toggleable__label-arrow:before {content: \"▾\";}#sk-container-id-7 div.sk-estimator input.sk-toggleable__control:checked~label.sk-toggleable__label {background-color: #d4ebff;}#sk-container-id-7 div.sk-label input.sk-toggleable__control:checked~label.sk-toggleable__label {background-color: #d4ebff;}#sk-container-id-7 input.sk-hidden--visually {border: 0;clip: rect(1px 1px 1px 1px);clip: rect(1px, 1px, 1px, 1px);height: 1px;margin: -1px;overflow: hidden;padding: 0;position: absolute;width: 1px;}#sk-container-id-7 div.sk-estimator {font-family: monospace;background-color: #f0f8ff;border: 1px dotted black;border-radius: 0.25em;box-sizing: border-box;margin-bottom: 0.5em;}#sk-container-id-7 div.sk-estimator:hover {background-color: #d4ebff;}#sk-container-id-7 div.sk-parallel-item::after {content: \"\";width: 100%;border-bottom: 1px solid gray;flex-grow: 1;}#sk-container-id-7 div.sk-label:hover label.sk-toggleable__label {background-color: #d4ebff;}#sk-container-id-7 div.sk-serial::before {content: \"\";position: absolute;border-left: 1px solid gray;box-sizing: border-box;top: 0;bottom: 0;left: 50%;z-index: 0;}#sk-container-id-7 div.sk-serial {display: flex;flex-direction: column;align-items: center;background-color: white;padding-right: 0.2em;padding-left: 0.2em;position: relative;}#sk-container-id-7 div.sk-item {position: relative;z-index: 1;}#sk-container-id-7 div.sk-parallel {display: flex;align-items: stretch;justify-content: center;background-color: white;position: relative;}#sk-container-id-7 div.sk-item::before, #sk-container-id-7 div.sk-parallel-item::before {content: \"\";position: absolute;border-left: 1px solid gray;box-sizing: border-box;top: 0;bottom: 0;left: 50%;z-index: -1;}#sk-container-id-7 div.sk-parallel-item {display: flex;flex-direction: column;z-index: 1;position: relative;background-color: white;}#sk-container-id-7 div.sk-parallel-item:first-child::after {align-self: flex-end;width: 50%;}#sk-container-id-7 div.sk-parallel-item:last-child::after {align-self: flex-start;width: 50%;}#sk-container-id-7 div.sk-parallel-item:only-child::after {width: 0;}#sk-container-id-7 div.sk-dashed-wrapped {border: 1px dashed gray;margin: 0 0.4em 0.5em 0.4em;box-sizing: border-box;padding-bottom: 0.4em;background-color: white;}#sk-container-id-7 div.sk-label label {font-family: monospace;font-weight: bold;display: inline-block;line-height: 1.2em;}#sk-container-id-7 div.sk-label-container {text-align: center;}#sk-container-id-7 div.sk-container {/* jupyter's `normalize.less` sets `[hidden] { display: none; }` but bootstrap.min.css set `[hidden] { display: none !important; }` so we also need the `!important` here to be able to override the default hidden behavior on the sphinx rendered scikit-learn.org. See: https://github.com/scikit-learn/scikit-learn/issues/21755 */display: inline-block !important;position: relative;}#sk-container-id-7 div.sk-text-repr-fallback {display: none;}</style><div id=\"sk-container-id-7\" class=\"sk-top-container\"><div class=\"sk-text-repr-fallback\"><pre>XGBClassifier(base_score=None, booster=None, callbacks=None,\n",
              "              colsample_bylevel=None, colsample_bynode=None,\n",
              "              colsample_bytree=None, device=None, early_stopping_rounds=None,\n",
              "              enable_categorical=False, eval_metric=&#x27;mlogloss&#x27;,\n",
              "              feature_types=None, gamma=None, grow_policy=None,\n",
              "              importance_type=None, interaction_constraints=None,\n",
              "              learning_rate=0.01, max_bin=None, max_cat_threshold=None,\n",
              "              max_cat_to_onehot=None, max_delta_step=None, max_depth=None,\n",
              "              max_leaves=None, min_child_weight=None, missing=nan,\n",
              "              monotone_constraints=None, multi_strategy=None, n_estimators=200,\n",
              "              n_jobs=None, num_parallel_tree=None, objective=&#x27;multi:softprob&#x27;, ...)</pre><b>In a Jupyter environment, please rerun this cell to show the HTML representation or trust the notebook. <br />On GitHub, the HTML representation is unable to render, please try loading this page with nbviewer.org.</b></div><div class=\"sk-container\" hidden><div class=\"sk-item\"><div class=\"sk-estimator sk-toggleable\"><input class=\"sk-toggleable__control sk-hidden--visually\" id=\"sk-estimator-id-9\" type=\"checkbox\" checked><label for=\"sk-estimator-id-9\" class=\"sk-toggleable__label sk-toggleable__label-arrow\">XGBClassifier</label><div class=\"sk-toggleable__content\"><pre>XGBClassifier(base_score=None, booster=None, callbacks=None,\n",
              "              colsample_bylevel=None, colsample_bynode=None,\n",
              "              colsample_bytree=None, device=None, early_stopping_rounds=None,\n",
              "              enable_categorical=False, eval_metric=&#x27;mlogloss&#x27;,\n",
              "              feature_types=None, gamma=None, grow_policy=None,\n",
              "              importance_type=None, interaction_constraints=None,\n",
              "              learning_rate=0.01, max_bin=None, max_cat_threshold=None,\n",
              "              max_cat_to_onehot=None, max_delta_step=None, max_depth=None,\n",
              "              max_leaves=None, min_child_weight=None, missing=nan,\n",
              "              monotone_constraints=None, multi_strategy=None, n_estimators=200,\n",
              "              n_jobs=None, num_parallel_tree=None, objective=&#x27;multi:softprob&#x27;, ...)</pre></div></div></div></div></div>"
            ],
            "text/plain": [
              "XGBClassifier(base_score=None, booster=None, callbacks=None,\n",
              "              colsample_bylevel=None, colsample_bynode=None,\n",
              "              colsample_bytree=None, device=None, early_stopping_rounds=None,\n",
              "              enable_categorical=False, eval_metric='mlogloss',\n",
              "              feature_types=None, gamma=None, grow_policy=None,\n",
              "              importance_type=None, interaction_constraints=None,\n",
              "              learning_rate=0.01, max_bin=None, max_cat_threshold=None,\n",
              "              max_cat_to_onehot=None, max_delta_step=None, max_depth=None,\n",
              "              max_leaves=None, min_child_weight=None, missing=nan,\n",
              "              monotone_constraints=None, multi_strategy=None, n_estimators=200,\n",
              "              n_jobs=None, num_parallel_tree=None, objective='multi:softprob', ...)"
            ]
          },
          "execution_count": 56,
          "metadata": {},
          "output_type": "execute_result"
        }
      ],
      "source": [
        "from xgboost import XGBClassifier\n",
        "\n",
        "# Model XGBoost\n",
        "xgb = XGBClassifier(n_estimators=200, learning_rate=0.01, random_state=42, use_label_encoder=False, eval_metric='mlogloss')\n",
        "xgb.fit(X_train_new, y_train_final)"
      ]
    },
    {
      "cell_type": "code",
      "execution_count": null,
      "id": "347798d6",
      "metadata": {
        "execution": {
          "iopub.execute_input": "2025-01-21T20:40:37.901232Z",
          "iopub.status.busy": "2025-01-21T20:40:37.900959Z",
          "iopub.status.idle": "2025-01-21T20:40:38.395360Z",
          "shell.execute_reply": "2025-01-21T20:40:38.394429Z"
        },
        "papermill": {
          "duration": 0.517768,
          "end_time": "2025-01-21T20:40:38.396771",
          "exception": false,
          "start_time": "2025-01-21T20:40:37.879003",
          "status": "completed"
        },
        "tags": [],
        "id": "347798d6",
        "outputId": "d1402533-daa4-431d-f78e-41e6341642f8"
      },
      "outputs": [
        {
          "name": "stdout",
          "output_type": "stream",
          "text": [
            "Classification Report (XGBoost):\n",
            "\n",
            "              precision    recall  f1-score   support\n",
            "\n",
            "           0     0.6090    0.2999    0.4019     52646\n",
            "           1     0.1974    0.3624    0.2556     16863\n",
            "           2     0.1915    0.3384    0.2446     16460\n",
            "\n",
            "    accuracy                         0.3196     85969\n",
            "   macro avg     0.3326    0.3336    0.3007     85969\n",
            "weighted avg     0.4483    0.3196    0.3431     85969\n",
            "\n"
          ]
        }
      ],
      "source": [
        "# Prediksi\n",
        "y_pred_xgb = xgb.predict(X_test_new)\n",
        "\n",
        "# Evaluasi\n",
        "print(\"Classification Report (XGBoost):\\n\")\n",
        "print(classification_report(y_test, y_pred_xgb, digits=4))"
      ]
    },
    {
      "cell_type": "markdown",
      "id": "70add837",
      "metadata": {
        "papermill": {
          "duration": 0.020144,
          "end_time": "2025-01-21T20:40:38.437863",
          "exception": false,
          "start_time": "2025-01-21T20:40:38.417719",
          "status": "completed"
        },
        "tags": [],
        "id": "70add837"
      },
      "source": [
        "### CatBoost"
      ]
    },
    {
      "cell_type": "code",
      "execution_count": null,
      "id": "9acfb3c6",
      "metadata": {
        "execution": {
          "iopub.execute_input": "2025-01-21T20:40:38.478853Z",
          "iopub.status.busy": "2025-01-21T20:40:38.478582Z",
          "iopub.status.idle": "2025-01-21T20:40:52.484572Z",
          "shell.execute_reply": "2025-01-21T20:40:52.483777Z"
        },
        "papermill": {
          "duration": 14.028067,
          "end_time": "2025-01-21T20:40:52.485963",
          "exception": false,
          "start_time": "2025-01-21T20:40:38.457896",
          "status": "completed"
        },
        "tags": [],
        "id": "9acfb3c6",
        "outputId": "b70ab236-62e5-4770-8853-42264e0df980"
      },
      "outputs": [
        {
          "data": {
            "text/plain": [
              "<catboost.core.CatBoostClassifier at 0x7be7589cf340>"
            ]
          },
          "execution_count": 58,
          "metadata": {},
          "output_type": "execute_result"
        }
      ],
      "source": [
        "from catboost import CatBoostClassifier\n",
        "\n",
        "# Model CatBoost\n",
        "catboost = CatBoostClassifier(\n",
        "    iterations=200,              # Jumlah iterasi (estimators)\n",
        "    learning_rate=0.01,          # Learning rate\n",
        "    depth=6,                     # Kedalaman pohon\n",
        "    random_state=42,             # Seed untuk hasil yang dapat direproduksi\n",
        "    loss_function='MultiClass',  # Fungsi loss untuk klasifikasi multikelas\n",
        "    verbose=0                   # Menampilkan log setiap 50 iterasi\n",
        ")\n",
        "\n",
        "# Melatih model\n",
        "catboost.fit(X_train_new, y_train_final)"
      ]
    },
    {
      "cell_type": "code",
      "execution_count": null,
      "id": "fc2f834c",
      "metadata": {
        "execution": {
          "iopub.execute_input": "2025-01-21T20:40:52.527906Z",
          "iopub.status.busy": "2025-01-21T20:40:52.527648Z",
          "iopub.status.idle": "2025-01-21T20:40:52.622117Z",
          "shell.execute_reply": "2025-01-21T20:40:52.620880Z"
        },
        "papermill": {
          "duration": 0.116604,
          "end_time": "2025-01-21T20:40:52.623446",
          "exception": false,
          "start_time": "2025-01-21T20:40:52.506842",
          "status": "completed"
        },
        "tags": [],
        "id": "fc2f834c",
        "outputId": "99f8bd68-190f-40fa-c1ab-3e0e23798607"
      },
      "outputs": [
        {
          "name": "stdout",
          "output_type": "stream",
          "text": [
            "Classification Report (CatBoost):\n",
            "\n",
            "              precision    recall  f1-score   support\n",
            "\n",
            "           0     0.6104    0.3116    0.4126     52646\n",
            "           1     0.1956    0.3690    0.2557     16863\n",
            "           2     0.1906    0.3159    0.2377     16460\n",
            "\n",
            "    accuracy                         0.3237     85969\n",
            "   macro avg     0.3322    0.3322    0.3020     85969\n",
            "weighted avg     0.4487    0.3237    0.3483     85969\n",
            "\n"
          ]
        }
      ],
      "source": [
        "# Prediksi\n",
        "y_pred_catboost = catboost.predict(X_test_new)\n",
        "\n",
        "# Evaluasi\n",
        "print(\"Classification Report (CatBoost):\\n\")\n",
        "print(classification_report(y_test, y_pred_catboost, digits=4))"
      ]
    },
    {
      "cell_type": "markdown",
      "id": "e1744295",
      "metadata": {
        "papermill": {
          "duration": 0.020005,
          "end_time": "2025-01-21T20:40:52.665464",
          "exception": false,
          "start_time": "2025-01-21T20:40:52.645459",
          "status": "completed"
        },
        "tags": [],
        "id": "e1744295"
      },
      "source": [
        "# PREDICT"
      ]
    },
    {
      "cell_type": "code",
      "execution_count": null,
      "id": "223b651e",
      "metadata": {
        "execution": {
          "iopub.execute_input": "2025-01-21T20:40:52.706517Z",
          "iopub.status.busy": "2025-01-21T20:40:52.706211Z",
          "iopub.status.idle": "2025-01-21T20:40:52.709524Z",
          "shell.execute_reply": "2025-01-21T20:40:52.708840Z"
        },
        "papermill": {
          "duration": 0.025553,
          "end_time": "2025-01-21T20:40:52.710948",
          "exception": false,
          "start_time": "2025-01-21T20:40:52.685395",
          "status": "completed"
        },
        "tags": [],
        "id": "223b651e"
      },
      "outputs": [],
      "source": [
        "test_path = '/kaggle/input/preprocessing-test-baru/test_cleaned.csv'"
      ]
    },
    {
      "cell_type": "code",
      "execution_count": null,
      "id": "9842e9ca",
      "metadata": {
        "execution": {
          "iopub.execute_input": "2025-01-21T20:40:52.751952Z",
          "iopub.status.busy": "2025-01-21T20:40:52.751747Z",
          "iopub.status.idle": "2025-01-21T20:42:25.008240Z",
          "shell.execute_reply": "2025-01-21T20:42:25.007133Z"
        },
        "papermill": {
          "duration": 92.278894,
          "end_time": "2025-01-21T20:42:25.010087",
          "exception": false,
          "start_time": "2025-01-21T20:40:52.731193",
          "status": "completed"
        },
        "tags": [],
        "id": "9842e9ca"
      },
      "outputs": [],
      "source": [
        "data_test = pd.read_csv(test_path)"
      ]
    },
    {
      "cell_type": "code",
      "execution_count": null,
      "id": "aeeae1ac",
      "metadata": {
        "execution": {
          "iopub.execute_input": "2025-01-21T20:42:25.054980Z",
          "iopub.status.busy": "2025-01-21T20:42:25.054709Z",
          "iopub.status.idle": "2025-01-21T20:42:25.315231Z",
          "shell.execute_reply": "2025-01-21T20:42:25.314283Z"
        },
        "papermill": {
          "duration": 0.284771,
          "end_time": "2025-01-21T20:42:25.316932",
          "exception": false,
          "start_time": "2025-01-21T20:42:25.032161",
          "status": "completed"
        },
        "tags": [],
        "id": "aeeae1ac"
      },
      "outputs": [],
      "source": [
        "data_test['hour'] = data_test['hour'].astype(float)\n",
        "data_test['day'] = data_test['day'].astype(float)\n",
        "data_test['month'] = data_test['month'].astype(float)\n",
        "data_test['hour_maintenance'] = data_test['hour_maintenance'].astype(float)\n",
        "data_test['day_maintenance'] = data_test['day_maintenance'].astype(float)\n",
        "data_test['month_maintenance'] = data_test['month_maintenance'].astype(float)\n",
        "data_test['month_distance'] = data_test['month_distance'].astype(float)"
      ]
    },
    {
      "cell_type": "code",
      "execution_count": null,
      "id": "9e7b2d7b",
      "metadata": {
        "execution": {
          "iopub.execute_input": "2025-01-21T20:42:25.359907Z",
          "iopub.status.busy": "2025-01-21T20:42:25.359621Z",
          "iopub.status.idle": "2025-01-21T20:42:25.380304Z",
          "shell.execute_reply": "2025-01-21T20:42:25.379382Z"
        },
        "papermill": {
          "duration": 0.043201,
          "end_time": "2025-01-21T20:42:25.381666",
          "exception": false,
          "start_time": "2025-01-21T20:42:25.338465",
          "status": "completed"
        },
        "tags": [],
        "id": "9e7b2d7b",
        "outputId": "ef3e38d6-e42c-45c0-e826-7215cc0ceea4"
      },
      "outputs": [
        {
          "data": {
            "text/html": [
              "<div>\n",
              "<style scoped>\n",
              "    .dataframe tbody tr th:only-of-type {\n",
              "        vertical-align: middle;\n",
              "    }\n",
              "\n",
              "    .dataframe tbody tr th {\n",
              "        vertical-align: top;\n",
              "    }\n",
              "\n",
              "    .dataframe thead th {\n",
              "        text-align: right;\n",
              "    }\n",
              "</style>\n",
              "<table border=\"1\" class=\"dataframe\">\n",
              "  <thead>\n",
              "    <tr style=\"text-align: right;\">\n",
              "      <th></th>\n",
              "      <th>ID_Transaction</th>\n",
              "      <th>temperature_10H_max (°C)</th>\n",
              "      <th>temperature_10H_min (°C)</th>\n",
              "      <th>temperature-1</th>\n",
              "      <th>temperature-2</th>\n",
              "      <th>temperature-3</th>\n",
              "      <th>apparent_temperature_max</th>\n",
              "      <th>apparent_temperature_min</th>\n",
              "      <th>timestamp</th>\n",
              "      <th>humidity</th>\n",
              "      <th>...</th>\n",
              "      <th>end_month</th>\n",
              "      <th>time_of_day</th>\n",
              "      <th>average_temperature</th>\n",
              "      <th>temperature_range</th>\n",
              "      <th>average_voltage</th>\n",
              "      <th>average_current</th>\n",
              "      <th>average_RPM</th>\n",
              "      <th>total_RPM</th>\n",
              "      <th>average_vibration</th>\n",
              "      <th>total_vibration</th>\n",
              "    </tr>\n",
              "  </thead>\n",
              "  <tbody>\n",
              "    <tr>\n",
              "      <th>0</th>\n",
              "      <td>TRXb7e33ef41eea9cfdc0d1c338bad7f0d4</td>\n",
              "      <td>-3322.323689</td>\n",
              "      <td>-221.677374</td>\n",
              "      <td>166.922400</td>\n",
              "      <td>48.626853</td>\n",
              "      <td>166.131089</td>\n",
              "      <td>13.669606</td>\n",
              "      <td>-43.911657</td>\n",
              "      <td>2023-01-14 10:51:00</td>\n",
              "      <td>33.920209</td>\n",
              "      <td>...</td>\n",
              "      <td>0</td>\n",
              "      <td>1</td>\n",
              "      <td>-632.464144</td>\n",
              "      <td>-3100.646316</td>\n",
              "      <td>319.303972</td>\n",
              "      <td>55.163469</td>\n",
              "      <td>3463.711497</td>\n",
              "      <td>13854.845987</td>\n",
              "      <td>42.085064</td>\n",
              "      <td>84.170129</td>\n",
              "    </tr>\n",
              "    <tr>\n",
              "      <th>1</th>\n",
              "      <td>TRX8fc5889e25fbf66b21063d165228745f</td>\n",
              "      <td>719.700365</td>\n",
              "      <td>-22.696733</td>\n",
              "      <td>400.678538</td>\n",
              "      <td>14.421425</td>\n",
              "      <td>53.740342</td>\n",
              "      <td>22.297932</td>\n",
              "      <td>-36.569152</td>\n",
              "      <td>2024-01-10 14:02:00</td>\n",
              "      <td>38.730079</td>\n",
              "      <td>...</td>\n",
              "      <td>0</td>\n",
              "      <td>2</td>\n",
              "      <td>233.168787</td>\n",
              "      <td>742.397098</td>\n",
              "      <td>300.563673</td>\n",
              "      <td>57.102251</td>\n",
              "      <td>2782.404178</td>\n",
              "      <td>11129.616713</td>\n",
              "      <td>39.427549</td>\n",
              "      <td>78.855097</td>\n",
              "    </tr>\n",
              "    <tr>\n",
              "      <th>2</th>\n",
              "      <td>TRX5c56664724a974cf6c87bd2659fd7046</td>\n",
              "      <td>718.918630</td>\n",
              "      <td>23.645588</td>\n",
              "      <td>456.535206</td>\n",
              "      <td>39.053999</td>\n",
              "      <td>16.800056</td>\n",
              "      <td>24.194078</td>\n",
              "      <td>-19.180181</td>\n",
              "      <td>2024-03-04 12:41:00</td>\n",
              "      <td>32.308273</td>\n",
              "      <td>...</td>\n",
              "      <td>0</td>\n",
              "      <td>2</td>\n",
              "      <td>250.990696</td>\n",
              "      <td>695.273042</td>\n",
              "      <td>305.189807</td>\n",
              "      <td>61.854076</td>\n",
              "      <td>3769.035896</td>\n",
              "      <td>15076.143583</td>\n",
              "      <td>32.186239</td>\n",
              "      <td>64.372477</td>\n",
              "    </tr>\n",
              "    <tr>\n",
              "      <th>3</th>\n",
              "      <td>TRX85fe42a5737897b7649a24fede27e90f</td>\n",
              "      <td>593.678709</td>\n",
              "      <td>19.380103</td>\n",
              "      <td>300.119375</td>\n",
              "      <td>7.974228</td>\n",
              "      <td>118.629967</td>\n",
              "      <td>14.245905</td>\n",
              "      <td>-28.569977</td>\n",
              "      <td>2024-11-20 06:47:00</td>\n",
              "      <td>28.081321</td>\n",
              "      <td>...</td>\n",
              "      <td>0</td>\n",
              "      <td>1</td>\n",
              "      <td>207.956476</td>\n",
              "      <td>574.298606</td>\n",
              "      <td>312.008196</td>\n",
              "      <td>59.110460</td>\n",
              "      <td>3014.720483</td>\n",
              "      <td>12058.881931</td>\n",
              "      <td>36.256552</td>\n",
              "      <td>72.513104</td>\n",
              "    </tr>\n",
              "    <tr>\n",
              "      <th>4</th>\n",
              "      <td>TRX16fae83f3c8c66fb15f088e7da7713ee</td>\n",
              "      <td>644.119485</td>\n",
              "      <td>27.352616</td>\n",
              "      <td>600.000000</td>\n",
              "      <td>56.588644</td>\n",
              "      <td>5.298174</td>\n",
              "      <td>31.684072</td>\n",
              "      <td>-24.182661</td>\n",
              "      <td>2024-03-17 01:39:00</td>\n",
              "      <td>33.968450</td>\n",
              "      <td>...</td>\n",
              "      <td>0</td>\n",
              "      <td>1</td>\n",
              "      <td>266.671784</td>\n",
              "      <td>616.766869</td>\n",
              "      <td>291.723588</td>\n",
              "      <td>62.732743</td>\n",
              "      <td>3988.719091</td>\n",
              "      <td>15954.876363</td>\n",
              "      <td>39.689510</td>\n",
              "      <td>79.379020</td>\n",
              "    </tr>\n",
              "  </tbody>\n",
              "</table>\n",
              "<p>5 rows × 48 columns</p>\n",
              "</div>"
            ],
            "text/plain": [
              "                        ID_Transaction  temperature_10H_max (°C)  \\\n",
              "0  TRXb7e33ef41eea9cfdc0d1c338bad7f0d4              -3322.323689   \n",
              "1  TRX8fc5889e25fbf66b21063d165228745f                719.700365   \n",
              "2  TRX5c56664724a974cf6c87bd2659fd7046                718.918630   \n",
              "3  TRX85fe42a5737897b7649a24fede27e90f                593.678709   \n",
              "4  TRX16fae83f3c8c66fb15f088e7da7713ee                644.119485   \n",
              "\n",
              "   temperature_10H_min (°C)  temperature-1  temperature-2  temperature-3  \\\n",
              "0               -221.677374     166.922400      48.626853     166.131089   \n",
              "1                -22.696733     400.678538      14.421425      53.740342   \n",
              "2                 23.645588     456.535206      39.053999      16.800056   \n",
              "3                 19.380103     300.119375       7.974228     118.629967   \n",
              "4                 27.352616     600.000000      56.588644       5.298174   \n",
              "\n",
              "   apparent_temperature_max  apparent_temperature_min            timestamp  \\\n",
              "0                 13.669606                -43.911657  2023-01-14 10:51:00   \n",
              "1                 22.297932                -36.569152  2024-01-10 14:02:00   \n",
              "2                 24.194078                -19.180181  2024-03-04 12:41:00   \n",
              "3                 14.245905                -28.569977  2024-11-20 06:47:00   \n",
              "4                 31.684072                -24.182661  2024-03-17 01:39:00   \n",
              "\n",
              "    humidity  ...  end_month  time_of_day  average_temperature  \\\n",
              "0  33.920209  ...          0            1          -632.464144   \n",
              "1  38.730079  ...          0            2           233.168787   \n",
              "2  32.308273  ...          0            2           250.990696   \n",
              "3  28.081321  ...          0            1           207.956476   \n",
              "4  33.968450  ...          0            1           266.671784   \n",
              "\n",
              "   temperature_range  average_voltage  average_current  average_RPM  \\\n",
              "0       -3100.646316       319.303972        55.163469  3463.711497   \n",
              "1         742.397098       300.563673        57.102251  2782.404178   \n",
              "2         695.273042       305.189807        61.854076  3769.035896   \n",
              "3         574.298606       312.008196        59.110460  3014.720483   \n",
              "4         616.766869       291.723588        62.732743  3988.719091   \n",
              "\n",
              "      total_RPM  average_vibration  total_vibration  \n",
              "0  13854.845987          42.085064        84.170129  \n",
              "1  11129.616713          39.427549        78.855097  \n",
              "2  15076.143583          32.186239        64.372477  \n",
              "3  12058.881931          36.256552        72.513104  \n",
              "4  15954.876363          39.689510        79.379020  \n",
              "\n",
              "[5 rows x 48 columns]"
            ]
          },
          "execution_count": 63,
          "metadata": {},
          "output_type": "execute_result"
        }
      ],
      "source": [
        "data_test.head()"
      ]
    },
    {
      "cell_type": "code",
      "execution_count": null,
      "id": "d4536e9f",
      "metadata": {
        "execution": {
          "iopub.execute_input": "2025-01-21T20:42:25.423730Z",
          "iopub.status.busy": "2025-01-21T20:42:25.423509Z",
          "iopub.status.idle": "2025-01-21T20:42:25.434157Z",
          "shell.execute_reply": "2025-01-21T20:42:25.433090Z"
        },
        "papermill": {
          "duration": 0.033274,
          "end_time": "2025-01-21T20:42:25.435724",
          "exception": false,
          "start_time": "2025-01-21T20:42:25.402450",
          "status": "completed"
        },
        "tags": [],
        "id": "d4536e9f",
        "outputId": "96a4cc61-483b-49b9-d680-42e104211900"
      },
      "outputs": [
        {
          "name": "stdout",
          "output_type": "stream",
          "text": [
            "<class 'pandas.core.frame.DataFrame'>\n",
            "RangeIndex: 7000000 entries, 0 to 6999999\n",
            "Data columns (total 48 columns):\n",
            " #   Column                    Dtype  \n",
            "---  ------                    -----  \n",
            " 0   ID_Transaction            object \n",
            " 1   temperature_10H_max (°C)  float64\n",
            " 2   temperature_10H_min (°C)  float64\n",
            " 3   temperature-1             float64\n",
            " 4   temperature-2             float64\n",
            " 5   temperature-3             float64\n",
            " 6   apparent_temperature_max  float64\n",
            " 7   apparent_temperature_min  float64\n",
            " 8   timestamp                 object \n",
            " 9   humidity                  float64\n",
            " 10  Voltage-L                 float64\n",
            " 11  Voltage-R                 float64\n",
            " 12  Voltage-M                 float64\n",
            " 13  Current-M                 float64\n",
            " 14  Current-R                 float64\n",
            " 15  Current-T                 float64\n",
            " 16  RPM                       float64\n",
            " 17  RPM-1                     float64\n",
            " 18  RPM-2                     float64\n",
            " 19  RPM-3                     float64\n",
            " 20  Vibration-1               float64\n",
            " 21  Vibration-2               float64\n",
            " 22  Power                     float64\n",
            " 23  Power_Backup              int64  \n",
            " 24  Priority                  int64  \n",
            " 25  Area                      object \n",
            " 26  Last Maintenance          object \n",
            " 27  Status Sparepart          int64  \n",
            " 28  Age                       float64\n",
            " 29  Country Machine           int64  \n",
            " 30  hour                      float64\n",
            " 31  day                       float64\n",
            " 32  month                     float64\n",
            " 33  hour_maintenance          float64\n",
            " 34  day_maintenance           float64\n",
            " 35  month_maintenance         float64\n",
            " 36  month_distance            float64\n",
            " 37  weekend                   int64  \n",
            " 38  end_month                 int64  \n",
            " 39  time_of_day               int64  \n",
            " 40  average_temperature       float64\n",
            " 41  temperature_range         float64\n",
            " 42  average_voltage           float64\n",
            " 43  average_current           float64\n",
            " 44  average_RPM               float64\n",
            " 45  total_RPM                 float64\n",
            " 46  average_vibration         float64\n",
            " 47  total_vibration           float64\n",
            "dtypes: float64(37), int64(7), object(4)\n",
            "memory usage: 2.5+ GB\n"
          ]
        }
      ],
      "source": [
        "data_test.info()"
      ]
    },
    {
      "cell_type": "code",
      "execution_count": null,
      "id": "95fe3f2b",
      "metadata": {
        "execution": {
          "iopub.execute_input": "2025-01-21T20:42:25.479095Z",
          "iopub.status.busy": "2025-01-21T20:42:25.478852Z",
          "iopub.status.idle": "2025-01-21T20:42:31.093211Z",
          "shell.execute_reply": "2025-01-21T20:42:31.092500Z"
        },
        "papermill": {
          "duration": 5.637012,
          "end_time": "2025-01-21T20:42:31.094814",
          "exception": false,
          "start_time": "2025-01-21T20:42:25.457802",
          "status": "completed"
        },
        "tags": [],
        "id": "95fe3f2b"
      },
      "outputs": [],
      "source": [
        "# One-hot encoding untuk kolom 'Country Machine'\n",
        "onehot_encoded_country = pd.get_dummies(data_test['Country Machine'], prefix='Country_Machine')\n",
        "\n",
        "# Pastikan nilai True/False diubah menjadi 1/0\n",
        "onehot_encoded_country = onehot_encoded_country.astype(int)\n",
        "\n",
        "# One-hot encoding untuk kolom 'Status Sparepart'\n",
        "onehot_encoded_status_sparepart = pd.get_dummies(data_test['Status Sparepart'], prefix='Status_Sparepart')\n",
        "\n",
        "# Pastikan nilai True/False diubah menjadi 1/0\n",
        "onehot_encoded_status_sparepart = onehot_encoded_status_sparepart.astype(int)\n",
        "\n",
        "# One-hot encoding untuk kolom 'Priority'\n",
        "onehot_encoded_priority = pd.get_dummies(data_test['Priority'], prefix='Priority')\n",
        "\n",
        "# Pastikan nilai True/False diubah menjadi 1/0\n",
        "onehot_encoded_priority = onehot_encoded_priority.astype(int)\n",
        "\n",
        "# Gabungkan hasil one-hot encoding ke data_train\n",
        "data_test_encoded = pd.concat([data_test, onehot_encoded_country, onehot_encoded_status_sparepart, onehot_encoded_priority], axis=1)\n",
        "\n",
        "# Hapus kolom asli 'Country Machine' dan 'Status Sparepart' (opsional)\n",
        "data_test_encoded.drop(columns=['Country Machine', 'Status Sparepart', 'Priority'], inplace=True)"
      ]
    },
    {
      "cell_type": "code",
      "execution_count": null,
      "id": "93446786",
      "metadata": {
        "execution": {
          "iopub.execute_input": "2025-01-21T20:42:31.138958Z",
          "iopub.status.busy": "2025-01-21T20:42:31.138673Z",
          "iopub.status.idle": "2025-01-21T20:42:31.156209Z",
          "shell.execute_reply": "2025-01-21T20:42:31.155424Z"
        },
        "papermill": {
          "duration": 0.040729,
          "end_time": "2025-01-21T20:42:31.157595",
          "exception": false,
          "start_time": "2025-01-21T20:42:31.116866",
          "status": "completed"
        },
        "tags": [],
        "id": "93446786",
        "outputId": "3676fa0d-4764-4904-954b-30a19b819e86"
      },
      "outputs": [
        {
          "data": {
            "text/html": [
              "<div>\n",
              "<style scoped>\n",
              "    .dataframe tbody tr th:only-of-type {\n",
              "        vertical-align: middle;\n",
              "    }\n",
              "\n",
              "    .dataframe tbody tr th {\n",
              "        vertical-align: top;\n",
              "    }\n",
              "\n",
              "    .dataframe thead th {\n",
              "        text-align: right;\n",
              "    }\n",
              "</style>\n",
              "<table border=\"1\" class=\"dataframe\">\n",
              "  <thead>\n",
              "    <tr style=\"text-align: right;\">\n",
              "      <th></th>\n",
              "      <th>ID_Transaction</th>\n",
              "      <th>temperature_10H_max (°C)</th>\n",
              "      <th>temperature_10H_min (°C)</th>\n",
              "      <th>temperature-1</th>\n",
              "      <th>temperature-2</th>\n",
              "      <th>temperature-3</th>\n",
              "      <th>apparent_temperature_max</th>\n",
              "      <th>apparent_temperature_min</th>\n",
              "      <th>timestamp</th>\n",
              "      <th>humidity</th>\n",
              "      <th>...</th>\n",
              "      <th>Country_Machine_4</th>\n",
              "      <th>Status_Sparepart_0</th>\n",
              "      <th>Status_Sparepart_1</th>\n",
              "      <th>Status_Sparepart_2</th>\n",
              "      <th>Status_Sparepart_3</th>\n",
              "      <th>Status_Sparepart_4</th>\n",
              "      <th>Status_Sparepart_5</th>\n",
              "      <th>Priority_0</th>\n",
              "      <th>Priority_1</th>\n",
              "      <th>Priority_2</th>\n",
              "    </tr>\n",
              "  </thead>\n",
              "  <tbody>\n",
              "    <tr>\n",
              "      <th>0</th>\n",
              "      <td>TRXb7e33ef41eea9cfdc0d1c338bad7f0d4</td>\n",
              "      <td>-3322.323689</td>\n",
              "      <td>-221.677374</td>\n",
              "      <td>166.922400</td>\n",
              "      <td>48.626853</td>\n",
              "      <td>166.131089</td>\n",
              "      <td>13.669606</td>\n",
              "      <td>-43.911657</td>\n",
              "      <td>2023-01-14 10:51:00</td>\n",
              "      <td>33.920209</td>\n",
              "      <td>...</td>\n",
              "      <td>0</td>\n",
              "      <td>0</td>\n",
              "      <td>0</td>\n",
              "      <td>1</td>\n",
              "      <td>0</td>\n",
              "      <td>0</td>\n",
              "      <td>0</td>\n",
              "      <td>0</td>\n",
              "      <td>0</td>\n",
              "      <td>1</td>\n",
              "    </tr>\n",
              "    <tr>\n",
              "      <th>1</th>\n",
              "      <td>TRX8fc5889e25fbf66b21063d165228745f</td>\n",
              "      <td>719.700365</td>\n",
              "      <td>-22.696733</td>\n",
              "      <td>400.678538</td>\n",
              "      <td>14.421425</td>\n",
              "      <td>53.740342</td>\n",
              "      <td>22.297932</td>\n",
              "      <td>-36.569152</td>\n",
              "      <td>2024-01-10 14:02:00</td>\n",
              "      <td>38.730079</td>\n",
              "      <td>...</td>\n",
              "      <td>0</td>\n",
              "      <td>0</td>\n",
              "      <td>0</td>\n",
              "      <td>0</td>\n",
              "      <td>0</td>\n",
              "      <td>0</td>\n",
              "      <td>1</td>\n",
              "      <td>0</td>\n",
              "      <td>1</td>\n",
              "      <td>0</td>\n",
              "    </tr>\n",
              "    <tr>\n",
              "      <th>2</th>\n",
              "      <td>TRX5c56664724a974cf6c87bd2659fd7046</td>\n",
              "      <td>718.918630</td>\n",
              "      <td>23.645588</td>\n",
              "      <td>456.535206</td>\n",
              "      <td>39.053999</td>\n",
              "      <td>16.800056</td>\n",
              "      <td>24.194078</td>\n",
              "      <td>-19.180181</td>\n",
              "      <td>2024-03-04 12:41:00</td>\n",
              "      <td>32.308273</td>\n",
              "      <td>...</td>\n",
              "      <td>0</td>\n",
              "      <td>0</td>\n",
              "      <td>0</td>\n",
              "      <td>1</td>\n",
              "      <td>0</td>\n",
              "      <td>0</td>\n",
              "      <td>0</td>\n",
              "      <td>0</td>\n",
              "      <td>1</td>\n",
              "      <td>0</td>\n",
              "    </tr>\n",
              "    <tr>\n",
              "      <th>3</th>\n",
              "      <td>TRX85fe42a5737897b7649a24fede27e90f</td>\n",
              "      <td>593.678709</td>\n",
              "      <td>19.380103</td>\n",
              "      <td>300.119375</td>\n",
              "      <td>7.974228</td>\n",
              "      <td>118.629967</td>\n",
              "      <td>14.245905</td>\n",
              "      <td>-28.569977</td>\n",
              "      <td>2024-11-20 06:47:00</td>\n",
              "      <td>28.081321</td>\n",
              "      <td>...</td>\n",
              "      <td>0</td>\n",
              "      <td>0</td>\n",
              "      <td>0</td>\n",
              "      <td>1</td>\n",
              "      <td>0</td>\n",
              "      <td>0</td>\n",
              "      <td>0</td>\n",
              "      <td>0</td>\n",
              "      <td>1</td>\n",
              "      <td>0</td>\n",
              "    </tr>\n",
              "    <tr>\n",
              "      <th>4</th>\n",
              "      <td>TRX16fae83f3c8c66fb15f088e7da7713ee</td>\n",
              "      <td>644.119485</td>\n",
              "      <td>27.352616</td>\n",
              "      <td>600.000000</td>\n",
              "      <td>56.588644</td>\n",
              "      <td>5.298174</td>\n",
              "      <td>31.684072</td>\n",
              "      <td>-24.182661</td>\n",
              "      <td>2024-03-17 01:39:00</td>\n",
              "      <td>33.968450</td>\n",
              "      <td>...</td>\n",
              "      <td>0</td>\n",
              "      <td>0</td>\n",
              "      <td>0</td>\n",
              "      <td>1</td>\n",
              "      <td>0</td>\n",
              "      <td>0</td>\n",
              "      <td>0</td>\n",
              "      <td>0</td>\n",
              "      <td>0</td>\n",
              "      <td>1</td>\n",
              "    </tr>\n",
              "  </tbody>\n",
              "</table>\n",
              "<p>5 rows × 59 columns</p>\n",
              "</div>"
            ],
            "text/plain": [
              "                        ID_Transaction  temperature_10H_max (°C)  \\\n",
              "0  TRXb7e33ef41eea9cfdc0d1c338bad7f0d4              -3322.323689   \n",
              "1  TRX8fc5889e25fbf66b21063d165228745f                719.700365   \n",
              "2  TRX5c56664724a974cf6c87bd2659fd7046                718.918630   \n",
              "3  TRX85fe42a5737897b7649a24fede27e90f                593.678709   \n",
              "4  TRX16fae83f3c8c66fb15f088e7da7713ee                644.119485   \n",
              "\n",
              "   temperature_10H_min (°C)  temperature-1  temperature-2  temperature-3  \\\n",
              "0               -221.677374     166.922400      48.626853     166.131089   \n",
              "1                -22.696733     400.678538      14.421425      53.740342   \n",
              "2                 23.645588     456.535206      39.053999      16.800056   \n",
              "3                 19.380103     300.119375       7.974228     118.629967   \n",
              "4                 27.352616     600.000000      56.588644       5.298174   \n",
              "\n",
              "   apparent_temperature_max  apparent_temperature_min            timestamp  \\\n",
              "0                 13.669606                -43.911657  2023-01-14 10:51:00   \n",
              "1                 22.297932                -36.569152  2024-01-10 14:02:00   \n",
              "2                 24.194078                -19.180181  2024-03-04 12:41:00   \n",
              "3                 14.245905                -28.569977  2024-11-20 06:47:00   \n",
              "4                 31.684072                -24.182661  2024-03-17 01:39:00   \n",
              "\n",
              "    humidity  ...  Country_Machine_4  Status_Sparepart_0  Status_Sparepart_1  \\\n",
              "0  33.920209  ...                  0                   0                   0   \n",
              "1  38.730079  ...                  0                   0                   0   \n",
              "2  32.308273  ...                  0                   0                   0   \n",
              "3  28.081321  ...                  0                   0                   0   \n",
              "4  33.968450  ...                  0                   0                   0   \n",
              "\n",
              "   Status_Sparepart_2  Status_Sparepart_3  Status_Sparepart_4  \\\n",
              "0                   1                   0                   0   \n",
              "1                   0                   0                   0   \n",
              "2                   1                   0                   0   \n",
              "3                   1                   0                   0   \n",
              "4                   1                   0                   0   \n",
              "\n",
              "   Status_Sparepart_5  Priority_0  Priority_1  Priority_2  \n",
              "0                   0           0           0           1  \n",
              "1                   1           0           1           0  \n",
              "2                   0           0           1           0  \n",
              "3                   0           0           1           0  \n",
              "4                   0           0           0           1  \n",
              "\n",
              "[5 rows x 59 columns]"
            ]
          },
          "execution_count": 66,
          "metadata": {},
          "output_type": "execute_result"
        }
      ],
      "source": [
        "data_test_encoded.head()"
      ]
    },
    {
      "cell_type": "code",
      "execution_count": null,
      "id": "a18ace80",
      "metadata": {
        "execution": {
          "iopub.execute_input": "2025-01-21T20:42:31.202984Z",
          "iopub.status.busy": "2025-01-21T20:42:31.202751Z",
          "iopub.status.idle": "2025-01-21T20:42:32.266598Z",
          "shell.execute_reply": "2025-01-21T20:42:32.265837Z"
        },
        "papermill": {
          "duration": 1.087978,
          "end_time": "2025-01-21T20:42:32.268153",
          "exception": false,
          "start_time": "2025-01-21T20:42:31.180175",
          "status": "completed"
        },
        "tags": [],
        "id": "a18ace80"
      },
      "outputs": [],
      "source": [
        "data_test_encoded.drop(columns=['Area', 'ID_Transaction',\n",
        "                                'Last Maintenance', 'timestamp'], inplace=True)"
      ]
    },
    {
      "cell_type": "code",
      "execution_count": null,
      "id": "79193089",
      "metadata": {
        "execution": {
          "iopub.execute_input": "2025-01-21T20:42:32.312777Z",
          "iopub.status.busy": "2025-01-21T20:42:32.312482Z",
          "iopub.status.idle": "2025-01-21T20:42:50.035729Z",
          "shell.execute_reply": "2025-01-21T20:42:50.034976Z"
        },
        "papermill": {
          "duration": 17.747185,
          "end_time": "2025-01-21T20:42:50.037315",
          "exception": false,
          "start_time": "2025-01-21T20:42:32.290130",
          "status": "completed"
        },
        "tags": [],
        "id": "79193089"
      },
      "outputs": [],
      "source": [
        "# Pilih kolom dengan tipe float pada data_test_encoded untuk scaling\n",
        "float_columns = data_test_encoded.select_dtypes(include=['float64']).columns\n",
        "\n",
        "# Inisialisasi Robust Scaler\n",
        "scaler = RobustScaler()\n",
        "\n",
        "# Terapkan Min-Max Scaling ke data_test_encoded\n",
        "data_test_encoded[float_columns] = scaler.fit_transform(data_test_encoded[float_columns])"
      ]
    },
    {
      "cell_type": "code",
      "execution_count": null,
      "id": "14a8e495",
      "metadata": {
        "execution": {
          "iopub.execute_input": "2025-01-21T20:42:50.081592Z",
          "iopub.status.busy": "2025-01-21T20:42:50.081311Z",
          "iopub.status.idle": "2025-01-21T20:42:50.098880Z",
          "shell.execute_reply": "2025-01-21T20:42:50.098180Z"
        },
        "papermill": {
          "duration": 0.0408,
          "end_time": "2025-01-21T20:42:50.100200",
          "exception": false,
          "start_time": "2025-01-21T20:42:50.059400",
          "status": "completed"
        },
        "tags": [],
        "id": "14a8e495",
        "outputId": "50f57a39-d3e2-4bc2-8574-5932445d796a"
      },
      "outputs": [
        {
          "data": {
            "text/html": [
              "<div>\n",
              "<style scoped>\n",
              "    .dataframe tbody tr th:only-of-type {\n",
              "        vertical-align: middle;\n",
              "    }\n",
              "\n",
              "    .dataframe tbody tr th {\n",
              "        vertical-align: top;\n",
              "    }\n",
              "\n",
              "    .dataframe thead th {\n",
              "        text-align: right;\n",
              "    }\n",
              "</style>\n",
              "<table border=\"1\" class=\"dataframe\">\n",
              "  <thead>\n",
              "    <tr style=\"text-align: right;\">\n",
              "      <th></th>\n",
              "      <th>temperature_10H_max (°C)</th>\n",
              "      <th>temperature_10H_min (°C)</th>\n",
              "      <th>temperature-1</th>\n",
              "      <th>temperature-2</th>\n",
              "      <th>temperature-3</th>\n",
              "      <th>apparent_temperature_max</th>\n",
              "      <th>apparent_temperature_min</th>\n",
              "      <th>humidity</th>\n",
              "      <th>Voltage-L</th>\n",
              "      <th>Voltage-R</th>\n",
              "      <th>...</th>\n",
              "      <th>Country_Machine_4</th>\n",
              "      <th>Status_Sparepart_0</th>\n",
              "      <th>Status_Sparepart_1</th>\n",
              "      <th>Status_Sparepart_2</th>\n",
              "      <th>Status_Sparepart_3</th>\n",
              "      <th>Status_Sparepart_4</th>\n",
              "      <th>Status_Sparepart_5</th>\n",
              "      <th>Priority_0</th>\n",
              "      <th>Priority_1</th>\n",
              "      <th>Priority_2</th>\n",
              "    </tr>\n",
              "  </thead>\n",
              "  <tbody>\n",
              "    <tr>\n",
              "      <th>0</th>\n",
              "      <td>-11.060963</td>\n",
              "      <td>-5.081819</td>\n",
              "      <td>-0.797853</td>\n",
              "      <td>0.976752</td>\n",
              "      <td>0.538098</td>\n",
              "      <td>-0.593043</td>\n",
              "      <td>-0.762127</td>\n",
              "      <td>-0.239612</td>\n",
              "      <td>0.040908</td>\n",
              "      <td>1.656418</td>\n",
              "      <td>...</td>\n",
              "      <td>0</td>\n",
              "      <td>0</td>\n",
              "      <td>0</td>\n",
              "      <td>1</td>\n",
              "      <td>0</td>\n",
              "      <td>0</td>\n",
              "      <td>0</td>\n",
              "      <td>0</td>\n",
              "      <td>0</td>\n",
              "      <td>1</td>\n",
              "    </tr>\n",
              "    <tr>\n",
              "      <th>1</th>\n",
              "      <td>0.338136</td>\n",
              "      <td>-0.745479</td>\n",
              "      <td>0.728178</td>\n",
              "      <td>-0.579868</td>\n",
              "      <td>-0.294082</td>\n",
              "      <td>-0.205992</td>\n",
              "      <td>-0.426886</td>\n",
              "      <td>0.200661</td>\n",
              "      <td>0.025316</td>\n",
              "      <td>-0.376970</td>\n",
              "      <td>...</td>\n",
              "      <td>0</td>\n",
              "      <td>0</td>\n",
              "      <td>0</td>\n",
              "      <td>0</td>\n",
              "      <td>0</td>\n",
              "      <td>0</td>\n",
              "      <td>1</td>\n",
              "      <td>0</td>\n",
              "      <td>1</td>\n",
              "      <td>0</td>\n",
              "    </tr>\n",
              "    <tr>\n",
              "      <th>2</th>\n",
              "      <td>0.335932</td>\n",
              "      <td>0.264448</td>\n",
              "      <td>1.092827</td>\n",
              "      <td>0.541111</td>\n",
              "      <td>-0.567601</td>\n",
              "      <td>-0.120935</td>\n",
              "      <td>0.367053</td>\n",
              "      <td>-0.387161</td>\n",
              "      <td>-0.221919</td>\n",
              "      <td>0.125027</td>\n",
              "      <td>...</td>\n",
              "      <td>0</td>\n",
              "      <td>0</td>\n",
              "      <td>0</td>\n",
              "      <td>1</td>\n",
              "      <td>0</td>\n",
              "      <td>0</td>\n",
              "      <td>0</td>\n",
              "      <td>0</td>\n",
              "      <td>1</td>\n",
              "      <td>0</td>\n",
              "    </tr>\n",
              "    <tr>\n",
              "      <th>3</th>\n",
              "      <td>-0.017263</td>\n",
              "      <td>0.171491</td>\n",
              "      <td>0.071698</td>\n",
              "      <td>-0.873267</td>\n",
              "      <td>0.186383</td>\n",
              "      <td>-0.567191</td>\n",
              "      <td>-0.061663</td>\n",
              "      <td>-0.774077</td>\n",
              "      <td>0.071690</td>\n",
              "      <td>0.818984</td>\n",
              "      <td>...</td>\n",
              "      <td>0</td>\n",
              "      <td>0</td>\n",
              "      <td>0</td>\n",
              "      <td>1</td>\n",
              "      <td>0</td>\n",
              "      <td>0</td>\n",
              "      <td>0</td>\n",
              "      <td>0</td>\n",
              "      <td>1</td>\n",
              "      <td>0</td>\n",
              "    </tr>\n",
              "    <tr>\n",
              "      <th>4</th>\n",
              "      <td>0.124987</td>\n",
              "      <td>0.345235</td>\n",
              "      <td>2.029409</td>\n",
              "      <td>1.339077</td>\n",
              "      <td>-0.652765</td>\n",
              "      <td>0.215052</td>\n",
              "      <td>0.138652</td>\n",
              "      <td>-0.235196</td>\n",
              "      <td>-1.132003</td>\n",
              "      <td>-0.925657</td>\n",
              "      <td>...</td>\n",
              "      <td>0</td>\n",
              "      <td>0</td>\n",
              "      <td>0</td>\n",
              "      <td>1</td>\n",
              "      <td>0</td>\n",
              "      <td>0</td>\n",
              "      <td>0</td>\n",
              "      <td>0</td>\n",
              "      <td>0</td>\n",
              "      <td>1</td>\n",
              "    </tr>\n",
              "  </tbody>\n",
              "</table>\n",
              "<p>5 rows × 55 columns</p>\n",
              "</div>"
            ],
            "text/plain": [
              "   temperature_10H_max (°C)  temperature_10H_min (°C)  temperature-1  \\\n",
              "0                -11.060963                 -5.081819      -0.797853   \n",
              "1                  0.338136                 -0.745479       0.728178   \n",
              "2                  0.335932                  0.264448       1.092827   \n",
              "3                 -0.017263                  0.171491       0.071698   \n",
              "4                  0.124987                  0.345235       2.029409   \n",
              "\n",
              "   temperature-2  temperature-3  apparent_temperature_max  \\\n",
              "0       0.976752       0.538098                 -0.593043   \n",
              "1      -0.579868      -0.294082                 -0.205992   \n",
              "2       0.541111      -0.567601                 -0.120935   \n",
              "3      -0.873267       0.186383                 -0.567191   \n",
              "4       1.339077      -0.652765                  0.215052   \n",
              "\n",
              "   apparent_temperature_min  humidity  Voltage-L  Voltage-R  ...  \\\n",
              "0                 -0.762127 -0.239612   0.040908   1.656418  ...   \n",
              "1                 -0.426886  0.200661   0.025316  -0.376970  ...   \n",
              "2                  0.367053 -0.387161  -0.221919   0.125027  ...   \n",
              "3                 -0.061663 -0.774077   0.071690   0.818984  ...   \n",
              "4                  0.138652 -0.235196  -1.132003  -0.925657  ...   \n",
              "\n",
              "   Country_Machine_4  Status_Sparepart_0  Status_Sparepart_1  \\\n",
              "0                  0                   0                   0   \n",
              "1                  0                   0                   0   \n",
              "2                  0                   0                   0   \n",
              "3                  0                   0                   0   \n",
              "4                  0                   0                   0   \n",
              "\n",
              "   Status_Sparepart_2  Status_Sparepart_3  Status_Sparepart_4  \\\n",
              "0                   1                   0                   0   \n",
              "1                   0                   0                   0   \n",
              "2                   1                   0                   0   \n",
              "3                   1                   0                   0   \n",
              "4                   1                   0                   0   \n",
              "\n",
              "   Status_Sparepart_5  Priority_0  Priority_1  Priority_2  \n",
              "0                   0           0           0           1  \n",
              "1                   1           0           1           0  \n",
              "2                   0           0           1           0  \n",
              "3                   0           0           1           0  \n",
              "4                   0           0           0           1  \n",
              "\n",
              "[5 rows x 55 columns]"
            ]
          },
          "execution_count": 69,
          "metadata": {},
          "output_type": "execute_result"
        }
      ],
      "source": [
        "data_test_encoded.head()"
      ]
    },
    {
      "cell_type": "code",
      "execution_count": null,
      "id": "057aad2b",
      "metadata": {
        "execution": {
          "iopub.execute_input": "2025-01-21T20:42:50.144418Z",
          "iopub.status.busy": "2025-01-21T20:42:50.144169Z",
          "iopub.status.idle": "2025-01-21T20:42:50.715172Z",
          "shell.execute_reply": "2025-01-21T20:42:50.714402Z"
        },
        "papermill": {
          "duration": 0.59556,
          "end_time": "2025-01-21T20:42:50.717118",
          "exception": false,
          "start_time": "2025-01-21T20:42:50.121558",
          "status": "completed"
        },
        "tags": [],
        "id": "057aad2b"
      },
      "outputs": [],
      "source": [
        "# Fitur yang dipilih\n",
        "selected_features = ['temperature-2', 'apparent_temperature_max', 'apparent_temperature_min',\n",
        "       'Voltage-M', 'RPM', 'Power', 'Power_Backup', 'Age', 'hour', 'day',\n",
        "       'day_maintenance', 'month_maintenance', 'weekend', 'end_month',\n",
        "       'time_of_day', 'Country_Machine_1', 'Country_Machine_2',\n",
        "       'Country_Machine_4', 'Status_Sparepart_0', 'Status_Sparepart_2',\n",
        "       'Status_Sparepart_3', 'Status_Sparepart_4', 'Status_Sparepart_5',\n",
        "       'Priority_1', 'Priority_2']\n",
        "\n",
        "# Subset data dengan fitur yang dipilih\n",
        "test_selected = data_test_encoded[selected_features]"
      ]
    },
    {
      "cell_type": "code",
      "execution_count": null,
      "id": "36df9540",
      "metadata": {
        "execution": {
          "iopub.execute_input": "2025-01-21T20:42:50.762698Z",
          "iopub.status.busy": "2025-01-21T20:42:50.762440Z",
          "iopub.status.idle": "2025-01-21T20:42:50.779950Z",
          "shell.execute_reply": "2025-01-21T20:42:50.779244Z"
        },
        "papermill": {
          "duration": 0.041543,
          "end_time": "2025-01-21T20:42:50.781228",
          "exception": false,
          "start_time": "2025-01-21T20:42:50.739685",
          "status": "completed"
        },
        "tags": [],
        "id": "36df9540",
        "outputId": "88e524ee-fa40-4fdc-ebd9-d69520222e4a"
      },
      "outputs": [
        {
          "data": {
            "text/html": [
              "<div>\n",
              "<style scoped>\n",
              "    .dataframe tbody tr th:only-of-type {\n",
              "        vertical-align: middle;\n",
              "    }\n",
              "\n",
              "    .dataframe tbody tr th {\n",
              "        vertical-align: top;\n",
              "    }\n",
              "\n",
              "    .dataframe thead th {\n",
              "        text-align: right;\n",
              "    }\n",
              "</style>\n",
              "<table border=\"1\" class=\"dataframe\">\n",
              "  <thead>\n",
              "    <tr style=\"text-align: right;\">\n",
              "      <th></th>\n",
              "      <th>temperature-2</th>\n",
              "      <th>apparent_temperature_max</th>\n",
              "      <th>apparent_temperature_min</th>\n",
              "      <th>Voltage-M</th>\n",
              "      <th>RPM</th>\n",
              "      <th>Power</th>\n",
              "      <th>Power_Backup</th>\n",
              "      <th>Age</th>\n",
              "      <th>hour</th>\n",
              "      <th>day</th>\n",
              "      <th>...</th>\n",
              "      <th>Country_Machine_1</th>\n",
              "      <th>Country_Machine_2</th>\n",
              "      <th>Country_Machine_4</th>\n",
              "      <th>Status_Sparepart_0</th>\n",
              "      <th>Status_Sparepart_2</th>\n",
              "      <th>Status_Sparepart_3</th>\n",
              "      <th>Status_Sparepart_4</th>\n",
              "      <th>Status_Sparepart_5</th>\n",
              "      <th>Priority_1</th>\n",
              "      <th>Priority_2</th>\n",
              "    </tr>\n",
              "  </thead>\n",
              "  <tbody>\n",
              "    <tr>\n",
              "      <th>0</th>\n",
              "      <td>0.976752</td>\n",
              "      <td>-0.593043</td>\n",
              "      <td>-0.762127</td>\n",
              "      <td>0.088494</td>\n",
              "      <td>0.546219</td>\n",
              "      <td>0.274839</td>\n",
              "      <td>1</td>\n",
              "      <td>0.730446</td>\n",
              "      <td>-0.083333</td>\n",
              "      <td>-0.133333</td>\n",
              "      <td>...</td>\n",
              "      <td>0</td>\n",
              "      <td>1</td>\n",
              "      <td>0</td>\n",
              "      <td>0</td>\n",
              "      <td>1</td>\n",
              "      <td>0</td>\n",
              "      <td>0</td>\n",
              "      <td>0</td>\n",
              "      <td>0</td>\n",
              "      <td>1</td>\n",
              "    </tr>\n",
              "    <tr>\n",
              "      <th>1</th>\n",
              "      <td>-0.579868</td>\n",
              "      <td>-0.205992</td>\n",
              "      <td>-0.426886</td>\n",
              "      <td>-0.877410</td>\n",
              "      <td>-0.462248</td>\n",
              "      <td>0.046749</td>\n",
              "      <td>1</td>\n",
              "      <td>1.105446</td>\n",
              "      <td>0.250000</td>\n",
              "      <td>-0.400000</td>\n",
              "      <td>...</td>\n",
              "      <td>0</td>\n",
              "      <td>0</td>\n",
              "      <td>0</td>\n",
              "      <td>0</td>\n",
              "      <td>0</td>\n",
              "      <td>0</td>\n",
              "      <td>0</td>\n",
              "      <td>1</td>\n",
              "      <td>1</td>\n",
              "      <td>0</td>\n",
              "    </tr>\n",
              "    <tr>\n",
              "      <th>2</th>\n",
              "      <td>0.541111</td>\n",
              "      <td>-0.120935</td>\n",
              "      <td>0.367053</td>\n",
              "      <td>0.725619</td>\n",
              "      <td>0.555400</td>\n",
              "      <td>0.977224</td>\n",
              "      <td>1</td>\n",
              "      <td>0.855446</td>\n",
              "      <td>0.083333</td>\n",
              "      <td>-0.800000</td>\n",
              "      <td>...</td>\n",
              "      <td>0</td>\n",
              "      <td>0</td>\n",
              "      <td>0</td>\n",
              "      <td>0</td>\n",
              "      <td>1</td>\n",
              "      <td>0</td>\n",
              "      <td>0</td>\n",
              "      <td>0</td>\n",
              "      <td>1</td>\n",
              "      <td>0</td>\n",
              "    </tr>\n",
              "    <tr>\n",
              "      <th>3</th>\n",
              "      <td>-0.873267</td>\n",
              "      <td>-0.567191</td>\n",
              "      <td>-0.061663</td>\n",
              "      <td>-0.009303</td>\n",
              "      <td>-0.354467</td>\n",
              "      <td>-0.715561</td>\n",
              "      <td>1</td>\n",
              "      <td>-0.019554</td>\n",
              "      <td>-0.416667</td>\n",
              "      <td>0.266667</td>\n",
              "      <td>...</td>\n",
              "      <td>0</td>\n",
              "      <td>0</td>\n",
              "      <td>0</td>\n",
              "      <td>0</td>\n",
              "      <td>1</td>\n",
              "      <td>0</td>\n",
              "      <td>0</td>\n",
              "      <td>0</td>\n",
              "      <td>1</td>\n",
              "      <td>0</td>\n",
              "    </tr>\n",
              "    <tr>\n",
              "      <th>4</th>\n",
              "      <td>1.339077</td>\n",
              "      <td>0.215052</td>\n",
              "      <td>0.138652</td>\n",
              "      <td>0.630989</td>\n",
              "      <td>0.850585</td>\n",
              "      <td>0.657174</td>\n",
              "      <td>0</td>\n",
              "      <td>0.355446</td>\n",
              "      <td>-0.833333</td>\n",
              "      <td>0.066667</td>\n",
              "      <td>...</td>\n",
              "      <td>0</td>\n",
              "      <td>0</td>\n",
              "      <td>0</td>\n",
              "      <td>0</td>\n",
              "      <td>1</td>\n",
              "      <td>0</td>\n",
              "      <td>0</td>\n",
              "      <td>0</td>\n",
              "      <td>0</td>\n",
              "      <td>1</td>\n",
              "    </tr>\n",
              "  </tbody>\n",
              "</table>\n",
              "<p>5 rows × 25 columns</p>\n",
              "</div>"
            ],
            "text/plain": [
              "   temperature-2  apparent_temperature_max  apparent_temperature_min  \\\n",
              "0       0.976752                 -0.593043                 -0.762127   \n",
              "1      -0.579868                 -0.205992                 -0.426886   \n",
              "2       0.541111                 -0.120935                  0.367053   \n",
              "3      -0.873267                 -0.567191                 -0.061663   \n",
              "4       1.339077                  0.215052                  0.138652   \n",
              "\n",
              "   Voltage-M       RPM     Power  Power_Backup       Age      hour       day  \\\n",
              "0   0.088494  0.546219  0.274839             1  0.730446 -0.083333 -0.133333   \n",
              "1  -0.877410 -0.462248  0.046749             1  1.105446  0.250000 -0.400000   \n",
              "2   0.725619  0.555400  0.977224             1  0.855446  0.083333 -0.800000   \n",
              "3  -0.009303 -0.354467 -0.715561             1 -0.019554 -0.416667  0.266667   \n",
              "4   0.630989  0.850585  0.657174             0  0.355446 -0.833333  0.066667   \n",
              "\n",
              "   ...  Country_Machine_1  Country_Machine_2  Country_Machine_4  \\\n",
              "0  ...                  0                  1                  0   \n",
              "1  ...                  0                  0                  0   \n",
              "2  ...                  0                  0                  0   \n",
              "3  ...                  0                  0                  0   \n",
              "4  ...                  0                  0                  0   \n",
              "\n",
              "   Status_Sparepart_0  Status_Sparepart_2  Status_Sparepart_3  \\\n",
              "0                   0                   1                   0   \n",
              "1                   0                   0                   0   \n",
              "2                   0                   1                   0   \n",
              "3                   0                   1                   0   \n",
              "4                   0                   1                   0   \n",
              "\n",
              "   Status_Sparepart_4  Status_Sparepart_5  Priority_1  Priority_2  \n",
              "0                   0                   0           0           1  \n",
              "1                   0                   1           1           0  \n",
              "2                   0                   0           1           0  \n",
              "3                   0                   0           1           0  \n",
              "4                   0                   0           0           1  \n",
              "\n",
              "[5 rows x 25 columns]"
            ]
          },
          "execution_count": 71,
          "metadata": {},
          "output_type": "execute_result"
        }
      ],
      "source": [
        "test_selected.head()"
      ]
    },
    {
      "cell_type": "code",
      "execution_count": null,
      "id": "892cabb8",
      "metadata": {
        "execution": {
          "iopub.execute_input": "2025-01-21T20:42:50.825180Z",
          "iopub.status.busy": "2025-01-21T20:42:50.824976Z",
          "iopub.status.idle": "2025-01-21T20:42:51.188721Z",
          "shell.execute_reply": "2025-01-21T20:42:51.187611Z"
        },
        "papermill": {
          "duration": 0.38706,
          "end_time": "2025-01-21T20:42:51.190091",
          "exception": false,
          "start_time": "2025-01-21T20:42:50.803031",
          "status": "completed"
        },
        "tags": [],
        "id": "892cabb8",
        "outputId": "62d29ee5-ac5b-40da-b506-8255fb1161e6"
      },
      "outputs": [
        {
          "name": "stdout",
          "output_type": "stream",
          "text": [
            "temperature-2               0\n",
            "apparent_temperature_max    0\n",
            "apparent_temperature_min    0\n",
            "Voltage-M                   0\n",
            "RPM                         0\n",
            "Power                       0\n",
            "Power_Backup                0\n",
            "Age                         0\n",
            "hour                        0\n",
            "day                         0\n",
            "day_maintenance             0\n",
            "month_maintenance           0\n",
            "weekend                     0\n",
            "end_month                   0\n",
            "time_of_day                 0\n",
            "Country_Machine_1           0\n",
            "Country_Machine_2           0\n",
            "Country_Machine_4           0\n",
            "Status_Sparepart_0          0\n",
            "Status_Sparepart_2          0\n",
            "Status_Sparepart_3          0\n",
            "Status_Sparepart_4          0\n",
            "Status_Sparepart_5          0\n",
            "Priority_1                  0\n",
            "Priority_2                  0\n",
            "dtype: int64\n"
          ]
        }
      ],
      "source": [
        "print(test_selected.isnull().sum())"
      ]
    },
    {
      "cell_type": "code",
      "execution_count": null,
      "id": "3d3f83be",
      "metadata": {
        "execution": {
          "iopub.execute_input": "2025-01-21T20:42:51.234967Z",
          "iopub.status.busy": "2025-01-21T20:42:51.234737Z",
          "iopub.status.idle": "2025-01-21T20:49:40.303874Z",
          "shell.execute_reply": "2025-01-21T20:49:40.303081Z"
        },
        "papermill": {
          "duration": 409.093061,
          "end_time": "2025-01-21T20:49:40.305616",
          "exception": false,
          "start_time": "2025-01-21T20:42:51.212555",
          "status": "completed"
        },
        "tags": [],
        "id": "3d3f83be"
      },
      "outputs": [],
      "source": [
        "y_test_pred = rf.predict(test_selected)"
      ]
    },
    {
      "cell_type": "code",
      "execution_count": null,
      "id": "62144087",
      "metadata": {
        "execution": {
          "iopub.execute_input": "2025-01-21T20:49:40.351298Z",
          "iopub.status.busy": "2025-01-21T20:49:40.351067Z",
          "iopub.status.idle": "2025-01-21T20:49:41.455596Z",
          "shell.execute_reply": "2025-01-21T20:49:41.454888Z"
        },
        "papermill": {
          "duration": 1.128323,
          "end_time": "2025-01-21T20:49:41.457031",
          "exception": false,
          "start_time": "2025-01-21T20:49:40.328708",
          "status": "completed"
        },
        "tags": [],
        "id": "62144087"
      },
      "outputs": [],
      "source": [
        "# Ganti hasil prediksi (0, 1, 2) menjadi kategori yang lebih jelas\n",
        "prediction_map = {0: 'Normal', 1: 'Warning', 2: 'Breakdown'}\n",
        "y_test_pred_category = [prediction_map[val] for val in y_test_pred]"
      ]
    },
    {
      "cell_type": "code",
      "execution_count": null,
      "id": "dda73ae9",
      "metadata": {
        "execution": {
          "iopub.execute_input": "2025-01-21T20:49:41.503359Z",
          "iopub.status.busy": "2025-01-21T20:49:41.503096Z",
          "iopub.status.idle": "2025-01-21T20:49:42.007280Z",
          "shell.execute_reply": "2025-01-21T20:49:42.006597Z"
        },
        "papermill": {
          "duration": 0.528099,
          "end_time": "2025-01-21T20:49:42.008961",
          "exception": false,
          "start_time": "2025-01-21T20:49:41.480862",
          "status": "completed"
        },
        "tags": [],
        "id": "dda73ae9"
      },
      "outputs": [],
      "source": [
        "hasil_prediksi = pd.DataFrame({\n",
        "    'ID_Transaction': data_test['ID_Transaction'],\n",
        "    'Status': y_test_pred_category\n",
        "})"
      ]
    },
    {
      "cell_type": "code",
      "execution_count": null,
      "id": "df220046",
      "metadata": {
        "execution": {
          "iopub.execute_input": "2025-01-21T20:49:42.054562Z",
          "iopub.status.busy": "2025-01-21T20:49:42.054266Z",
          "iopub.status.idle": "2025-01-21T20:49:42.061785Z",
          "shell.execute_reply": "2025-01-21T20:49:42.061117Z"
        },
        "papermill": {
          "duration": 0.031258,
          "end_time": "2025-01-21T20:49:42.063017",
          "exception": false,
          "start_time": "2025-01-21T20:49:42.031759",
          "status": "completed"
        },
        "tags": [],
        "id": "df220046",
        "outputId": "b194c692-5c43-4807-8050-90903e7d43db"
      },
      "outputs": [
        {
          "data": {
            "text/html": [
              "<div>\n",
              "<style scoped>\n",
              "    .dataframe tbody tr th:only-of-type {\n",
              "        vertical-align: middle;\n",
              "    }\n",
              "\n",
              "    .dataframe tbody tr th {\n",
              "        vertical-align: top;\n",
              "    }\n",
              "\n",
              "    .dataframe thead th {\n",
              "        text-align: right;\n",
              "    }\n",
              "</style>\n",
              "<table border=\"1\" class=\"dataframe\">\n",
              "  <thead>\n",
              "    <tr style=\"text-align: right;\">\n",
              "      <th></th>\n",
              "      <th>ID_Transaction</th>\n",
              "      <th>Status</th>\n",
              "    </tr>\n",
              "  </thead>\n",
              "  <tbody>\n",
              "    <tr>\n",
              "      <th>0</th>\n",
              "      <td>TRXb7e33ef41eea9cfdc0d1c338bad7f0d4</td>\n",
              "      <td>Normal</td>\n",
              "    </tr>\n",
              "    <tr>\n",
              "      <th>1</th>\n",
              "      <td>TRX8fc5889e25fbf66b21063d165228745f</td>\n",
              "      <td>Normal</td>\n",
              "    </tr>\n",
              "    <tr>\n",
              "      <th>2</th>\n",
              "      <td>TRX5c56664724a974cf6c87bd2659fd7046</td>\n",
              "      <td>Normal</td>\n",
              "    </tr>\n",
              "    <tr>\n",
              "      <th>3</th>\n",
              "      <td>TRX85fe42a5737897b7649a24fede27e90f</td>\n",
              "      <td>Normal</td>\n",
              "    </tr>\n",
              "    <tr>\n",
              "      <th>4</th>\n",
              "      <td>TRX16fae83f3c8c66fb15f088e7da7713ee</td>\n",
              "      <td>Normal</td>\n",
              "    </tr>\n",
              "  </tbody>\n",
              "</table>\n",
              "</div>"
            ],
            "text/plain": [
              "                        ID_Transaction  Status\n",
              "0  TRXb7e33ef41eea9cfdc0d1c338bad7f0d4  Normal\n",
              "1  TRX8fc5889e25fbf66b21063d165228745f  Normal\n",
              "2  TRX5c56664724a974cf6c87bd2659fd7046  Normal\n",
              "3  TRX85fe42a5737897b7649a24fede27e90f  Normal\n",
              "4  TRX16fae83f3c8c66fb15f088e7da7713ee  Normal"
            ]
          },
          "execution_count": 76,
          "metadata": {},
          "output_type": "execute_result"
        }
      ],
      "source": [
        "hasil_prediksi.head()"
      ]
    },
    {
      "cell_type": "code",
      "execution_count": null,
      "id": "89d41c4f",
      "metadata": {
        "execution": {
          "iopub.execute_input": "2025-01-21T20:49:42.106581Z",
          "iopub.status.busy": "2025-01-21T20:49:42.106376Z",
          "iopub.status.idle": "2025-01-21T20:49:42.424612Z",
          "shell.execute_reply": "2025-01-21T20:49:42.423835Z"
        },
        "papermill": {
          "duration": 0.341352,
          "end_time": "2025-01-21T20:49:42.426003",
          "exception": false,
          "start_time": "2025-01-21T20:49:42.084651",
          "status": "completed"
        },
        "tags": [],
        "id": "89d41c4f",
        "outputId": "518ecd2b-6267-4b73-ea74-386adb1d2de4"
      },
      "outputs": [
        {
          "data": {
            "text/plain": [
              "Status\n",
              "Normal       6139656\n",
              "Warning       481010\n",
              "Breakdown     379334\n",
              "Name: count, dtype: int64"
            ]
          },
          "execution_count": 77,
          "metadata": {},
          "output_type": "execute_result"
        }
      ],
      "source": [
        "hasil_prediksi['Status'].value_counts()"
      ]
    },
    {
      "cell_type": "code",
      "execution_count": null,
      "id": "0669c858",
      "metadata": {
        "execution": {
          "iopub.execute_input": "2025-01-21T20:49:42.471369Z",
          "iopub.status.busy": "2025-01-21T20:49:42.471128Z",
          "iopub.status.idle": "2025-01-21T20:49:50.825243Z",
          "shell.execute_reply": "2025-01-21T20:49:50.824558Z"
        },
        "papermill": {
          "duration": 8.378317,
          "end_time": "2025-01-21T20:49:50.826870",
          "exception": false,
          "start_time": "2025-01-21T20:49:42.448553",
          "status": "completed"
        },
        "tags": [],
        "id": "0669c858"
      },
      "outputs": [],
      "source": [
        "hasil_prediksi.to_csv('/kaggle/working/submission_0.4775.csv', index=False)"
      ]
    }
  ],
  "metadata": {
    "kaggle": {
      "accelerator": "nvidiaTeslaT4",
      "dataSources": [
        {
          "datasetId": 6495187,
          "sourceId": 10490287,
          "sourceType": "datasetVersion"
        },
        {
          "datasetId": 6496768,
          "sourceId": 10493059,
          "sourceType": "datasetVersion"
        },
        {
          "sourceId": 217970347,
          "sourceType": "kernelVersion"
        }
      ],
      "dockerImageVersionId": 30840,
      "isGpuEnabled": true,
      "isInternetEnabled": true,
      "language": "python",
      "sourceType": "notebook"
    },
    "kernelspec": {
      "display_name": "Python 3",
      "language": "python",
      "name": "python3"
    },
    "language_info": {
      "codemirror_mode": {
        "name": "ipython",
        "version": 3
      },
      "file_extension": ".py",
      "mimetype": "text/x-python",
      "name": "python",
      "nbconvert_exporter": "python",
      "pygments_lexer": "ipython3",
      "version": "3.10.12"
    },
    "papermill": {
      "default_parameters": {},
      "duration": 1022.158642,
      "end_time": "2025-01-21T20:49:52.873216",
      "environment_variables": {},
      "exception": null,
      "input_path": "__notebook__.ipynb",
      "output_path": "__notebook__.ipynb",
      "parameters": {},
      "start_time": "2025-01-21T20:32:50.714574",
      "version": "2.6.0"
    },
    "colab": {
      "provenance": []
    }
  },
  "nbformat": 4,
  "nbformat_minor": 5
}