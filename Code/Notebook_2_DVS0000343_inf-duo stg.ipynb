{
 "cells": [
  {
   "cell_type": "markdown",
   "id": "694097ee",
   "metadata": {
    "papermill": {
     "duration": 0.009459,
     "end_time": "2025-01-15T02:17:01.136210",
     "exception": false,
     "start_time": "2025-01-15T02:17:01.126751",
     "status": "completed"
    },
    "tags": []
   },
   "source": [
    "## **PACKAGE**"
   ]
  },
  {
   "cell_type": "code",
   "execution_count": 1,
   "id": "a18d12a0",
   "metadata": {
    "_cell_guid": "b1076dfc-b9ad-4769-8c92-a6c4dae69d19",
    "_uuid": "8f2839f25d086af736a60e9eeb907d3b93b6e0e5",
    "execution": {
     "iopub.execute_input": "2025-01-15T02:17:01.155564Z",
     "iopub.status.busy": "2025-01-15T02:17:01.155180Z",
     "iopub.status.idle": "2025-01-15T02:17:03.734725Z",
     "shell.execute_reply": "2025-01-15T02:17:03.733554Z"
    },
    "papermill": {
     "duration": 2.592024,
     "end_time": "2025-01-15T02:17:03.737122",
     "exception": false,
     "start_time": "2025-01-15T02:17:01.145098",
     "status": "completed"
    },
    "tags": []
   },
   "outputs": [],
   "source": [
    "import pandas as pd\n",
    "import numpy as np\n",
    "import os\n",
    "import matplotlib.pyplot as plt\n",
    "import seaborn as sns\n",
    "from scipy import stats\n",
    "import gc"
   ]
  },
  {
   "cell_type": "code",
   "execution_count": 2,
   "id": "f27c4215",
   "metadata": {
    "execution": {
     "iopub.execute_input": "2025-01-15T02:17:03.756815Z",
     "iopub.status.busy": "2025-01-15T02:17:03.756147Z",
     "iopub.status.idle": "2025-01-15T02:17:03.761366Z",
     "shell.execute_reply": "2025-01-15T02:17:03.760292Z"
    },
    "papermill": {
     "duration": 0.017151,
     "end_time": "2025-01-15T02:17:03.763349",
     "exception": false,
     "start_time": "2025-01-15T02:17:03.746198",
     "status": "completed"
    },
    "tags": []
   },
   "outputs": [],
   "source": [
    "import warnings\n",
    "# Ignore all warnings\n",
    "warnings.filterwarnings(\"ignore\")"
   ]
  },
  {
   "cell_type": "markdown",
   "id": "ee5446aa",
   "metadata": {
    "papermill": {
     "duration": 0.009295,
     "end_time": "2025-01-15T02:17:03.789089",
     "exception": false,
     "start_time": "2025-01-15T02:17:03.779794",
     "status": "completed"
    },
    "tags": []
   },
   "source": [
    "## **DATA**"
   ]
  },
  {
   "cell_type": "code",
   "execution_count": 3,
   "id": "613a6274",
   "metadata": {
    "execution": {
     "iopub.execute_input": "2025-01-15T02:17:03.807502Z",
     "iopub.status.busy": "2025-01-15T02:17:03.806978Z",
     "iopub.status.idle": "2025-01-15T02:17:03.812404Z",
     "shell.execute_reply": "2025-01-15T02:17:03.811005Z"
    },
    "papermill": {
     "duration": 0.016932,
     "end_time": "2025-01-15T02:17:03.814365",
     "exception": false,
     "start_time": "2025-01-15T02:17:03.797433",
     "status": "completed"
    },
    "tags": []
   },
   "outputs": [],
   "source": [
    "# Lokasi dataset di kernel Kaggle\n",
    "train_path = '/kaggle/input/penyisihan-data-vers-anava-19/train.csv'\n",
    "test_path = '/kaggle/input/penyisihan-data-vers-anava-19/test.csv'\n",
    "mac_area_path = '/kaggle/input/penyisihan-data-vers-anava-19/Machine-Area.csv'\n",
    "mac_list_path = '/kaggle/input/penyisihan-data-vers-anava-19/Machine-List.csv'\n",
    "area_list_path = '/kaggle/input/penyisihan-data-vers-anava-19/Area-List.csv'"
   ]
  },
  {
   "cell_type": "code",
   "execution_count": 4,
   "id": "8f2c56eb",
   "metadata": {
    "execution": {
     "iopub.execute_input": "2025-01-15T02:17:03.841672Z",
     "iopub.status.busy": "2025-01-15T02:17:03.841278Z",
     "iopub.status.idle": "2025-01-15T02:17:03.876709Z",
     "shell.execute_reply": "2025-01-15T02:17:03.875863Z"
    },
    "papermill": {
     "duration": 0.049097,
     "end_time": "2025-01-15T02:17:03.878929",
     "exception": false,
     "start_time": "2025-01-15T02:17:03.829832",
     "status": "completed"
    },
    "tags": []
   },
   "outputs": [],
   "source": [
    "# Membaca dataset\n",
    "mac_area = pd.read_csv(mac_area_path)\n",
    "mac_list = pd.read_csv(mac_list_path)\n",
    "area_list = pd.read_csv(area_list_path)"
   ]
  },
  {
   "cell_type": "code",
   "execution_count": 5,
   "id": "d2b6f3a1",
   "metadata": {
    "execution": {
     "iopub.execute_input": "2025-01-15T02:17:03.897173Z",
     "iopub.status.busy": "2025-01-15T02:17:03.896843Z",
     "iopub.status.idle": "2025-01-15T02:17:03.900942Z",
     "shell.execute_reply": "2025-01-15T02:17:03.899903Z"
    },
    "papermill": {
     "duration": 0.014901,
     "end_time": "2025-01-15T02:17:03.902602",
     "exception": false,
     "start_time": "2025-01-15T02:17:03.887701",
     "status": "completed"
    },
    "tags": []
   },
   "outputs": [],
   "source": [
    "# train = pd.read_csv(train_path)"
   ]
  },
  {
   "cell_type": "code",
   "execution_count": 6,
   "id": "2f1c3241",
   "metadata": {
    "execution": {
     "iopub.execute_input": "2025-01-15T02:17:03.920984Z",
     "iopub.status.busy": "2025-01-15T02:17:03.920639Z",
     "iopub.status.idle": "2025-01-15T02:19:42.894423Z",
     "shell.execute_reply": "2025-01-15T02:19:42.893416Z"
    },
    "papermill": {
     "duration": 158.985289,
     "end_time": "2025-01-15T02:19:42.896545",
     "exception": false,
     "start_time": "2025-01-15T02:17:03.911256",
     "status": "completed"
    },
    "tags": []
   },
   "outputs": [],
   "source": [
    "test = pd.read_csv(test_path)"
   ]
  },
  {
   "cell_type": "code",
   "execution_count": 7,
   "id": "b4202833",
   "metadata": {
    "execution": {
     "iopub.execute_input": "2025-01-15T02:19:42.915821Z",
     "iopub.status.busy": "2025-01-15T02:19:42.915424Z",
     "iopub.status.idle": "2025-01-15T02:19:42.919282Z",
     "shell.execute_reply": "2025-01-15T02:19:42.918414Z"
    },
    "papermill": {
     "duration": 0.015043,
     "end_time": "2025-01-15T02:19:42.920849",
     "exception": false,
     "start_time": "2025-01-15T02:19:42.905806",
     "status": "completed"
    },
    "tags": []
   },
   "outputs": [],
   "source": [
    "# # Mengganti nama kolom 'Machine' menjadi 'ID_Mesin'\n",
    "# train.rename(columns={'Machine': 'ID_Mesin'}, inplace=True)"
   ]
  },
  {
   "cell_type": "code",
   "execution_count": 8,
   "id": "432c4f8d",
   "metadata": {
    "execution": {
     "iopub.execute_input": "2025-01-15T02:19:42.938912Z",
     "iopub.status.busy": "2025-01-15T02:19:42.938537Z",
     "iopub.status.idle": "2025-01-15T02:19:42.950671Z",
     "shell.execute_reply": "2025-01-15T02:19:42.949681Z"
    },
    "papermill": {
     "duration": 0.022998,
     "end_time": "2025-01-15T02:19:42.952234",
     "exception": false,
     "start_time": "2025-01-15T02:19:42.929236",
     "status": "completed"
    },
    "tags": []
   },
   "outputs": [],
   "source": [
    "test.rename(columns={'Machine': 'ID_Mesin'}, inplace=True)"
   ]
  },
  {
   "cell_type": "markdown",
   "id": "7b295cdd",
   "metadata": {
    "papermill": {
     "duration": 0.00808,
     "end_time": "2025-01-15T02:19:42.968957",
     "exception": false,
     "start_time": "2025-01-15T02:19:42.960877",
     "status": "completed"
    },
    "tags": []
   },
   "source": [
    "#### Data Information"
   ]
  },
  {
   "cell_type": "code",
   "execution_count": 9,
   "id": "63278761",
   "metadata": {
    "execution": {
     "iopub.execute_input": "2025-01-15T02:19:42.987691Z",
     "iopub.status.busy": "2025-01-15T02:19:42.987293Z",
     "iopub.status.idle": "2025-01-15T02:19:42.991196Z",
     "shell.execute_reply": "2025-01-15T02:19:42.989879Z"
    },
    "papermill": {
     "duration": 0.015236,
     "end_time": "2025-01-15T02:19:42.992963",
     "exception": false,
     "start_time": "2025-01-15T02:19:42.977727",
     "status": "completed"
    },
    "tags": []
   },
   "outputs": [],
   "source": [
    "# train.head()"
   ]
  },
  {
   "cell_type": "code",
   "execution_count": 10,
   "id": "17c4628a",
   "metadata": {
    "execution": {
     "iopub.execute_input": "2025-01-15T02:19:43.011604Z",
     "iopub.status.busy": "2025-01-15T02:19:43.011194Z",
     "iopub.status.idle": "2025-01-15T02:19:43.015582Z",
     "shell.execute_reply": "2025-01-15T02:19:43.014219Z"
    },
    "papermill": {
     "duration": 0.01584,
     "end_time": "2025-01-15T02:19:43.017483",
     "exception": false,
     "start_time": "2025-01-15T02:19:43.001643",
     "status": "completed"
    },
    "tags": []
   },
   "outputs": [],
   "source": [
    "# train.info()"
   ]
  },
  {
   "cell_type": "code",
   "execution_count": 11,
   "id": "5fdcb837",
   "metadata": {
    "execution": {
     "iopub.execute_input": "2025-01-15T02:19:43.035582Z",
     "iopub.status.busy": "2025-01-15T02:19:43.035162Z",
     "iopub.status.idle": "2025-01-15T02:19:43.060923Z",
     "shell.execute_reply": "2025-01-15T02:19:43.059875Z"
    },
    "papermill": {
     "duration": 0.036829,
     "end_time": "2025-01-15T02:19:43.062744",
     "exception": false,
     "start_time": "2025-01-15T02:19:43.025915",
     "status": "completed"
    },
    "tags": []
   },
   "outputs": [
    {
     "data": {
      "text/html": [
       "<div>\n",
       "<style scoped>\n",
       "    .dataframe tbody tr th:only-of-type {\n",
       "        vertical-align: middle;\n",
       "    }\n",
       "\n",
       "    .dataframe tbody tr th {\n",
       "        vertical-align: top;\n",
       "    }\n",
       "\n",
       "    .dataframe thead th {\n",
       "        text-align: right;\n",
       "    }\n",
       "</style>\n",
       "<table border=\"1\" class=\"dataframe\">\n",
       "  <thead>\n",
       "    <tr style=\"text-align: right;\">\n",
       "      <th></th>\n",
       "      <th>ID_Transaction</th>\n",
       "      <th>temperature_10H_max (°C)</th>\n",
       "      <th>temperature_10H_min (°C)</th>\n",
       "      <th>temperature-1</th>\n",
       "      <th>temperature-2</th>\n",
       "      <th>temperature-3</th>\n",
       "      <th>apparent_temperature_max</th>\n",
       "      <th>apparent_temperature_min</th>\n",
       "      <th>ID_Area</th>\n",
       "      <th>ID_Mesin</th>\n",
       "      <th>...</th>\n",
       "      <th>Current-R</th>\n",
       "      <th>Current-T</th>\n",
       "      <th>RPM</th>\n",
       "      <th>RPM-1</th>\n",
       "      <th>RPM-2</th>\n",
       "      <th>RPM-3</th>\n",
       "      <th>Vibration-1</th>\n",
       "      <th>Vibration-2</th>\n",
       "      <th>Power</th>\n",
       "      <th>Power_Backup</th>\n",
       "    </tr>\n",
       "  </thead>\n",
       "  <tbody>\n",
       "    <tr>\n",
       "      <th>0</th>\n",
       "      <td>TRXb7e33ef41eea9cfdc0d1c338bad7f0d4</td>\n",
       "      <td>-3322.323689270587</td>\n",
       "      <td>-221.67737363254508</td>\n",
       "      <td>166.92240029876953</td>\n",
       "      <td>48.626852810394325</td>\n",
       "      <td></td>\n",
       "      <td>13.669606291376748</td>\n",
       "      <td>-43.911656667645246</td>\n",
       "      <td>ID40</td>\n",
       "      <td>E.2</td>\n",
       "      <td>...</td>\n",
       "      <td>45.45096449466927</td>\n",
       "      <td>36.90041820578607</td>\n",
       "      <td>3917.2909495518606</td>\n",
       "      <td>2340.0981006961865</td>\n",
       "      <td>4035.8136205275036</td>\n",
       "      <td>3561.643315893858</td>\n",
       "      <td>26.94434125525892</td>\n",
       "      <td>57.225787489815936</td>\n",
       "      <td>1087.088944939074</td>\n",
       "      <td>Yes</td>\n",
       "    </tr>\n",
       "    <tr>\n",
       "      <th>1</th>\n",
       "      <td>TRX8fc5889e25fbf66b21063d165228745f</td>\n",
       "      <td>719.7003653439261</td>\n",
       "      <td></td>\n",
       "      <td>400.6785384009253</td>\n",
       "      <td>14.421424505461966</td>\n",
       "      <td>53.74034236398276</td>\n",
       "      <td>22.297931907382534</td>\n",
       "      <td>-36.56915185752349</td>\n",
       "      <td>ID15</td>\n",
       "      <td>H.2</td>\n",
       "      <td>...</td>\n",
       "      <td>56.99476161118598</td>\n",
       "      <td>38.21020857831081</td>\n",
       "      <td>2762.899180916612</td>\n",
       "      <td>2952.383868264757</td>\n",
       "      <td>2791.328126140899</td>\n",
       "      <td>2623.0055374559884</td>\n",
       "      <td>23.513568935713902</td>\n",
       "      <td>55.34152829946722</td>\n",
       "      <td></td>\n",
       "      <td>Yes</td>\n",
       "    </tr>\n",
       "    <tr>\n",
       "      <th>2</th>\n",
       "      <td>TRX5c56664724a974cf6c87bd2659fd7046</td>\n",
       "      <td>718.9186302101944</td>\n",
       "      <td>23.645588046264507</td>\n",
       "      <td>456.53520634624607</td>\n",
       "      <td>39.05399931897624</td>\n",
       "      <td>16.80005616247519</td>\n",
       "      <td>24.194077862441496</td>\n",
       "      <td>-19.18018123984545</td>\n",
       "      <td>ID20</td>\n",
       "      <td>I.4</td>\n",
       "      <td>...</td>\n",
       "      <td>53.15688509690868</td>\n",
       "      <td>44.19762799103777</td>\n",
       "      <td>3927.7998823136522</td>\n",
       "      <td>4032.620018624474</td>\n",
       "      <td>3080.0855020077333</td>\n",
       "      <td>4035.6381798818416</td>\n",
       "      <td>19.985904585201382</td>\n",
       "      <td>44.38657282139394</td>\n",
       "      <td>1524.9192199359206</td>\n",
       "      <td>Yes</td>\n",
       "    </tr>\n",
       "    <tr>\n",
       "      <th>3</th>\n",
       "      <td>TRX85fe42a5737897b7649a24fede27e90f</td>\n",
       "      <td>593.6787089846632</td>\n",
       "      <td>19.380102911302785</td>\n",
       "      <td></td>\n",
       "      <td>7.974227880557866</td>\n",
       "      <td>118.6299667272738</td>\n",
       "      <td>14.245904945513926</td>\n",
       "      <td></td>\n",
       "      <td>ID41</td>\n",
       "      <td>J.2</td>\n",
       "      <td>...</td>\n",
       "      <td>49.02472557765421</td>\n",
       "      <td>41.50724029958459</td>\n",
       "      <td>2886.27576356171</td>\n",
       "      <td>2991.885544406123</td>\n",
       "      <td>3679.9557779321217</td>\n",
       "      <td>2500.7648454729942</td>\n",
       "      <td>21.777422610733986</td>\n",
       "      <td>50.73568095561177</td>\n",
       "      <td>469.72530260126604</td>\n",
       "      <td>Yes</td>\n",
       "    </tr>\n",
       "    <tr>\n",
       "      <th>4</th>\n",
       "      <td>TRX16fae83f3c8c66fb15f088e7da7713ee</td>\n",
       "      <td>644.1194850220021</td>\n",
       "      <td>27.35261595938096</td>\n",
       "      <td>628.3354270324296</td>\n",
       "      <td>56.588644499962506</td>\n",
       "      <td>5.29817421109406</td>\n",
       "      <td>31.684072124234657</td>\n",
       "      <td>-24.18266108399551</td>\n",
       "      <td>ID22</td>\n",
       "      <td>H.1</td>\n",
       "      <td>...</td>\n",
       "      <td>45.04135681731117</td>\n",
       "      <td>57.0080395875073</td>\n",
       "      <td>4265.69854480477</td>\n",
       "      <td></td>\n",
       "      <td>4855.27304747384</td>\n",
       "      <td>3371.633256175032</td>\n",
       "      <td>27.061249402750484</td>\n",
       "      <td>52.31777032673014</td>\n",
       "      <td>1325.416707655282</td>\n",
       "      <td>No</td>\n",
       "    </tr>\n",
       "  </tbody>\n",
       "</table>\n",
       "<p>5 rows × 26 columns</p>\n",
       "</div>"
      ],
      "text/plain": [
       "                        ID_Transaction temperature_10H_max (°C)  \\\n",
       "0  TRXb7e33ef41eea9cfdc0d1c338bad7f0d4       -3322.323689270587   \n",
       "1  TRX8fc5889e25fbf66b21063d165228745f        719.7003653439261   \n",
       "2  TRX5c56664724a974cf6c87bd2659fd7046        718.9186302101944   \n",
       "3  TRX85fe42a5737897b7649a24fede27e90f        593.6787089846632   \n",
       "4  TRX16fae83f3c8c66fb15f088e7da7713ee        644.1194850220021   \n",
       "\n",
       "  temperature_10H_min (°C)       temperature-1       temperature-2  \\\n",
       "0      -221.67737363254508  166.92240029876953  48.626852810394325   \n",
       "1                            400.6785384009253  14.421424505461966   \n",
       "2       23.645588046264507  456.53520634624607   39.05399931897624   \n",
       "3       19.380102911302785                       7.974227880557866   \n",
       "4        27.35261595938096   628.3354270324296  56.588644499962506   \n",
       "\n",
       "       temperature-3 apparent_temperature_max apparent_temperature_min  \\\n",
       "0                          13.669606291376748      -43.911656667645246   \n",
       "1  53.74034236398276       22.297931907382534       -36.56915185752349   \n",
       "2  16.80005616247519       24.194077862441496       -19.18018123984545   \n",
       "3  118.6299667272738       14.245904945513926                            \n",
       "4   5.29817421109406       31.684072124234657       -24.18266108399551   \n",
       "\n",
       "  ID_Area ID_Mesin  ...          Current-R          Current-T  \\\n",
       "0    ID40      E.2  ...  45.45096449466927  36.90041820578607   \n",
       "1    ID15      H.2  ...  56.99476161118598  38.21020857831081   \n",
       "2    ID20      I.4  ...  53.15688509690868  44.19762799103777   \n",
       "3    ID41      J.2  ...  49.02472557765421  41.50724029958459   \n",
       "4    ID22      H.1  ...  45.04135681731117   57.0080395875073   \n",
       "\n",
       "                  RPM               RPM-1               RPM-2  \\\n",
       "0  3917.2909495518606  2340.0981006961865  4035.8136205275036   \n",
       "1   2762.899180916612   2952.383868264757   2791.328126140899   \n",
       "2  3927.7998823136522   4032.620018624474  3080.0855020077333   \n",
       "3    2886.27576356171   2991.885544406123  3679.9557779321217   \n",
       "4    4265.69854480477                        4855.27304747384   \n",
       "\n",
       "                RPM-3         Vibration-1         Vibration-2  \\\n",
       "0   3561.643315893858   26.94434125525892  57.225787489815936   \n",
       "1  2623.0055374559884  23.513568935713902   55.34152829946722   \n",
       "2  4035.6381798818416  19.985904585201382   44.38657282139394   \n",
       "3  2500.7648454729942  21.777422610733986   50.73568095561177   \n",
       "4   3371.633256175032  27.061249402750484   52.31777032673014   \n",
       "\n",
       "                Power Power_Backup  \n",
       "0   1087.088944939074          Yes  \n",
       "1                              Yes  \n",
       "2  1524.9192199359206          Yes  \n",
       "3  469.72530260126604          Yes  \n",
       "4   1325.416707655282           No  \n",
       "\n",
       "[5 rows x 26 columns]"
      ]
     },
     "execution_count": 11,
     "metadata": {},
     "output_type": "execute_result"
    }
   ],
   "source": [
    "test.head()"
   ]
  },
  {
   "cell_type": "code",
   "execution_count": 12,
   "id": "8f7b1a7b",
   "metadata": {
    "execution": {
     "iopub.execute_input": "2025-01-15T02:19:43.081623Z",
     "iopub.status.busy": "2025-01-15T02:19:43.081246Z",
     "iopub.status.idle": "2025-01-15T02:19:43.106363Z",
     "shell.execute_reply": "2025-01-15T02:19:43.105043Z"
    },
    "papermill": {
     "duration": 0.036528,
     "end_time": "2025-01-15T02:19:43.108167",
     "exception": false,
     "start_time": "2025-01-15T02:19:43.071639",
     "status": "completed"
    },
    "tags": []
   },
   "outputs": [
    {
     "name": "stdout",
     "output_type": "stream",
     "text": [
      "<class 'pandas.core.frame.DataFrame'>\n",
      "RangeIndex: 7000000 entries, 0 to 6999999\n",
      "Data columns (total 26 columns):\n",
      " #   Column                    Dtype \n",
      "---  ------                    ----- \n",
      " 0   ID_Transaction            object\n",
      " 1   temperature_10H_max (°C)  object\n",
      " 2   temperature_10H_min (°C)  object\n",
      " 3   temperature-1             object\n",
      " 4   temperature-2             object\n",
      " 5   temperature-3             object\n",
      " 6   apparent_temperature_max  object\n",
      " 7   apparent_temperature_min  object\n",
      " 8   ID_Area                   object\n",
      " 9   ID_Mesin                  object\n",
      " 10  timestamp                 object\n",
      " 11  humidity                  object\n",
      " 12  Voltage-L                 object\n",
      " 13  Voltage-R                 object\n",
      " 14  Voltage-M                 object\n",
      " 15  Current-M                 object\n",
      " 16  Current-R                 object\n",
      " 17  Current-T                 object\n",
      " 18  RPM                       object\n",
      " 19  RPM-1                     object\n",
      " 20  RPM-2                     object\n",
      " 21  RPM-3                     object\n",
      " 22  Vibration-1               object\n",
      " 23  Vibration-2               object\n",
      " 24  Power                     object\n",
      " 25  Power_Backup              object\n",
      "dtypes: object(26)\n",
      "memory usage: 1.4+ GB\n"
     ]
    }
   ],
   "source": [
    "test.info()"
   ]
  },
  {
   "cell_type": "markdown",
   "id": "3ebf36ae",
   "metadata": {
    "papermill": {
     "duration": 0.008539,
     "end_time": "2025-01-15T02:19:43.125807",
     "exception": false,
     "start_time": "2025-01-15T02:19:43.117268",
     "status": "completed"
    },
    "tags": []
   },
   "source": [
    "## **JOIN DATA**"
   ]
  },
  {
   "cell_type": "code",
   "execution_count": 13,
   "id": "e179d062",
   "metadata": {
    "execution": {
     "iopub.execute_input": "2025-01-15T02:19:43.144866Z",
     "iopub.status.busy": "2025-01-15T02:19:43.144448Z",
     "iopub.status.idle": "2025-01-15T02:19:43.154227Z",
     "shell.execute_reply": "2025-01-15T02:19:43.152893Z"
    },
    "papermill": {
     "duration": 0.0215,
     "end_time": "2025-01-15T02:19:43.156097",
     "exception": false,
     "start_time": "2025-01-15T02:19:43.134597",
     "status": "completed"
    },
    "tags": []
   },
   "outputs": [
    {
     "data": {
      "text/html": [
       "<div>\n",
       "<style scoped>\n",
       "    .dataframe tbody tr th:only-of-type {\n",
       "        vertical-align: middle;\n",
       "    }\n",
       "\n",
       "    .dataframe tbody tr th {\n",
       "        vertical-align: top;\n",
       "    }\n",
       "\n",
       "    .dataframe thead th {\n",
       "        text-align: right;\n",
       "    }\n",
       "</style>\n",
       "<table border=\"1\" class=\"dataframe\">\n",
       "  <thead>\n",
       "    <tr style=\"text-align: right;\">\n",
       "      <th></th>\n",
       "      <th>ID_Area</th>\n",
       "      <th>Area</th>\n",
       "      <th>Priority</th>\n",
       "    </tr>\n",
       "  </thead>\n",
       "  <tbody>\n",
       "    <tr>\n",
       "      <th>0</th>\n",
       "      <td>ID1</td>\n",
       "      <td>BLJA</td>\n",
       "      <td>Low</td>\n",
       "    </tr>\n",
       "    <tr>\n",
       "      <th>1</th>\n",
       "      <td>ID2</td>\n",
       "      <td>SDA</td>\n",
       "      <td>Low</td>\n",
       "    </tr>\n",
       "    <tr>\n",
       "      <th>2</th>\n",
       "      <td>ID3</td>\n",
       "      <td>BGR</td>\n",
       "      <td>Low</td>\n",
       "    </tr>\n",
       "    <tr>\n",
       "      <th>3</th>\n",
       "      <td>ID4</td>\n",
       "      <td>SKBM</td>\n",
       "      <td>Medium</td>\n",
       "    </tr>\n",
       "    <tr>\n",
       "      <th>4</th>\n",
       "      <td>ID5</td>\n",
       "      <td>SMGS</td>\n",
       "      <td>High</td>\n",
       "    </tr>\n",
       "  </tbody>\n",
       "</table>\n",
       "</div>"
      ],
      "text/plain": [
       "  ID_Area  Area Priority\n",
       "0     ID1  BLJA      Low\n",
       "1     ID2   SDA      Low\n",
       "2     ID3   BGR      Low\n",
       "3     ID4  SKBM   Medium\n",
       "4     ID5  SMGS     High"
      ]
     },
     "execution_count": 13,
     "metadata": {},
     "output_type": "execute_result"
    }
   ],
   "source": [
    "area_list.head()"
   ]
  },
  {
   "cell_type": "code",
   "execution_count": 14,
   "id": "474d3caf",
   "metadata": {
    "execution": {
     "iopub.execute_input": "2025-01-15T02:19:43.175986Z",
     "iopub.status.busy": "2025-01-15T02:19:43.175585Z",
     "iopub.status.idle": "2025-01-15T02:19:43.187596Z",
     "shell.execute_reply": "2025-01-15T02:19:43.186614Z"
    },
    "papermill": {
     "duration": 0.023845,
     "end_time": "2025-01-15T02:19:43.189266",
     "exception": false,
     "start_time": "2025-01-15T02:19:43.165421",
     "status": "completed"
    },
    "tags": []
   },
   "outputs": [
    {
     "data": {
      "text/html": [
       "<div>\n",
       "<style scoped>\n",
       "    .dataframe tbody tr th:only-of-type {\n",
       "        vertical-align: middle;\n",
       "    }\n",
       "\n",
       "    .dataframe tbody tr th {\n",
       "        vertical-align: top;\n",
       "    }\n",
       "\n",
       "    .dataframe thead th {\n",
       "        text-align: right;\n",
       "    }\n",
       "</style>\n",
       "<table border=\"1\" class=\"dataframe\">\n",
       "  <thead>\n",
       "    <tr style=\"text-align: right;\">\n",
       "      <th></th>\n",
       "      <th>ID_Mesin</th>\n",
       "      <th>Mesin</th>\n",
       "      <th>Country Machine</th>\n",
       "      <th>ID_Area</th>\n",
       "      <th>Last Maintenance</th>\n",
       "      <th>Status Sparepart</th>\n",
       "      <th>Age</th>\n",
       "    </tr>\n",
       "  </thead>\n",
       "  <tbody>\n",
       "    <tr>\n",
       "      <th>0</th>\n",
       "      <td>B.4</td>\n",
       "      <td>Novamax</td>\n",
       "      <td>US</td>\n",
       "      <td>ID21</td>\n",
       "      <td>2020-01-18</td>\n",
       "      <td>Broken</td>\n",
       "      <td>2</td>\n",
       "    </tr>\n",
       "    <tr>\n",
       "      <th>1</th>\n",
       "      <td>H.2</td>\n",
       "      <td>Risco-TR300</td>\n",
       "      <td>CN</td>\n",
       "      <td>ID29</td>\n",
       "      <td>2021-12-08</td>\n",
       "      <td>Repair</td>\n",
       "      <td>6</td>\n",
       "    </tr>\n",
       "    <tr>\n",
       "      <th>2</th>\n",
       "      <td>I.3</td>\n",
       "      <td>Vacuum Filler-2</td>\n",
       "      <td>US</td>\n",
       "      <td>ID21</td>\n",
       "      <td>2020-01-17</td>\n",
       "      <td>Repair</td>\n",
       "      <td>18</td>\n",
       "    </tr>\n",
       "    <tr>\n",
       "      <th>3</th>\n",
       "      <td>A.3</td>\n",
       "      <td>Risco-TR700</td>\n",
       "      <td>CN</td>\n",
       "      <td>ID7</td>\n",
       "      <td>2020-08-26</td>\n",
       "      <td>On Check</td>\n",
       "      <td>4</td>\n",
       "    </tr>\n",
       "    <tr>\n",
       "      <th>4</th>\n",
       "      <td>G.2</td>\n",
       "      <td>Risco-TR200</td>\n",
       "      <td>TW</td>\n",
       "      <td>ID6</td>\n",
       "      <td>2020-05-11</td>\n",
       "      <td>On Check</td>\n",
       "      <td>18</td>\n",
       "    </tr>\n",
       "  </tbody>\n",
       "</table>\n",
       "</div>"
      ],
      "text/plain": [
       "  ID_Mesin            Mesin Country Machine ID_Area Last Maintenance  \\\n",
       "0      B.4          Novamax              US    ID21       2020-01-18   \n",
       "1      H.2      Risco-TR300              CN    ID29       2021-12-08   \n",
       "2      I.3  Vacuum Filler-2              US    ID21       2020-01-17   \n",
       "3      A.3      Risco-TR700              CN     ID7       2020-08-26   \n",
       "4      G.2      Risco-TR200              TW     ID6       2020-05-11   \n",
       "\n",
       "  Status Sparepart  Age  \n",
       "0           Broken    2  \n",
       "1           Repair    6  \n",
       "2           Repair   18  \n",
       "3         On Check    4  \n",
       "4         On Check   18  "
      ]
     },
     "execution_count": 14,
     "metadata": {},
     "output_type": "execute_result"
    }
   ],
   "source": [
    "mac_area.head()"
   ]
  },
  {
   "cell_type": "code",
   "execution_count": 15,
   "id": "6a2823f7",
   "metadata": {
    "execution": {
     "iopub.execute_input": "2025-01-15T02:19:43.209529Z",
     "iopub.status.busy": "2025-01-15T02:19:43.209132Z",
     "iopub.status.idle": "2025-01-15T02:19:43.218497Z",
     "shell.execute_reply": "2025-01-15T02:19:43.217350Z"
    },
    "papermill": {
     "duration": 0.021462,
     "end_time": "2025-01-15T02:19:43.220185",
     "exception": false,
     "start_time": "2025-01-15T02:19:43.198723",
     "status": "completed"
    },
    "tags": []
   },
   "outputs": [
    {
     "data": {
      "text/html": [
       "<div>\n",
       "<style scoped>\n",
       "    .dataframe tbody tr th:only-of-type {\n",
       "        vertical-align: middle;\n",
       "    }\n",
       "\n",
       "    .dataframe tbody tr th {\n",
       "        vertical-align: top;\n",
       "    }\n",
       "\n",
       "    .dataframe thead th {\n",
       "        text-align: right;\n",
       "    }\n",
       "</style>\n",
       "<table border=\"1\" class=\"dataframe\">\n",
       "  <thead>\n",
       "    <tr style=\"text-align: right;\">\n",
       "      <th></th>\n",
       "      <th>ID_Mesin</th>\n",
       "      <th>Mesin</th>\n",
       "      <th>Country Machine</th>\n",
       "    </tr>\n",
       "  </thead>\n",
       "  <tbody>\n",
       "    <tr>\n",
       "      <th>0</th>\n",
       "      <td>A.1</td>\n",
       "      <td>NL1</td>\n",
       "      <td>JP</td>\n",
       "    </tr>\n",
       "    <tr>\n",
       "      <th>1</th>\n",
       "      <td>B.1</td>\n",
       "      <td>NL2</td>\n",
       "      <td>US</td>\n",
       "    </tr>\n",
       "    <tr>\n",
       "      <th>2</th>\n",
       "      <td>C.1</td>\n",
       "      <td>NL3</td>\n",
       "      <td>US</td>\n",
       "    </tr>\n",
       "    <tr>\n",
       "      <th>3</th>\n",
       "      <td>D.1</td>\n",
       "      <td>Hitech-1</td>\n",
       "      <td>KR</td>\n",
       "    </tr>\n",
       "    <tr>\n",
       "      <th>4</th>\n",
       "      <td>E.1</td>\n",
       "      <td>Plate Fomer Stork</td>\n",
       "      <td>JP</td>\n",
       "    </tr>\n",
       "  </tbody>\n",
       "</table>\n",
       "</div>"
      ],
      "text/plain": [
       "  ID_Mesin              Mesin Country Machine\n",
       "0      A.1                NL1              JP\n",
       "1      B.1                NL2              US\n",
       "2      C.1                NL3              US\n",
       "3      D.1           Hitech-1              KR\n",
       "4      E.1  Plate Fomer Stork              JP"
      ]
     },
     "execution_count": 15,
     "metadata": {},
     "output_type": "execute_result"
    }
   ],
   "source": [
    "mac_list.head()"
   ]
  },
  {
   "cell_type": "markdown",
   "id": "ed6bd6ea",
   "metadata": {
    "papermill": {
     "duration": 0.00931,
     "end_time": "2025-01-15T02:19:43.239193",
     "exception": false,
     "start_time": "2025-01-15T02:19:43.229883",
     "status": "completed"
    },
    "tags": []
   },
   "source": [
    "Selanjutnya akan dilakukan join data\n",
    "- Country Machine ke data mac_area (opsional)\n",
    "- Priority dan Area dari area_list\n",
    "- Age, Last Maintenance, Status Sparepart, Country Machine"
   ]
  },
  {
   "cell_type": "markdown",
   "id": "723eb585",
   "metadata": {
    "papermill": {
     "duration": 0.009447,
     "end_time": "2025-01-15T02:19:43.258126",
     "exception": false,
     "start_time": "2025-01-15T02:19:43.248679",
     "status": "completed"
    },
    "tags": []
   },
   "source": [
    "Priority dan Area dari area_list ke train"
   ]
  },
  {
   "cell_type": "code",
   "execution_count": 16,
   "id": "952d45f4",
   "metadata": {
    "execution": {
     "iopub.execute_input": "2025-01-15T02:19:43.278659Z",
     "iopub.status.busy": "2025-01-15T02:19:43.278195Z",
     "iopub.status.idle": "2025-01-15T02:19:43.283706Z",
     "shell.execute_reply": "2025-01-15T02:19:43.282502Z"
    },
    "papermill": {
     "duration": 0.017945,
     "end_time": "2025-01-15T02:19:43.285602",
     "exception": false,
     "start_time": "2025-01-15T02:19:43.267657",
     "status": "completed"
    },
    "tags": []
   },
   "outputs": [],
   "source": [
    "def add_priority(train_df, area_list_df):\n",
    "    \n",
    "    # Create a mapping dictionary from area_list\n",
    "    priority_mapping = dict(zip(area_list_df['ID_Area'], area_list_df['Priority']))\n",
    "    \n",
    "    # Add priority column to train_df using map\n",
    "    train_df['Priority'] = train_df['ID_Area'].map(priority_mapping)\n",
    "    \n",
    "    return train_df"
   ]
  },
  {
   "cell_type": "code",
   "execution_count": 17,
   "id": "5db091e9",
   "metadata": {
    "execution": {
     "iopub.execute_input": "2025-01-15T02:19:43.306398Z",
     "iopub.status.busy": "2025-01-15T02:19:43.305990Z",
     "iopub.status.idle": "2025-01-15T02:19:43.311326Z",
     "shell.execute_reply": "2025-01-15T02:19:43.310153Z"
    },
    "papermill": {
     "duration": 0.017738,
     "end_time": "2025-01-15T02:19:43.313140",
     "exception": false,
     "start_time": "2025-01-15T02:19:43.295402",
     "status": "completed"
    },
    "tags": []
   },
   "outputs": [],
   "source": [
    "def add_area(train_df, area_list_df):\n",
    "    \n",
    "    # Create a mapping dictionary from area_list\n",
    "    area_mapping = dict(zip(area_list_df['ID_Area'], area_list_df['Area']))\n",
    "    \n",
    "    # Add priority column to train_df using map\n",
    "    train_df['Area'] = train_df['ID_Area'].map(area_mapping)\n",
    "    \n",
    "    return train_df"
   ]
  },
  {
   "cell_type": "code",
   "execution_count": 18,
   "id": "249abf56",
   "metadata": {
    "execution": {
     "iopub.execute_input": "2025-01-15T02:19:43.334880Z",
     "iopub.status.busy": "2025-01-15T02:19:43.334521Z",
     "iopub.status.idle": "2025-01-15T02:19:43.338477Z",
     "shell.execute_reply": "2025-01-15T02:19:43.337350Z"
    },
    "papermill": {
     "duration": 0.016163,
     "end_time": "2025-01-15T02:19:43.340170",
     "exception": false,
     "start_time": "2025-01-15T02:19:43.324007",
     "status": "completed"
    },
    "tags": []
   },
   "outputs": [],
   "source": [
    "# train_df_with_priority = add_priority(train, area_list)"
   ]
  },
  {
   "cell_type": "code",
   "execution_count": 19,
   "id": "77c2f89c",
   "metadata": {
    "execution": {
     "iopub.execute_input": "2025-01-15T02:19:43.361245Z",
     "iopub.status.busy": "2025-01-15T02:19:43.360887Z",
     "iopub.status.idle": "2025-01-15T02:19:43.364868Z",
     "shell.execute_reply": "2025-01-15T02:19:43.363847Z"
    },
    "papermill": {
     "duration": 0.016847,
     "end_time": "2025-01-15T02:19:43.366586",
     "exception": false,
     "start_time": "2025-01-15T02:19:43.349739",
     "status": "completed"
    },
    "tags": []
   },
   "outputs": [],
   "source": [
    "# train_df_with_area = add_area(train_df_with_priority, area_list)"
   ]
  },
  {
   "cell_type": "code",
   "execution_count": 20,
   "id": "a72e04cf",
   "metadata": {
    "execution": {
     "iopub.execute_input": "2025-01-15T02:19:43.386775Z",
     "iopub.status.busy": "2025-01-15T02:19:43.386431Z",
     "iopub.status.idle": "2025-01-15T02:19:44.009955Z",
     "shell.execute_reply": "2025-01-15T02:19:44.008677Z"
    },
    "papermill": {
     "duration": 0.635952,
     "end_time": "2025-01-15T02:19:44.012043",
     "exception": false,
     "start_time": "2025-01-15T02:19:43.376091",
     "status": "completed"
    },
    "tags": []
   },
   "outputs": [],
   "source": [
    "test_df_with_priority = add_priority(test, area_list)"
   ]
  },
  {
   "cell_type": "code",
   "execution_count": 21,
   "id": "324696b9",
   "metadata": {
    "execution": {
     "iopub.execute_input": "2025-01-15T02:19:44.032255Z",
     "iopub.status.busy": "2025-01-15T02:19:44.031906Z",
     "iopub.status.idle": "2025-01-15T02:19:44.684419Z",
     "shell.execute_reply": "2025-01-15T02:19:44.683179Z"
    },
    "papermill": {
     "duration": 0.66496,
     "end_time": "2025-01-15T02:19:44.686530",
     "exception": false,
     "start_time": "2025-01-15T02:19:44.021570",
     "status": "completed"
    },
    "tags": []
   },
   "outputs": [],
   "source": [
    "test_df_with_area = add_area(test_df_with_priority, area_list)"
   ]
  },
  {
   "cell_type": "markdown",
   "id": "c39314f0",
   "metadata": {
    "papermill": {
     "duration": 0.009273,
     "end_time": "2025-01-15T02:19:44.705446",
     "exception": false,
     "start_time": "2025-01-15T02:19:44.696173",
     "status": "completed"
    },
    "tags": []
   },
   "source": [
    "Age, Last Maintenance, Status Sparepart, Country Machine"
   ]
  },
  {
   "cell_type": "code",
   "execution_count": 22,
   "id": "9d8cb3b7",
   "metadata": {
    "execution": {
     "iopub.execute_input": "2025-01-15T02:19:44.725812Z",
     "iopub.status.busy": "2025-01-15T02:19:44.725459Z",
     "iopub.status.idle": "2025-01-15T02:19:44.730324Z",
     "shell.execute_reply": "2025-01-15T02:19:44.729265Z"
    },
    "papermill": {
     "duration": 0.01724,
     "end_time": "2025-01-15T02:19:44.732090",
     "exception": false,
     "start_time": "2025-01-15T02:19:44.714850",
     "status": "completed"
    },
    "tags": []
   },
   "outputs": [],
   "source": [
    "def add_maintenance(train_df, mac_area_df):\n",
    "    # Melakukan penggabungan (merge) berdasarkan ID_Area dan ID_Mesin\n",
    "    merged_df = train_df.merge(mac_area_df[['ID_Area', 'ID_Mesin', 'Last Maintenance']], \n",
    "                                on=['ID_Area', 'ID_Mesin'], \n",
    "                                how='left')\n",
    "    \n",
    "    train_df['Last Maintenance'] = merged_df['Last Maintenance']\n",
    "    \n",
    "    return train_df"
   ]
  },
  {
   "cell_type": "code",
   "execution_count": 23,
   "id": "0503af87",
   "metadata": {
    "execution": {
     "iopub.execute_input": "2025-01-15T02:19:44.752616Z",
     "iopub.status.busy": "2025-01-15T02:19:44.752201Z",
     "iopub.status.idle": "2025-01-15T02:19:44.756636Z",
     "shell.execute_reply": "2025-01-15T02:19:44.755543Z"
    },
    "papermill": {
     "duration": 0.016672,
     "end_time": "2025-01-15T02:19:44.758454",
     "exception": false,
     "start_time": "2025-01-15T02:19:44.741782",
     "status": "completed"
    },
    "tags": []
   },
   "outputs": [],
   "source": [
    "# train_df_with_maintenance = add_maintenance(train_df_with_area, mac_area)"
   ]
  },
  {
   "cell_type": "code",
   "execution_count": 24,
   "id": "579302e6",
   "metadata": {
    "execution": {
     "iopub.execute_input": "2025-01-15T02:19:44.778899Z",
     "iopub.status.busy": "2025-01-15T02:19:44.778498Z",
     "iopub.status.idle": "2025-01-15T02:20:21.624244Z",
     "shell.execute_reply": "2025-01-15T02:20:21.622099Z"
    },
    "papermill": {
     "duration": 36.860864,
     "end_time": "2025-01-15T02:20:21.628972",
     "exception": false,
     "start_time": "2025-01-15T02:19:44.768108",
     "status": "completed"
    },
    "tags": []
   },
   "outputs": [],
   "source": [
    "test_df_with_maintenance = add_maintenance(test_df_with_area, mac_area)"
   ]
  },
  {
   "cell_type": "code",
   "execution_count": 25,
   "id": "5d1b1995",
   "metadata": {
    "execution": {
     "iopub.execute_input": "2025-01-15T02:20:21.653848Z",
     "iopub.status.busy": "2025-01-15T02:20:21.653386Z",
     "iopub.status.idle": "2025-01-15T02:20:21.660002Z",
     "shell.execute_reply": "2025-01-15T02:20:21.658882Z"
    },
    "papermill": {
     "duration": 0.019982,
     "end_time": "2025-01-15T02:20:21.662040",
     "exception": false,
     "start_time": "2025-01-15T02:20:21.642058",
     "status": "completed"
    },
    "tags": []
   },
   "outputs": [],
   "source": [
    "def add_sparepart(train_df, mac_area_df):\n",
    "    # Melakukan penggabungan (merge) berdasarkan ID_Area dan ID_Mesin\n",
    "    merged_df = train_df.merge(mac_area_df[['ID_Area', 'ID_Mesin', 'Status Sparepart']], \n",
    "                                on=['ID_Area', 'ID_Mesin'], \n",
    "                                how='left')\n",
    "    \n",
    "    train_df['Status Sparepart'] = merged_df['Status Sparepart']\n",
    "    \n",
    "    return train_df"
   ]
  },
  {
   "cell_type": "code",
   "execution_count": 26,
   "id": "52c86199",
   "metadata": {
    "execution": {
     "iopub.execute_input": "2025-01-15T02:20:21.683070Z",
     "iopub.status.busy": "2025-01-15T02:20:21.682683Z",
     "iopub.status.idle": "2025-01-15T02:20:21.687123Z",
     "shell.execute_reply": "2025-01-15T02:20:21.685783Z"
    },
    "papermill": {
     "duration": 0.017579,
     "end_time": "2025-01-15T02:20:21.689441",
     "exception": false,
     "start_time": "2025-01-15T02:20:21.671862",
     "status": "completed"
    },
    "tags": []
   },
   "outputs": [],
   "source": [
    "# train_df_with_sparepart = add_sparepart(train_df_with_maintenance, mac_area)"
   ]
  },
  {
   "cell_type": "code",
   "execution_count": 27,
   "id": "88aa298c",
   "metadata": {
    "execution": {
     "iopub.execute_input": "2025-01-15T02:20:21.710556Z",
     "iopub.status.busy": "2025-01-15T02:20:21.710086Z",
     "iopub.status.idle": "2025-01-15T02:20:49.630026Z",
     "shell.execute_reply": "2025-01-15T02:20:49.628461Z"
    },
    "papermill": {
     "duration": 27.932722,
     "end_time": "2025-01-15T02:20:49.632167",
     "exception": false,
     "start_time": "2025-01-15T02:20:21.699445",
     "status": "completed"
    },
    "tags": []
   },
   "outputs": [],
   "source": [
    "test_df_with_sparepart = add_sparepart(test_df_with_maintenance, mac_area)"
   ]
  },
  {
   "cell_type": "code",
   "execution_count": 28,
   "id": "d82a871c",
   "metadata": {
    "execution": {
     "iopub.execute_input": "2025-01-15T02:20:49.653527Z",
     "iopub.status.busy": "2025-01-15T02:20:49.653104Z",
     "iopub.status.idle": "2025-01-15T02:20:49.658253Z",
     "shell.execute_reply": "2025-01-15T02:20:49.657234Z"
    },
    "papermill": {
     "duration": 0.017681,
     "end_time": "2025-01-15T02:20:49.660101",
     "exception": false,
     "start_time": "2025-01-15T02:20:49.642420",
     "status": "completed"
    },
    "tags": []
   },
   "outputs": [],
   "source": [
    "def add_age(train_df, mac_area_df):\n",
    "    # Melakukan penggabungan (merge) berdasarkan ID_Area dan ID_Mesin\n",
    "    merged_df = train_df.merge(mac_area_df[['ID_Area', 'ID_Mesin', 'Age']], \n",
    "                                on=['ID_Area', 'ID_Mesin'], \n",
    "                                how='left')\n",
    "    \n",
    "    train_df['Age'] = merged_df['Age']\n",
    "    \n",
    "    return train_df"
   ]
  },
  {
   "cell_type": "code",
   "execution_count": 29,
   "id": "98a35ee4",
   "metadata": {
    "execution": {
     "iopub.execute_input": "2025-01-15T02:20:49.680694Z",
     "iopub.status.busy": "2025-01-15T02:20:49.680215Z",
     "iopub.status.idle": "2025-01-15T02:20:49.684528Z",
     "shell.execute_reply": "2025-01-15T02:20:49.683281Z"
    },
    "papermill": {
     "duration": 0.016598,
     "end_time": "2025-01-15T02:20:49.686331",
     "exception": false,
     "start_time": "2025-01-15T02:20:49.669733",
     "status": "completed"
    },
    "tags": []
   },
   "outputs": [],
   "source": [
    "# train_df_with_age = add_age(train_df_with_sparepart, mac_area)"
   ]
  },
  {
   "cell_type": "code",
   "execution_count": 30,
   "id": "41b48696",
   "metadata": {
    "execution": {
     "iopub.execute_input": "2025-01-15T02:20:49.706952Z",
     "iopub.status.busy": "2025-01-15T02:20:49.706532Z",
     "iopub.status.idle": "2025-01-15T02:21:18.058367Z",
     "shell.execute_reply": "2025-01-15T02:21:18.056849Z"
    },
    "papermill": {
     "duration": 28.364653,
     "end_time": "2025-01-15T02:21:18.060654",
     "exception": false,
     "start_time": "2025-01-15T02:20:49.696001",
     "status": "completed"
    },
    "tags": []
   },
   "outputs": [],
   "source": [
    "test_df_with_age = add_age(test_df_with_sparepart, mac_area)"
   ]
  },
  {
   "cell_type": "code",
   "execution_count": 31,
   "id": "c71cf804",
   "metadata": {
    "execution": {
     "iopub.execute_input": "2025-01-15T02:21:18.082929Z",
     "iopub.status.busy": "2025-01-15T02:21:18.082489Z",
     "iopub.status.idle": "2025-01-15T02:21:18.088347Z",
     "shell.execute_reply": "2025-01-15T02:21:18.086924Z"
    },
    "papermill": {
     "duration": 0.019096,
     "end_time": "2025-01-15T02:21:18.090287",
     "exception": false,
     "start_time": "2025-01-15T02:21:18.071191",
     "status": "completed"
    },
    "tags": []
   },
   "outputs": [],
   "source": [
    "def add_country(train_df, mac_area_df):\n",
    "    # Melakukan penggabungan (merge) berdasarkan ID_Area dan ID_Mesin\n",
    "    merged_df = train_df.merge(mac_area_df[['ID_Area', 'ID_Mesin', 'Country Machine']], \n",
    "                                on=['ID_Area', 'ID_Mesin'], \n",
    "                                how='left')\n",
    "    \n",
    "    train_df['Country Machine'] = merged_df['Country Machine']\n",
    "    \n",
    "    return train_df"
   ]
  },
  {
   "cell_type": "code",
   "execution_count": 32,
   "id": "458648b4",
   "metadata": {
    "execution": {
     "iopub.execute_input": "2025-01-15T02:21:18.110875Z",
     "iopub.status.busy": "2025-01-15T02:21:18.110461Z",
     "iopub.status.idle": "2025-01-15T02:21:18.114756Z",
     "shell.execute_reply": "2025-01-15T02:21:18.113742Z"
    },
    "papermill": {
     "duration": 0.016476,
     "end_time": "2025-01-15T02:21:18.116427",
     "exception": false,
     "start_time": "2025-01-15T02:21:18.099951",
     "status": "completed"
    },
    "tags": []
   },
   "outputs": [],
   "source": [
    "# train_full = add_country(train_df_with_age, mac_area)"
   ]
  },
  {
   "cell_type": "code",
   "execution_count": 33,
   "id": "5abd078d",
   "metadata": {
    "execution": {
     "iopub.execute_input": "2025-01-15T02:21:18.136651Z",
     "iopub.status.busy": "2025-01-15T02:21:18.136214Z",
     "iopub.status.idle": "2025-01-15T02:21:46.487795Z",
     "shell.execute_reply": "2025-01-15T02:21:46.486608Z"
    },
    "papermill": {
     "duration": 28.364145,
     "end_time": "2025-01-15T02:21:46.490060",
     "exception": false,
     "start_time": "2025-01-15T02:21:18.125915",
     "status": "completed"
    },
    "tags": []
   },
   "outputs": [],
   "source": [
    "test_full = add_country(test_df_with_age, mac_area)"
   ]
  },
  {
   "cell_type": "code",
   "execution_count": 34,
   "id": "e7bb5f24",
   "metadata": {
    "execution": {
     "iopub.execute_input": "2025-01-15T02:21:46.511184Z",
     "iopub.status.busy": "2025-01-15T02:21:46.510757Z",
     "iopub.status.idle": "2025-01-15T02:21:46.537984Z",
     "shell.execute_reply": "2025-01-15T02:21:46.536822Z"
    },
    "papermill": {
     "duration": 0.039672,
     "end_time": "2025-01-15T02:21:46.539745",
     "exception": false,
     "start_time": "2025-01-15T02:21:46.500073",
     "status": "completed"
    },
    "tags": []
   },
   "outputs": [
    {
     "data": {
      "text/html": [
       "<div>\n",
       "<style scoped>\n",
       "    .dataframe tbody tr th:only-of-type {\n",
       "        vertical-align: middle;\n",
       "    }\n",
       "\n",
       "    .dataframe tbody tr th {\n",
       "        vertical-align: top;\n",
       "    }\n",
       "\n",
       "    .dataframe thead th {\n",
       "        text-align: right;\n",
       "    }\n",
       "</style>\n",
       "<table border=\"1\" class=\"dataframe\">\n",
       "  <thead>\n",
       "    <tr style=\"text-align: right;\">\n",
       "      <th></th>\n",
       "      <th>ID_Transaction</th>\n",
       "      <th>temperature_10H_max (°C)</th>\n",
       "      <th>temperature_10H_min (°C)</th>\n",
       "      <th>temperature-1</th>\n",
       "      <th>temperature-2</th>\n",
       "      <th>temperature-3</th>\n",
       "      <th>apparent_temperature_max</th>\n",
       "      <th>apparent_temperature_min</th>\n",
       "      <th>ID_Area</th>\n",
       "      <th>ID_Mesin</th>\n",
       "      <th>...</th>\n",
       "      <th>Vibration-1</th>\n",
       "      <th>Vibration-2</th>\n",
       "      <th>Power</th>\n",
       "      <th>Power_Backup</th>\n",
       "      <th>Priority</th>\n",
       "      <th>Area</th>\n",
       "      <th>Last Maintenance</th>\n",
       "      <th>Status Sparepart</th>\n",
       "      <th>Age</th>\n",
       "      <th>Country Machine</th>\n",
       "    </tr>\n",
       "  </thead>\n",
       "  <tbody>\n",
       "    <tr>\n",
       "      <th>0</th>\n",
       "      <td>TRXb7e33ef41eea9cfdc0d1c338bad7f0d4</td>\n",
       "      <td>-3322.323689270587</td>\n",
       "      <td>-221.67737363254508</td>\n",
       "      <td>166.92240029876953</td>\n",
       "      <td>48.626852810394325</td>\n",
       "      <td></td>\n",
       "      <td>13.669606291376748</td>\n",
       "      <td>-43.911656667645246</td>\n",
       "      <td>ID40</td>\n",
       "      <td>E.2</td>\n",
       "      <td>...</td>\n",
       "      <td>26.94434125525892</td>\n",
       "      <td>57.225787489815936</td>\n",
       "      <td>1087.088944939074</td>\n",
       "      <td>Yes</td>\n",
       "      <td>High</td>\n",
       "      <td>MKS</td>\n",
       "      <td>2020-10-11</td>\n",
       "      <td>In Use</td>\n",
       "      <td>16.0</td>\n",
       "      <td>KR</td>\n",
       "    </tr>\n",
       "    <tr>\n",
       "      <th>1</th>\n",
       "      <td>TRX8fc5889e25fbf66b21063d165228745f</td>\n",
       "      <td>719.7003653439261</td>\n",
       "      <td></td>\n",
       "      <td>400.6785384009253</td>\n",
       "      <td>14.421424505461966</td>\n",
       "      <td>53.74034236398276</td>\n",
       "      <td>22.297931907382534</td>\n",
       "      <td>-36.56915185752349</td>\n",
       "      <td>ID15</td>\n",
       "      <td>H.2</td>\n",
       "      <td>...</td>\n",
       "      <td>23.513568935713902</td>\n",
       "      <td>55.34152829946722</td>\n",
       "      <td></td>\n",
       "      <td>Yes</td>\n",
       "      <td>Medium</td>\n",
       "      <td>BDG</td>\n",
       "      <td>2020-02-23</td>\n",
       "      <td>Repair</td>\n",
       "      <td>19.0</td>\n",
       "      <td>CN</td>\n",
       "    </tr>\n",
       "    <tr>\n",
       "      <th>2</th>\n",
       "      <td>TRX5c56664724a974cf6c87bd2659fd7046</td>\n",
       "      <td>718.9186302101944</td>\n",
       "      <td>23.645588046264507</td>\n",
       "      <td>456.53520634624607</td>\n",
       "      <td>39.05399931897624</td>\n",
       "      <td>16.80005616247519</td>\n",
       "      <td>24.194077862441496</td>\n",
       "      <td>-19.18018123984545</td>\n",
       "      <td>ID20</td>\n",
       "      <td>I.4</td>\n",
       "      <td>...</td>\n",
       "      <td>19.985904585201382</td>\n",
       "      <td>44.38657282139394</td>\n",
       "      <td>1524.9192199359206</td>\n",
       "      <td>Yes</td>\n",
       "      <td>Medium</td>\n",
       "      <td>MKS</td>\n",
       "      <td>2021-01-02</td>\n",
       "      <td>In Use</td>\n",
       "      <td>17.0</td>\n",
       "      <td>CN</td>\n",
       "    </tr>\n",
       "    <tr>\n",
       "      <th>3</th>\n",
       "      <td>TRX85fe42a5737897b7649a24fede27e90f</td>\n",
       "      <td>593.6787089846632</td>\n",
       "      <td>19.380102911302785</td>\n",
       "      <td></td>\n",
       "      <td>7.974227880557866</td>\n",
       "      <td>118.6299667272738</td>\n",
       "      <td>14.245904945513926</td>\n",
       "      <td></td>\n",
       "      <td>ID41</td>\n",
       "      <td>J.2</td>\n",
       "      <td>...</td>\n",
       "      <td>21.777422610733986</td>\n",
       "      <td>50.73568095561177</td>\n",
       "      <td>469.72530260126604</td>\n",
       "      <td>Yes</td>\n",
       "      <td>Medium</td>\n",
       "      <td>BPN</td>\n",
       "      <td>2020-12-21</td>\n",
       "      <td>In Use</td>\n",
       "      <td>10.0</td>\n",
       "      <td>CN</td>\n",
       "    </tr>\n",
       "    <tr>\n",
       "      <th>4</th>\n",
       "      <td>TRX16fae83f3c8c66fb15f088e7da7713ee</td>\n",
       "      <td>644.1194850220021</td>\n",
       "      <td>27.35261595938096</td>\n",
       "      <td>628.3354270324296</td>\n",
       "      <td>56.588644499962506</td>\n",
       "      <td>5.29817421109406</td>\n",
       "      <td>31.684072124234657</td>\n",
       "      <td>-24.18266108399551</td>\n",
       "      <td>ID22</td>\n",
       "      <td>H.1</td>\n",
       "      <td>...</td>\n",
       "      <td>27.061249402750484</td>\n",
       "      <td>52.31777032673014</td>\n",
       "      <td>1325.416707655282</td>\n",
       "      <td>No</td>\n",
       "      <td>High</td>\n",
       "      <td>MLG</td>\n",
       "      <td>2021-03-08</td>\n",
       "      <td>In Use</td>\n",
       "      <td>13.0</td>\n",
       "      <td>CN</td>\n",
       "    </tr>\n",
       "  </tbody>\n",
       "</table>\n",
       "<p>5 rows × 32 columns</p>\n",
       "</div>"
      ],
      "text/plain": [
       "                        ID_Transaction temperature_10H_max (°C)  \\\n",
       "0  TRXb7e33ef41eea9cfdc0d1c338bad7f0d4       -3322.323689270587   \n",
       "1  TRX8fc5889e25fbf66b21063d165228745f        719.7003653439261   \n",
       "2  TRX5c56664724a974cf6c87bd2659fd7046        718.9186302101944   \n",
       "3  TRX85fe42a5737897b7649a24fede27e90f        593.6787089846632   \n",
       "4  TRX16fae83f3c8c66fb15f088e7da7713ee        644.1194850220021   \n",
       "\n",
       "  temperature_10H_min (°C)       temperature-1       temperature-2  \\\n",
       "0      -221.67737363254508  166.92240029876953  48.626852810394325   \n",
       "1                            400.6785384009253  14.421424505461966   \n",
       "2       23.645588046264507  456.53520634624607   39.05399931897624   \n",
       "3       19.380102911302785                       7.974227880557866   \n",
       "4        27.35261595938096   628.3354270324296  56.588644499962506   \n",
       "\n",
       "       temperature-3 apparent_temperature_max apparent_temperature_min  \\\n",
       "0                          13.669606291376748      -43.911656667645246   \n",
       "1  53.74034236398276       22.297931907382534       -36.56915185752349   \n",
       "2  16.80005616247519       24.194077862441496       -19.18018123984545   \n",
       "3  118.6299667272738       14.245904945513926                            \n",
       "4   5.29817421109406       31.684072124234657       -24.18266108399551   \n",
       "\n",
       "  ID_Area ID_Mesin  ...         Vibration-1         Vibration-2  \\\n",
       "0    ID40      E.2  ...   26.94434125525892  57.225787489815936   \n",
       "1    ID15      H.2  ...  23.513568935713902   55.34152829946722   \n",
       "2    ID20      I.4  ...  19.985904585201382   44.38657282139394   \n",
       "3    ID41      J.2  ...  21.777422610733986   50.73568095561177   \n",
       "4    ID22      H.1  ...  27.061249402750484   52.31777032673014   \n",
       "\n",
       "                Power Power_Backup Priority Area Last Maintenance  \\\n",
       "0   1087.088944939074          Yes     High  MKS       2020-10-11   \n",
       "1                              Yes   Medium  BDG       2020-02-23   \n",
       "2  1524.9192199359206          Yes   Medium  MKS       2021-01-02   \n",
       "3  469.72530260126604          Yes   Medium  BPN       2020-12-21   \n",
       "4   1325.416707655282           No     High  MLG       2021-03-08   \n",
       "\n",
       "  Status Sparepart   Age Country Machine  \n",
       "0           In Use  16.0              KR  \n",
       "1           Repair  19.0              CN  \n",
       "2           In Use  17.0              CN  \n",
       "3           In Use  10.0              CN  \n",
       "4           In Use  13.0              CN  \n",
       "\n",
       "[5 rows x 32 columns]"
      ]
     },
     "execution_count": 34,
     "metadata": {},
     "output_type": "execute_result"
    }
   ],
   "source": [
    "test_full.head()"
   ]
  },
  {
   "cell_type": "code",
   "execution_count": 35,
   "id": "2d2fc2ba",
   "metadata": {
    "execution": {
     "iopub.execute_input": "2025-01-15T02:21:46.560857Z",
     "iopub.status.busy": "2025-01-15T02:21:46.560463Z",
     "iopub.status.idle": "2025-01-15T02:21:46.573161Z",
     "shell.execute_reply": "2025-01-15T02:21:46.571753Z"
    },
    "papermill": {
     "duration": 0.025169,
     "end_time": "2025-01-15T02:21:46.574883",
     "exception": false,
     "start_time": "2025-01-15T02:21:46.549714",
     "status": "completed"
    },
    "tags": []
   },
   "outputs": [
    {
     "name": "stdout",
     "output_type": "stream",
     "text": [
      "<class 'pandas.core.frame.DataFrame'>\n",
      "RangeIndex: 7000000 entries, 0 to 6999999\n",
      "Data columns (total 32 columns):\n",
      " #   Column                    Dtype  \n",
      "---  ------                    -----  \n",
      " 0   ID_Transaction            object \n",
      " 1   temperature_10H_max (°C)  object \n",
      " 2   temperature_10H_min (°C)  object \n",
      " 3   temperature-1             object \n",
      " 4   temperature-2             object \n",
      " 5   temperature-3             object \n",
      " 6   apparent_temperature_max  object \n",
      " 7   apparent_temperature_min  object \n",
      " 8   ID_Area                   object \n",
      " 9   ID_Mesin                  object \n",
      " 10  timestamp                 object \n",
      " 11  humidity                  object \n",
      " 12  Voltage-L                 object \n",
      " 13  Voltage-R                 object \n",
      " 14  Voltage-M                 object \n",
      " 15  Current-M                 object \n",
      " 16  Current-R                 object \n",
      " 17  Current-T                 object \n",
      " 18  RPM                       object \n",
      " 19  RPM-1                     object \n",
      " 20  RPM-2                     object \n",
      " 21  RPM-3                     object \n",
      " 22  Vibration-1               object \n",
      " 23  Vibration-2               object \n",
      " 24  Power                     object \n",
      " 25  Power_Backup              object \n",
      " 26  Priority                  object \n",
      " 27  Area                      object \n",
      " 28  Last Maintenance          object \n",
      " 29  Status Sparepart          object \n",
      " 30  Age                       float64\n",
      " 31  Country Machine           object \n",
      "dtypes: float64(1), object(31)\n",
      "memory usage: 1.7+ GB\n"
     ]
    }
   ],
   "source": [
    "test_full.info()"
   ]
  },
  {
   "cell_type": "markdown",
   "id": "4a96193d",
   "metadata": {
    "papermill": {
     "duration": 0.009492,
     "end_time": "2025-01-15T02:21:46.594398",
     "exception": false,
     "start_time": "2025-01-15T02:21:46.584906",
     "status": "completed"
    },
    "tags": []
   },
   "source": [
    "Join data berhasil, karena jumlah baris pada train dan test sama seperti sebelumnya.\n",
    "Selanjutnya dilakukan EDA data hasil join agar bisa ditemukan praproses yang sesuai."
   ]
  },
  {
   "cell_type": "code",
   "execution_count": 36,
   "id": "05c51831",
   "metadata": {
    "execution": {
     "iopub.execute_input": "2025-01-15T02:21:46.615502Z",
     "iopub.status.busy": "2025-01-15T02:21:46.615035Z",
     "iopub.status.idle": "2025-01-15T02:21:46.619543Z",
     "shell.execute_reply": "2025-01-15T02:21:46.618285Z"
    },
    "papermill": {
     "duration": 0.017259,
     "end_time": "2025-01-15T02:21:46.621390",
     "exception": false,
     "start_time": "2025-01-15T02:21:46.604131",
     "status": "completed"
    },
    "tags": []
   },
   "outputs": [],
   "source": [
    "# train_full.to_csv('/kaggle/working/train_full.csv', index=False)"
   ]
  },
  {
   "cell_type": "code",
   "execution_count": 37,
   "id": "dde739aa",
   "metadata": {
    "execution": {
     "iopub.execute_input": "2025-01-15T02:21:46.642780Z",
     "iopub.status.busy": "2025-01-15T02:21:46.642361Z",
     "iopub.status.idle": "2025-01-15T02:23:40.501938Z",
     "shell.execute_reply": "2025-01-15T02:23:40.500674Z"
    },
    "papermill": {
     "duration": 113.872442,
     "end_time": "2025-01-15T02:23:40.504085",
     "exception": false,
     "start_time": "2025-01-15T02:21:46.631643",
     "status": "completed"
    },
    "tags": []
   },
   "outputs": [],
   "source": [
    "test_full.to_csv('/kaggle/working/test_full.csv', index=False)"
   ]
  },
  {
   "cell_type": "markdown",
   "id": "2d64d471",
   "metadata": {
    "papermill": {
     "duration": 0.010753,
     "end_time": "2025-01-15T02:23:40.525622",
     "exception": false,
     "start_time": "2025-01-15T02:23:40.514869",
     "status": "completed"
    },
    "tags": []
   },
   "source": [
    "#### NA"
   ]
  },
  {
   "cell_type": "markdown",
   "id": "8ee4c6ef",
   "metadata": {
    "papermill": {
     "duration": 0.009679,
     "end_time": "2025-01-15T02:23:40.545233",
     "exception": false,
     "start_time": "2025-01-15T02:23:40.535554",
     "status": "completed"
    },
    "tags": []
   },
   "source": [
    "Cek NA setelah join data"
   ]
  },
  {
   "cell_type": "code",
   "execution_count": 38,
   "id": "f80409c3",
   "metadata": {
    "execution": {
     "iopub.execute_input": "2025-01-15T02:23:40.566626Z",
     "iopub.status.busy": "2025-01-15T02:23:40.566152Z",
     "iopub.status.idle": "2025-01-15T02:23:40.572851Z",
     "shell.execute_reply": "2025-01-15T02:23:40.571526Z"
    },
    "papermill": {
     "duration": 0.019876,
     "end_time": "2025-01-15T02:23:40.575009",
     "exception": false,
     "start_time": "2025-01-15T02:23:40.555133",
     "status": "completed"
    },
    "tags": []
   },
   "outputs": [],
   "source": [
    "def analyze_missing_values(df):\n",
    "    missing = df.isnull().sum()\n",
    "    missing_pct = (missing / len(df)) * 100\n",
    "    missing_df = pd.DataFrame({\n",
    "        'Missing Values': missing,\n",
    "        'Percentage': missing_pct\n",
    "    }).sort_values('Percentage', ascending=False)\n",
    "    \n",
    "    print(\"\\n=== Missing Values Analysis ===\")\n",
    "    print(missing_df[missing_df['Missing Values'] > 0])"
   ]
  },
  {
   "cell_type": "code",
   "execution_count": 39,
   "id": "2e8f3e1a",
   "metadata": {
    "execution": {
     "iopub.execute_input": "2025-01-15T02:23:40.596547Z",
     "iopub.status.busy": "2025-01-15T02:23:40.596157Z",
     "iopub.status.idle": "2025-01-15T02:23:40.600665Z",
     "shell.execute_reply": "2025-01-15T02:23:40.599461Z"
    },
    "papermill": {
     "duration": 0.017261,
     "end_time": "2025-01-15T02:23:40.602641",
     "exception": false,
     "start_time": "2025-01-15T02:23:40.585380",
     "status": "completed"
    },
    "tags": []
   },
   "outputs": [],
   "source": [
    "# analyze_missing_values(train_full)"
   ]
  },
  {
   "cell_type": "code",
   "execution_count": 40,
   "id": "151414bd",
   "metadata": {
    "execution": {
     "iopub.execute_input": "2025-01-15T02:23:40.625232Z",
     "iopub.status.busy": "2025-01-15T02:23:40.624705Z",
     "iopub.status.idle": "2025-01-15T02:23:50.796042Z",
     "shell.execute_reply": "2025-01-15T02:23:50.794557Z"
    },
    "papermill": {
     "duration": 10.185531,
     "end_time": "2025-01-15T02:23:50.798133",
     "exception": false,
     "start_time": "2025-01-15T02:23:40.612602",
     "status": "completed"
    },
    "tags": []
   },
   "outputs": [
    {
     "name": "stdout",
     "output_type": "stream",
     "text": [
      "\n",
      "=== Missing Values Analysis ===\n",
      "                  Missing Values  Percentage\n",
      "Country Machine          1005523   14.364614\n",
      "Age                      1005523   14.364614\n",
      "Status Sparepart         1005523   14.364614\n",
      "Last Maintenance         1005523   14.364614\n",
      "Area                      501943    7.170614\n",
      "Priority                  501943    7.170614\n"
     ]
    }
   ],
   "source": [
    "analyze_missing_values(test_full)"
   ]
  }
 ],
 "metadata": {
  "kaggle": {
   "accelerator": "none",
   "dataSources": [
    {
     "databundleVersionId": 10731399,
     "sourceId": 91088,
     "sourceType": "competition"
    }
   ],
   "dockerImageVersionId": 30822,
   "isGpuEnabled": false,
   "isInternetEnabled": true,
   "language": "python",
   "sourceType": "notebook"
  },
  "kernelspec": {
   "display_name": "Python 3",
   "language": "python",
   "name": "python3"
  },
  "language_info": {
   "codemirror_mode": {
    "name": "ipython",
    "version": 3
   },
   "file_extension": ".py",
   "mimetype": "text/x-python",
   "name": "python",
   "nbconvert_exporter": "python",
   "pygments_lexer": "ipython3",
   "version": "3.10.12"
  },
  "papermill": {
   "default_parameters": {},
   "duration": 416.062005,
   "end_time": "2025-01-15T02:23:54.234593",
   "environment_variables": {},
   "exception": null,
   "input_path": "__notebook__.ipynb",
   "output_path": "__notebook__.ipynb",
   "parameters": {},
   "start_time": "2025-01-15T02:16:58.172588",
   "version": "2.6.0"
  }
 },
 "nbformat": 4,
 "nbformat_minor": 5
}
