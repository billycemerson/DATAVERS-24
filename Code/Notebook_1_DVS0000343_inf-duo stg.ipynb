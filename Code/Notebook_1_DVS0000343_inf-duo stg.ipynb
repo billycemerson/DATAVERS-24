{
 "cells": [
  {
   "cell_type": "markdown",
   "id": "f1132db9",
   "metadata": {
    "papermill": {
     "duration": 0.011333,
     "end_time": "2025-01-15T01:48:44.140879",
     "exception": false,
     "start_time": "2025-01-15T01:48:44.129546",
     "status": "completed"
    },
    "tags": []
   },
   "source": [
    "## **PACKAGE**"
   ]
  },
  {
   "cell_type": "code",
   "execution_count": 1,
   "id": "9925c555",
   "metadata": {
    "_cell_guid": "b1076dfc-b9ad-4769-8c92-a6c4dae69d19",
    "_uuid": "8f2839f25d086af736a60e9eeb907d3b93b6e0e5",
    "execution": {
     "iopub.execute_input": "2025-01-15T01:48:44.163484Z",
     "iopub.status.busy": "2025-01-15T01:48:44.163063Z",
     "iopub.status.idle": "2025-01-15T01:48:46.540084Z",
     "shell.execute_reply": "2025-01-15T01:48:46.538989Z"
    },
    "papermill": {
     "duration": 2.390158,
     "end_time": "2025-01-15T01:48:46.541977",
     "exception": false,
     "start_time": "2025-01-15T01:48:44.151819",
     "status": "completed"
    },
    "tags": []
   },
   "outputs": [],
   "source": [
    "import pandas as pd\n",
    "import numpy as np\n",
    "import os\n",
    "import matplotlib.pyplot as plt\n",
    "import seaborn as sns\n",
    "from scipy import stats\n",
    "import gc"
   ]
  },
  {
   "cell_type": "code",
   "execution_count": 2,
   "id": "740aa66c",
   "metadata": {
    "execution": {
     "iopub.execute_input": "2025-01-15T01:48:46.564779Z",
     "iopub.status.busy": "2025-01-15T01:48:46.564255Z",
     "iopub.status.idle": "2025-01-15T01:48:46.568419Z",
     "shell.execute_reply": "2025-01-15T01:48:46.567588Z"
    },
    "papermill": {
     "duration": 0.01747,
     "end_time": "2025-01-15T01:48:46.570151",
     "exception": false,
     "start_time": "2025-01-15T01:48:46.552681",
     "status": "completed"
    },
    "tags": []
   },
   "outputs": [],
   "source": [
    "import warnings\n",
    "# Ignore all warnings\n",
    "warnings.filterwarnings(\"ignore\")"
   ]
  },
  {
   "cell_type": "markdown",
   "id": "9bae407e",
   "metadata": {
    "papermill": {
     "duration": 0.009653,
     "end_time": "2025-01-15T01:48:46.590063",
     "exception": false,
     "start_time": "2025-01-15T01:48:46.580410",
     "status": "completed"
    },
    "tags": []
   },
   "source": [
    "## **DATA**"
   ]
  },
  {
   "cell_type": "code",
   "execution_count": 3,
   "id": "1fa2fc10",
   "metadata": {
    "execution": {
     "iopub.execute_input": "2025-01-15T01:48:46.612271Z",
     "iopub.status.busy": "2025-01-15T01:48:46.611935Z",
     "iopub.status.idle": "2025-01-15T01:48:46.616356Z",
     "shell.execute_reply": "2025-01-15T01:48:46.615419Z"
    },
    "papermill": {
     "duration": 0.017614,
     "end_time": "2025-01-15T01:48:46.618208",
     "exception": false,
     "start_time": "2025-01-15T01:48:46.600594",
     "status": "completed"
    },
    "tags": []
   },
   "outputs": [],
   "source": [
    "# Lokasi dataset di kernel Kaggle\n",
    "train_path = '/kaggle/input/penyisihan-data-vers-anava-19/train.csv'\n",
    "test_path = '/kaggle/input/penyisihan-data-vers-anava-19/test.csv'\n",
    "mac_area_path = '/kaggle/input/penyisihan-data-vers-anava-19/Machine-Area.csv'\n",
    "mac_list_path = '/kaggle/input/penyisihan-data-vers-anava-19/Machine-List.csv'\n",
    "area_list_path = '/kaggle/input/penyisihan-data-vers-anava-19/Area-List.csv'"
   ]
  },
  {
   "cell_type": "code",
   "execution_count": 4,
   "id": "a4f06845",
   "metadata": {
    "execution": {
     "iopub.execute_input": "2025-01-15T01:48:46.639769Z",
     "iopub.status.busy": "2025-01-15T01:48:46.639308Z",
     "iopub.status.idle": "2025-01-15T01:48:46.669523Z",
     "shell.execute_reply": "2025-01-15T01:48:46.668466Z"
    },
    "papermill": {
     "duration": 0.043148,
     "end_time": "2025-01-15T01:48:46.671553",
     "exception": false,
     "start_time": "2025-01-15T01:48:46.628405",
     "status": "completed"
    },
    "tags": []
   },
   "outputs": [],
   "source": [
    "# Membaca dataset\n",
    "mac_area = pd.read_csv(mac_area_path)\n",
    "mac_list = pd.read_csv(mac_list_path)\n",
    "area_list = pd.read_csv(area_list_path)"
   ]
  },
  {
   "cell_type": "code",
   "execution_count": 5,
   "id": "da9ca555",
   "metadata": {
    "execution": {
     "iopub.execute_input": "2025-01-15T01:48:46.694092Z",
     "iopub.status.busy": "2025-01-15T01:48:46.693681Z",
     "iopub.status.idle": "2025-01-15T01:51:42.756499Z",
     "shell.execute_reply": "2025-01-15T01:51:42.755135Z"
    },
    "papermill": {
     "duration": 176.07703,
     "end_time": "2025-01-15T01:51:42.758939",
     "exception": false,
     "start_time": "2025-01-15T01:48:46.681909",
     "status": "completed"
    },
    "tags": []
   },
   "outputs": [],
   "source": [
    "train = pd.read_csv(train_path)"
   ]
  },
  {
   "cell_type": "code",
   "execution_count": 6,
   "id": "fd7c61d6",
   "metadata": {
    "execution": {
     "iopub.execute_input": "2025-01-15T01:51:42.781237Z",
     "iopub.status.busy": "2025-01-15T01:51:42.780862Z",
     "iopub.status.idle": "2025-01-15T01:51:42.784968Z",
     "shell.execute_reply": "2025-01-15T01:51:42.783926Z"
    },
    "papermill": {
     "duration": 0.016879,
     "end_time": "2025-01-15T01:51:42.786601",
     "exception": false,
     "start_time": "2025-01-15T01:51:42.769722",
     "status": "completed"
    },
    "tags": []
   },
   "outputs": [],
   "source": [
    "# test = pd.read_csv(test_path)"
   ]
  },
  {
   "cell_type": "code",
   "execution_count": 7,
   "id": "b1e859c4",
   "metadata": {
    "execution": {
     "iopub.execute_input": "2025-01-15T01:51:42.808852Z",
     "iopub.status.busy": "2025-01-15T01:51:42.808450Z",
     "iopub.status.idle": "2025-01-15T01:51:42.820238Z",
     "shell.execute_reply": "2025-01-15T01:51:42.819131Z"
    },
    "papermill": {
     "duration": 0.025339,
     "end_time": "2025-01-15T01:51:42.822181",
     "exception": false,
     "start_time": "2025-01-15T01:51:42.796842",
     "status": "completed"
    },
    "tags": []
   },
   "outputs": [],
   "source": [
    "# Mengganti nama kolom 'Machine' menjadi 'ID_Mesin'\n",
    "train.rename(columns={'Machine': 'ID_Mesin'}, inplace=True)"
   ]
  },
  {
   "cell_type": "code",
   "execution_count": 8,
   "id": "0bfe2f14",
   "metadata": {
    "execution": {
     "iopub.execute_input": "2025-01-15T01:51:42.844061Z",
     "iopub.status.busy": "2025-01-15T01:51:42.843687Z",
     "iopub.status.idle": "2025-01-15T01:51:42.847809Z",
     "shell.execute_reply": "2025-01-15T01:51:42.846464Z"
    },
    "papermill": {
     "duration": 0.017312,
     "end_time": "2025-01-15T01:51:42.849767",
     "exception": false,
     "start_time": "2025-01-15T01:51:42.832455",
     "status": "completed"
    },
    "tags": []
   },
   "outputs": [],
   "source": [
    "# test.rename(columns={'Machine': 'ID_Mesin'}, inplace=True)"
   ]
  },
  {
   "cell_type": "markdown",
   "id": "4f3b4205",
   "metadata": {
    "papermill": {
     "duration": 0.009819,
     "end_time": "2025-01-15T01:51:42.870105",
     "exception": false,
     "start_time": "2025-01-15T01:51:42.860286",
     "status": "completed"
    },
    "tags": []
   },
   "source": [
    "#### Data Information"
   ]
  },
  {
   "cell_type": "code",
   "execution_count": 9,
   "id": "571f3660",
   "metadata": {
    "execution": {
     "iopub.execute_input": "2025-01-15T01:51:42.891738Z",
     "iopub.status.busy": "2025-01-15T01:51:42.891367Z",
     "iopub.status.idle": "2025-01-15T01:51:42.923110Z",
     "shell.execute_reply": "2025-01-15T01:51:42.921854Z"
    },
    "papermill": {
     "duration": 0.04502,
     "end_time": "2025-01-15T01:51:42.925181",
     "exception": false,
     "start_time": "2025-01-15T01:51:42.880161",
     "status": "completed"
    },
    "tags": []
   },
   "outputs": [
    {
     "data": {
      "text/html": [
       "<div>\n",
       "<style scoped>\n",
       "    .dataframe tbody tr th:only-of-type {\n",
       "        vertical-align: middle;\n",
       "    }\n",
       "\n",
       "    .dataframe tbody tr th {\n",
       "        vertical-align: top;\n",
       "    }\n",
       "\n",
       "    .dataframe thead th {\n",
       "        text-align: right;\n",
       "    }\n",
       "</style>\n",
       "<table border=\"1\" class=\"dataframe\">\n",
       "  <thead>\n",
       "    <tr style=\"text-align: right;\">\n",
       "      <th></th>\n",
       "      <th>ID_Transaction</th>\n",
       "      <th>temperature_10H_max (°C)</th>\n",
       "      <th>temperature_10H_min (°C)</th>\n",
       "      <th>temperature-1</th>\n",
       "      <th>temperature-2</th>\n",
       "      <th>temperature-3</th>\n",
       "      <th>apparent_temperature_max</th>\n",
       "      <th>apparent_temperature_min</th>\n",
       "      <th>ID_Area</th>\n",
       "      <th>ID_Mesin</th>\n",
       "      <th>...</th>\n",
       "      <th>RPM</th>\n",
       "      <th>RPM-1</th>\n",
       "      <th>RPM-2</th>\n",
       "      <th>RPM-3</th>\n",
       "      <th>Vibration-1</th>\n",
       "      <th>Vibration-2</th>\n",
       "      <th>Power</th>\n",
       "      <th>Power_Backup</th>\n",
       "      <th>Status</th>\n",
       "      <th>Breakdown Category</th>\n",
       "    </tr>\n",
       "  </thead>\n",
       "  <tbody>\n",
       "    <tr>\n",
       "      <th>0</th>\n",
       "      <td>TRXc8f4c2dcbfe501093501015b32bd0ba2</td>\n",
       "      <td>1110.970519</td>\n",
       "      <td>NaN</td>\n",
       "      <td>106.145582</td>\n",
       "      <td>38.779147</td>\n",
       "      <td>262.330188</td>\n",
       "      <td>33.916720</td>\n",
       "      <td>NaN</td>\n",
       "      <td>ID12</td>\n",
       "      <td>A.4</td>\n",
       "      <td>...</td>\n",
       "      <td>2666.124927</td>\n",
       "      <td>2956.904780</td>\n",
       "      <td>4779.579998</td>\n",
       "      <td>3681.056129</td>\n",
       "      <td>19.624641</td>\n",
       "      <td>40.938353</td>\n",
       "      <td>NaN</td>\n",
       "      <td>Yes</td>\n",
       "      <td>Warning</td>\n",
       "      <td>NaN</td>\n",
       "    </tr>\n",
       "    <tr>\n",
       "      <th>1</th>\n",
       "      <td>TRXe9e6c37fc1281efd6c5ba52fce259584</td>\n",
       "      <td>608.487665</td>\n",
       "      <td>19.932166</td>\n",
       "      <td>375.386134</td>\n",
       "      <td>17.736401</td>\n",
       "      <td>45.051041</td>\n",
       "      <td>4.542451</td>\n",
       "      <td>-21.991755</td>\n",
       "      <td>ID37</td>\n",
       "      <td>K.3</td>\n",
       "      <td>...</td>\n",
       "      <td>2907.253211</td>\n",
       "      <td>2773.384487</td>\n",
       "      <td>4282.046671</td>\n",
       "      <td>4527.123292</td>\n",
       "      <td>28.167360</td>\n",
       "      <td>NaN</td>\n",
       "      <td>311.803841</td>\n",
       "      <td>Yes</td>\n",
       "      <td>Normal</td>\n",
       "      <td>NaN</td>\n",
       "    </tr>\n",
       "    <tr>\n",
       "      <th>2</th>\n",
       "      <td>TRXcaef103041dfe1b84537bc3dbdbc6567</td>\n",
       "      <td>462.826917</td>\n",
       "      <td>3.185101</td>\n",
       "      <td>117.322749</td>\n",
       "      <td>22.256591</td>\n",
       "      <td>0.165788</td>\n",
       "      <td>8.695319</td>\n",
       "      <td>-31.803539</td>\n",
       "      <td>ID24</td>\n",
       "      <td>J.1</td>\n",
       "      <td>...</td>\n",
       "      <td>3215.057495</td>\n",
       "      <td>3072.879720</td>\n",
       "      <td>4180.407796</td>\n",
       "      <td>4841.741619</td>\n",
       "      <td>29.843080</td>\n",
       "      <td>46.980726</td>\n",
       "      <td>1257.681079</td>\n",
       "      <td>No</td>\n",
       "      <td>Normal</td>\n",
       "      <td>NaN</td>\n",
       "    </tr>\n",
       "    <tr>\n",
       "      <th>3</th>\n",
       "      <td>TRX06f9e5574a639bcedb7ec8c3cb9fbaa4</td>\n",
       "      <td>710.093309</td>\n",
       "      <td>26.190643</td>\n",
       "      <td>294.871314</td>\n",
       "      <td>30.639358</td>\n",
       "      <td>140.984886</td>\n",
       "      <td>18.843502</td>\n",
       "      <td>-39.872275</td>\n",
       "      <td>ID7</td>\n",
       "      <td>J.4</td>\n",
       "      <td>...</td>\n",
       "      <td>4361.849341</td>\n",
       "      <td>3295.409873</td>\n",
       "      <td>3337.288244</td>\n",
       "      <td>3877.348905</td>\n",
       "      <td>28.720636</td>\n",
       "      <td>54.860603</td>\n",
       "      <td>478.325694</td>\n",
       "      <td>No</td>\n",
       "      <td>Breakdown</td>\n",
       "      <td>Unplanned Downtime</td>\n",
       "    </tr>\n",
       "    <tr>\n",
       "      <th>4</th>\n",
       "      <td>TRXd8f3a5ce90d25127ba3240a12eb9c140</td>\n",
       "      <td>410.114364</td>\n",
       "      <td>9.664961</td>\n",
       "      <td>185.267516</td>\n",
       "      <td>28.154454</td>\n",
       "      <td>57.002150</td>\n",
       "      <td>23.915704</td>\n",
       "      <td>NaN</td>\n",
       "      <td>ID41</td>\n",
       "      <td>J.2</td>\n",
       "      <td>...</td>\n",
       "      <td>4817.893609</td>\n",
       "      <td>3084.624619</td>\n",
       "      <td>NaN</td>\n",
       "      <td>2501.387065</td>\n",
       "      <td>26.907301</td>\n",
       "      <td>NaN</td>\n",
       "      <td>674.159077</td>\n",
       "      <td>Yes</td>\n",
       "      <td>Breakdown</td>\n",
       "      <td>Unplanned Downtime</td>\n",
       "    </tr>\n",
       "  </tbody>\n",
       "</table>\n",
       "<p>5 rows × 28 columns</p>\n",
       "</div>"
      ],
      "text/plain": [
       "                        ID_Transaction  temperature_10H_max (°C)  \\\n",
       "0  TRXc8f4c2dcbfe501093501015b32bd0ba2               1110.970519   \n",
       "1  TRXe9e6c37fc1281efd6c5ba52fce259584                608.487665   \n",
       "2  TRXcaef103041dfe1b84537bc3dbdbc6567                462.826917   \n",
       "3  TRX06f9e5574a639bcedb7ec8c3cb9fbaa4                710.093309   \n",
       "4  TRXd8f3a5ce90d25127ba3240a12eb9c140                410.114364   \n",
       "\n",
       "   temperature_10H_min (°C)  temperature-1  temperature-2  temperature-3  \\\n",
       "0                       NaN     106.145582      38.779147     262.330188   \n",
       "1                 19.932166     375.386134      17.736401      45.051041   \n",
       "2                  3.185101     117.322749      22.256591       0.165788   \n",
       "3                 26.190643     294.871314      30.639358     140.984886   \n",
       "4                  9.664961     185.267516      28.154454      57.002150   \n",
       "\n",
       "   apparent_temperature_max  apparent_temperature_min ID_Area ID_Mesin  ...  \\\n",
       "0                 33.916720                       NaN    ID12      A.4  ...   \n",
       "1                  4.542451                -21.991755    ID37      K.3  ...   \n",
       "2                  8.695319                -31.803539    ID24      J.1  ...   \n",
       "3                 18.843502                -39.872275     ID7      J.4  ...   \n",
       "4                 23.915704                       NaN    ID41      J.2  ...   \n",
       "\n",
       "           RPM        RPM-1        RPM-2        RPM-3  Vibration-1  \\\n",
       "0  2666.124927  2956.904780  4779.579998  3681.056129    19.624641   \n",
       "1  2907.253211  2773.384487  4282.046671  4527.123292    28.167360   \n",
       "2  3215.057495  3072.879720  4180.407796  4841.741619    29.843080   \n",
       "3  4361.849341  3295.409873  3337.288244  3877.348905    28.720636   \n",
       "4  4817.893609  3084.624619          NaN  2501.387065    26.907301   \n",
       "\n",
       "   Vibration-2        Power  Power_Backup     Status  Breakdown Category  \n",
       "0    40.938353          NaN           Yes    Warning                 NaN  \n",
       "1          NaN   311.803841           Yes     Normal                 NaN  \n",
       "2    46.980726  1257.681079            No     Normal                 NaN  \n",
       "3    54.860603   478.325694            No  Breakdown  Unplanned Downtime  \n",
       "4          NaN   674.159077           Yes  Breakdown  Unplanned Downtime  \n",
       "\n",
       "[5 rows x 28 columns]"
      ]
     },
     "execution_count": 9,
     "metadata": {},
     "output_type": "execute_result"
    }
   ],
   "source": [
    "train.head()"
   ]
  },
  {
   "cell_type": "code",
   "execution_count": 10,
   "id": "ab38c466",
   "metadata": {
    "execution": {
     "iopub.execute_input": "2025-01-15T01:51:42.948039Z",
     "iopub.status.busy": "2025-01-15T01:51:42.947675Z",
     "iopub.status.idle": "2025-01-15T01:51:42.970660Z",
     "shell.execute_reply": "2025-01-15T01:51:42.969393Z"
    },
    "papermill": {
     "duration": 0.037028,
     "end_time": "2025-01-15T01:51:42.973038",
     "exception": false,
     "start_time": "2025-01-15T01:51:42.936010",
     "status": "completed"
    },
    "tags": []
   },
   "outputs": [
    {
     "name": "stdout",
     "output_type": "stream",
     "text": [
      "<class 'pandas.core.frame.DataFrame'>\n",
      "RangeIndex: 13000000 entries, 0 to 12999999\n",
      "Data columns (total 28 columns):\n",
      " #   Column                    Dtype  \n",
      "---  ------                    -----  \n",
      " 0   ID_Transaction            object \n",
      " 1   temperature_10H_max (°C)  float64\n",
      " 2   temperature_10H_min (°C)  float64\n",
      " 3   temperature-1             float64\n",
      " 4   temperature-2             float64\n",
      " 5   temperature-3             float64\n",
      " 6   apparent_temperature_max  float64\n",
      " 7   apparent_temperature_min  float64\n",
      " 8   ID_Area                   object \n",
      " 9   ID_Mesin                  object \n",
      " 10  timestamp                 object \n",
      " 11  humidity                  float64\n",
      " 12  Voltage-L                 float64\n",
      " 13  Voltage-R                 float64\n",
      " 14  Voltage-M                 float64\n",
      " 15  Current-M                 float64\n",
      " 16  Current-R                 float64\n",
      " 17  Current-T                 float64\n",
      " 18  RPM                       float64\n",
      " 19  RPM-1                     float64\n",
      " 20  RPM-2                     float64\n",
      " 21  RPM-3                     float64\n",
      " 22  Vibration-1               float64\n",
      " 23  Vibration-2               float64\n",
      " 24  Power                     float64\n",
      " 25  Power_Backup              object \n",
      " 26  Status                    object \n",
      " 27  Breakdown Category        object \n",
      "dtypes: float64(21), object(7)\n",
      "memory usage: 2.7+ GB\n"
     ]
    }
   ],
   "source": [
    "train.info()"
   ]
  },
  {
   "cell_type": "code",
   "execution_count": 11,
   "id": "06a3f857",
   "metadata": {
    "execution": {
     "iopub.execute_input": "2025-01-15T01:51:42.996927Z",
     "iopub.status.busy": "2025-01-15T01:51:42.996560Z",
     "iopub.status.idle": "2025-01-15T01:51:43.000782Z",
     "shell.execute_reply": "2025-01-15T01:51:42.999658Z"
    },
    "papermill": {
     "duration": 0.017777,
     "end_time": "2025-01-15T01:51:43.002785",
     "exception": false,
     "start_time": "2025-01-15T01:51:42.985008",
     "status": "completed"
    },
    "tags": []
   },
   "outputs": [],
   "source": [
    "# test.head()"
   ]
  },
  {
   "cell_type": "code",
   "execution_count": 12,
   "id": "207e47ff",
   "metadata": {
    "execution": {
     "iopub.execute_input": "2025-01-15T01:51:43.025717Z",
     "iopub.status.busy": "2025-01-15T01:51:43.025275Z",
     "iopub.status.idle": "2025-01-15T01:51:43.029841Z",
     "shell.execute_reply": "2025-01-15T01:51:43.028733Z"
    },
    "papermill": {
     "duration": 0.018372,
     "end_time": "2025-01-15T01:51:43.031881",
     "exception": false,
     "start_time": "2025-01-15T01:51:43.013509",
     "status": "completed"
    },
    "tags": []
   },
   "outputs": [],
   "source": [
    "# test.info()"
   ]
  },
  {
   "cell_type": "markdown",
   "id": "d28d0ee7",
   "metadata": {
    "papermill": {
     "duration": 0.010559,
     "end_time": "2025-01-15T01:51:43.053163",
     "exception": false,
     "start_time": "2025-01-15T01:51:43.042604",
     "status": "completed"
    },
    "tags": []
   },
   "source": [
    "#### NA"
   ]
  },
  {
   "cell_type": "code",
   "execution_count": 13,
   "id": "05f5f52b",
   "metadata": {
    "execution": {
     "iopub.execute_input": "2025-01-15T01:51:43.075538Z",
     "iopub.status.busy": "2025-01-15T01:51:43.075141Z",
     "iopub.status.idle": "2025-01-15T01:51:43.080794Z",
     "shell.execute_reply": "2025-01-15T01:51:43.079632Z"
    },
    "papermill": {
     "duration": 0.018953,
     "end_time": "2025-01-15T01:51:43.082613",
     "exception": false,
     "start_time": "2025-01-15T01:51:43.063660",
     "status": "completed"
    },
    "tags": []
   },
   "outputs": [],
   "source": [
    "def analyze_missing_values(df):\n",
    "    missing = df.isnull().sum()\n",
    "    missing_pct = (missing / len(df)) * 100\n",
    "    missing_df = pd.DataFrame({\n",
    "        'Missing Values': missing,\n",
    "        'Percentage': missing_pct\n",
    "    }).sort_values('Percentage', ascending=False)\n",
    "    \n",
    "    print(\"\\n=== Missing Values Analysis ===\")\n",
    "    print(missing_df[missing_df['Missing Values'] > 0])"
   ]
  },
  {
   "cell_type": "code",
   "execution_count": 14,
   "id": "d54ed8a2",
   "metadata": {
    "execution": {
     "iopub.execute_input": "2025-01-15T01:51:43.105703Z",
     "iopub.status.busy": "2025-01-15T01:51:43.105303Z",
     "iopub.status.idle": "2025-01-15T01:51:47.608977Z",
     "shell.execute_reply": "2025-01-15T01:51:47.607711Z"
    },
    "papermill": {
     "duration": 4.518314,
     "end_time": "2025-01-15T01:51:47.611537",
     "exception": false,
     "start_time": "2025-01-15T01:51:43.093223",
     "status": "completed"
    },
    "tags": []
   },
   "outputs": [
    {
     "name": "stdout",
     "output_type": "stream",
     "text": [
      "\n",
      "=== Missing Values Analysis ===\n",
      "                          Missing Values  Percentage\n",
      "Breakdown Category               9594402   73.803092\n",
      "Current-T                        2954720   22.728615\n",
      "apparent_temperature_max         2775038   21.346446\n",
      "apparent_temperature_min         2621692   20.166862\n",
      "humidity                         2532064   19.477415\n",
      "temperature_10H_min (°C)         2488572   19.142862\n",
      "RPM-2                            2438948   18.761138\n",
      "RPM-3                            2360433   18.157177\n",
      "ID_Area                          2245196   17.270738\n",
      "ID_Mesin                         2184031   16.800238\n",
      "Vibration-2                      1973544   15.181108\n",
      "RPM-1                            1745236   13.424892\n",
      "Power                            1702431   13.095623\n",
      "temperature-2                    1508600   11.604615\n",
      "RPM                              1440706   11.082354\n",
      "Voltage-L                        1255754    9.659646\n",
      "Voltage-R                         897445    6.903423\n",
      "Vibration-1                       696210    5.355462\n",
      "temperature-3                     468901    3.606931\n",
      "Voltage-M                         445621    3.427854\n",
      "Power_Backup                      437397    3.364592\n",
      "temperature-1                     378878    2.914446\n",
      "temperature_10H_max (°C)          372665    2.866654\n",
      "Current-R                         182444    1.403415\n",
      "Current-M                         141165    1.085885\n"
     ]
    }
   ],
   "source": [
    "analyze_missing_values(train)"
   ]
  },
  {
   "cell_type": "markdown",
   "id": "95a19aef",
   "metadata": {
    "papermill": {
     "duration": 0.012863,
     "end_time": "2025-01-15T01:51:47.638934",
     "exception": false,
     "start_time": "2025-01-15T01:51:47.626071",
     "status": "completed"
    },
    "tags": []
   },
   "source": [
    "- Variabel (Breakdown Category) harus dihapus karena memiliki nilai NA>70% dan tidak ada di data test."
   ]
  },
  {
   "cell_type": "code",
   "execution_count": 15,
   "id": "4ba8f2c6",
   "metadata": {
    "execution": {
     "iopub.execute_input": "2025-01-15T01:51:47.666667Z",
     "iopub.status.busy": "2025-01-15T01:51:47.666220Z",
     "iopub.status.idle": "2025-01-15T01:51:48.774908Z",
     "shell.execute_reply": "2025-01-15T01:51:48.773580Z"
    },
    "papermill": {
     "duration": 1.125537,
     "end_time": "2025-01-15T01:51:48.777450",
     "exception": false,
     "start_time": "2025-01-15T01:51:47.651913",
     "status": "completed"
    },
    "tags": []
   },
   "outputs": [],
   "source": [
    "train = train.drop(columns = 'Breakdown Category')"
   ]
  },
  {
   "cell_type": "markdown",
   "id": "b21803f3",
   "metadata": {
    "papermill": {
     "duration": 0.012897,
     "end_time": "2025-01-15T01:51:48.803784",
     "exception": false,
     "start_time": "2025-01-15T01:51:48.790887",
     "status": "completed"
    },
    "tags": []
   },
   "source": [
    "#### Target Distribution"
   ]
  },
  {
   "cell_type": "code",
   "execution_count": 16,
   "id": "101e4c78",
   "metadata": {
    "execution": {
     "iopub.execute_input": "2025-01-15T01:51:48.831206Z",
     "iopub.status.busy": "2025-01-15T01:51:48.830817Z",
     "iopub.status.idle": "2025-01-15T01:51:48.836948Z",
     "shell.execute_reply": "2025-01-15T01:51:48.835797Z"
    },
    "papermill": {
     "duration": 0.022222,
     "end_time": "2025-01-15T01:51:48.838935",
     "exception": false,
     "start_time": "2025-01-15T01:51:48.816713",
     "status": "completed"
    },
    "tags": []
   },
   "outputs": [],
   "source": [
    "def analyze_target(df):\n",
    "    print(\"\\n=== Target Variable Analysis ===\")\n",
    "    status_counts = df['Status'].value_counts()\n",
    "    print(\"\\nStatus Distribution:\")\n",
    "    print(status_counts)\n",
    "    print(\"\\nStatus Distribution (%):\")\n",
    "    print((status_counts/len(df)*100).round(2))\n",
    "    \n",
    "    plt.figure(figsize=(10, 5))\n",
    "    sns.countplot(data=df, x='Status')\n",
    "    plt.title('Distribution of Status')\n",
    "    plt.xticks(rotation=45)\n",
    "    plt.tight_layout()\n",
    "    plt.show()"
   ]
  },
  {
   "cell_type": "code",
   "execution_count": 17,
   "id": "9b720fc8",
   "metadata": {
    "execution": {
     "iopub.execute_input": "2025-01-15T01:51:48.862860Z",
     "iopub.status.busy": "2025-01-15T01:51:48.862471Z",
     "iopub.status.idle": "2025-01-15T01:51:59.365738Z",
     "shell.execute_reply": "2025-01-15T01:51:59.364450Z"
    },
    "papermill": {
     "duration": 10.51816,
     "end_time": "2025-01-15T01:51:59.368457",
     "exception": false,
     "start_time": "2025-01-15T01:51:48.850297",
     "status": "completed"
    },
    "tags": []
   },
   "outputs": [
    {
     "name": "stdout",
     "output_type": "stream",
     "text": [
      "\n",
      "=== Target Variable Analysis ===\n",
      "\n",
      "Status Distribution:\n",
      "Status\n",
      "Normal       7986989\n",
      "Warning      2550024\n",
      "Breakdown    2462987\n",
      "Name: count, dtype: int64\n",
      "\n",
      "Status Distribution (%):\n",
      "Status\n",
      "Normal       61.44\n",
      "Warning      19.62\n",
      "Breakdown    18.95\n",
      "Name: count, dtype: float64\n"
     ]
    },
    {
     "data": {
      "image/png": "[encoded data removed]",
      "text/plain": [
       "<Figure size 1000x500 with 1 Axes>"
      ]
     },
     "metadata": {},
     "output_type": "display_data"
    }
   ],
   "source": [
    "analyze_target(train)"
   ]
  },
  {
   "cell_type": "markdown",
   "id": "bc6f80f8",
   "metadata": {
    "papermill": {
     "duration": 0.029406,
     "end_time": "2025-01-15T01:51:59.425921",
     "exception": false,
     "start_time": "2025-01-15T01:51:59.396515",
     "status": "completed"
    },
    "tags": []
   },
   "source": [
    "Terlihat sebaran data tidak merata, dnegan dominasi status 'Normal'"
   ]
  },
  {
   "cell_type": "markdown",
   "id": "b2bfa9a8",
   "metadata": {
    "papermill": {
     "duration": 0.029355,
     "end_time": "2025-01-15T01:51:59.484529",
     "exception": false,
     "start_time": "2025-01-15T01:51:59.455174",
     "status": "completed"
    },
    "tags": []
   },
   "source": [
    "#### Categorical Variable"
   ]
  },
  {
   "cell_type": "code",
   "execution_count": 18,
   "id": "5f87951c",
   "metadata": {
    "execution": {
     "iopub.execute_input": "2025-01-15T01:51:59.545083Z",
     "iopub.status.busy": "2025-01-15T01:51:59.544686Z",
     "iopub.status.idle": "2025-01-15T01:51:59.550606Z",
     "shell.execute_reply": "2025-01-15T01:51:59.549466Z"
    },
    "papermill": {
     "duration": 0.039193,
     "end_time": "2025-01-15T01:51:59.553060",
     "exception": false,
     "start_time": "2025-01-15T01:51:59.513867",
     "status": "completed"
    },
    "tags": []
   },
   "outputs": [],
   "source": [
    "def analyze_categorical(df):\n",
    "    print(\"\\n=== Categorical Features Analysis ===\")\n",
    "    categorical_cols = ['ID_Area', 'ID_Mesin', 'Power_Backup']\n",
    "    \n",
    "    for col in categorical_cols:\n",
    "        print(f\"\\n{col} Value Counts:\")\n",
    "        print(df[col].value_counts().head())\n",
    "        print(f\"\\nUnique values in {col}:\", df[col].nunique())"
   ]
  },
  {
   "cell_type": "code",
   "execution_count": 19,
   "id": "e42d9f32",
   "metadata": {
    "execution": {
     "iopub.execute_input": "2025-01-15T01:51:59.611494Z",
     "iopub.status.busy": "2025-01-15T01:51:59.611051Z",
     "iopub.status.idle": "2025-01-15T01:52:03.893665Z",
     "shell.execute_reply": "2025-01-15T01:52:03.892493Z"
    },
    "papermill": {
     "duration": 4.313306,
     "end_time": "2025-01-15T01:52:03.895582",
     "exception": false,
     "start_time": "2025-01-15T01:51:59.582276",
     "status": "completed"
    },
    "tags": []
   },
   "outputs": [
    {
     "name": "stdout",
     "output_type": "stream",
     "text": [
      "\n",
      "=== Categorical Features Analysis ===\n",
      "\n",
      "ID_Area Value Counts:\n",
      "ID_Area\n",
      "ID34    331605\n",
      "ID24    331335\n",
      "ID36    305266\n",
      "ID19    305259\n",
      "ID21    304644\n",
      "Name: count, dtype: int64\n",
      "\n",
      "Unique values in ID_Area: 42\n",
      "\n",
      "ID_Mesin Value Counts:\n",
      "ID_Mesin\n",
      "D.4    297825\n",
      "E.3    297396\n",
      "I.1    288991\n",
      "G.1    287921\n",
      "J.3    279179\n",
      "Name: count, dtype: int64\n",
      "\n",
      "Unique values in ID_Mesin: 44\n",
      "\n",
      "Power_Backup Value Counts:\n",
      "Power_Backup\n",
      "Yes    6281604\n",
      "No     6280999\n",
      "Name: count, dtype: int64\n",
      "\n",
      "Unique values in Power_Backup: 2\n"
     ]
    }
   ],
   "source": [
    "analyze_categorical(train)"
   ]
  },
  {
   "cell_type": "code",
   "execution_count": 20,
   "id": "12f81c8f",
   "metadata": {
    "execution": {
     "iopub.execute_input": "2025-01-15T01:52:03.920642Z",
     "iopub.status.busy": "2025-01-15T01:52:03.920263Z",
     "iopub.status.idle": "2025-01-15T01:52:04.025607Z",
     "shell.execute_reply": "2025-01-15T01:52:04.024418Z"
    },
    "papermill": {
     "duration": 0.120029,
     "end_time": "2025-01-15T01:52:04.027591",
     "exception": false,
     "start_time": "2025-01-15T01:52:03.907562",
     "status": "completed"
    },
    "tags": []
   },
   "outputs": [
    {
     "data": {
      "text/plain": [
       "3169"
      ]
     },
     "execution_count": 20,
     "metadata": {},
     "output_type": "execute_result"
    }
   ],
   "source": [
    "gc.collect()"
   ]
  },
  {
   "cell_type": "markdown",
   "id": "f64a9375",
   "metadata": {
    "papermill": {
     "duration": 0.011974,
     "end_time": "2025-01-15T01:52:04.051614",
     "exception": false,
     "start_time": "2025-01-15T01:52:04.039640",
     "status": "completed"
    },
    "tags": []
   },
   "source": [
    "## **JOIN DATA**"
   ]
  },
  {
   "cell_type": "code",
   "execution_count": 21,
   "id": "978e3123",
   "metadata": {
    "execution": {
     "iopub.execute_input": "2025-01-15T01:52:04.076605Z",
     "iopub.status.busy": "2025-01-15T01:52:04.076189Z",
     "iopub.status.idle": "2025-01-15T01:52:04.086492Z",
     "shell.execute_reply": "2025-01-15T01:52:04.085148Z"
    },
    "papermill": {
     "duration": 0.025187,
     "end_time": "2025-01-15T01:52:04.088358",
     "exception": false,
     "start_time": "2025-01-15T01:52:04.063171",
     "status": "completed"
    },
    "tags": []
   },
   "outputs": [
    {
     "data": {
      "text/html": [
       "<div>\n",
       "<style scoped>\n",
       "    .dataframe tbody tr th:only-of-type {\n",
       "        vertical-align: middle;\n",
       "    }\n",
       "\n",
       "    .dataframe tbody tr th {\n",
       "        vertical-align: top;\n",
       "    }\n",
       "\n",
       "    .dataframe thead th {\n",
       "        text-align: right;\n",
       "    }\n",
       "</style>\n",
       "<table border=\"1\" class=\"dataframe\">\n",
       "  <thead>\n",
       "    <tr style=\"text-align: right;\">\n",
       "      <th></th>\n",
       "      <th>ID_Area</th>\n",
       "      <th>Area</th>\n",
       "      <th>Priority</th>\n",
       "    </tr>\n",
       "  </thead>\n",
       "  <tbody>\n",
       "    <tr>\n",
       "      <th>0</th>\n",
       "      <td>ID1</td>\n",
       "      <td>BLJA</td>\n",
       "      <td>Low</td>\n",
       "    </tr>\n",
       "    <tr>\n",
       "      <th>1</th>\n",
       "      <td>ID2</td>\n",
       "      <td>SDA</td>\n",
       "      <td>Low</td>\n",
       "    </tr>\n",
       "    <tr>\n",
       "      <th>2</th>\n",
       "      <td>ID3</td>\n",
       "      <td>BGR</td>\n",
       "      <td>Low</td>\n",
       "    </tr>\n",
       "    <tr>\n",
       "      <th>3</th>\n",
       "      <td>ID4</td>\n",
       "      <td>SKBM</td>\n",
       "      <td>Medium</td>\n",
       "    </tr>\n",
       "    <tr>\n",
       "      <th>4</th>\n",
       "      <td>ID5</td>\n",
       "      <td>SMGS</td>\n",
       "      <td>High</td>\n",
       "    </tr>\n",
       "  </tbody>\n",
       "</table>\n",
       "</div>"
      ],
      "text/plain": [
       "  ID_Area  Area Priority\n",
       "0     ID1  BLJA      Low\n",
       "1     ID2   SDA      Low\n",
       "2     ID3   BGR      Low\n",
       "3     ID4  SKBM   Medium\n",
       "4     ID5  SMGS     High"
      ]
     },
     "execution_count": 21,
     "metadata": {},
     "output_type": "execute_result"
    }
   ],
   "source": [
    "area_list.head()"
   ]
  },
  {
   "cell_type": "code",
   "execution_count": 22,
   "id": "dc335726",
   "metadata": {
    "execution": {
     "iopub.execute_input": "2025-01-15T01:52:04.113621Z",
     "iopub.status.busy": "2025-01-15T01:52:04.113196Z",
     "iopub.status.idle": "2025-01-15T01:52:04.125396Z",
     "shell.execute_reply": "2025-01-15T01:52:04.124278Z"
    },
    "papermill": {
     "duration": 0.027009,
     "end_time": "2025-01-15T01:52:04.127231",
     "exception": false,
     "start_time": "2025-01-15T01:52:04.100222",
     "status": "completed"
    },
    "tags": []
   },
   "outputs": [
    {
     "data": {
      "text/html": [
       "<div>\n",
       "<style scoped>\n",
       "    .dataframe tbody tr th:only-of-type {\n",
       "        vertical-align: middle;\n",
       "    }\n",
       "\n",
       "    .dataframe tbody tr th {\n",
       "        vertical-align: top;\n",
       "    }\n",
       "\n",
       "    .dataframe thead th {\n",
       "        text-align: right;\n",
       "    }\n",
       "</style>\n",
       "<table border=\"1\" class=\"dataframe\">\n",
       "  <thead>\n",
       "    <tr style=\"text-align: right;\">\n",
       "      <th></th>\n",
       "      <th>ID_Mesin</th>\n",
       "      <th>Mesin</th>\n",
       "      <th>Country Machine</th>\n",
       "      <th>ID_Area</th>\n",
       "      <th>Last Maintenance</th>\n",
       "      <th>Status Sparepart</th>\n",
       "      <th>Age</th>\n",
       "    </tr>\n",
       "  </thead>\n",
       "  <tbody>\n",
       "    <tr>\n",
       "      <th>0</th>\n",
       "      <td>B.4</td>\n",
       "      <td>Novamax</td>\n",
       "      <td>US</td>\n",
       "      <td>ID21</td>\n",
       "      <td>2020-01-18</td>\n",
       "      <td>Broken</td>\n",
       "      <td>2</td>\n",
       "    </tr>\n",
       "    <tr>\n",
       "      <th>1</th>\n",
       "      <td>H.2</td>\n",
       "      <td>Risco-TR300</td>\n",
       "      <td>CN</td>\n",
       "      <td>ID29</td>\n",
       "      <td>2021-12-08</td>\n",
       "      <td>Repair</td>\n",
       "      <td>6</td>\n",
       "    </tr>\n",
       "    <tr>\n",
       "      <th>2</th>\n",
       "      <td>I.3</td>\n",
       "      <td>Vacuum Filler-2</td>\n",
       "      <td>US</td>\n",
       "      <td>ID21</td>\n",
       "      <td>2020-01-17</td>\n",
       "      <td>Repair</td>\n",
       "      <td>18</td>\n",
       "    </tr>\n",
       "    <tr>\n",
       "      <th>3</th>\n",
       "      <td>A.3</td>\n",
       "      <td>Risco-TR700</td>\n",
       "      <td>CN</td>\n",
       "      <td>ID7</td>\n",
       "      <td>2020-08-26</td>\n",
       "      <td>On Check</td>\n",
       "      <td>4</td>\n",
       "    </tr>\n",
       "    <tr>\n",
       "      <th>4</th>\n",
       "      <td>G.2</td>\n",
       "      <td>Risco-TR200</td>\n",
       "      <td>TW</td>\n",
       "      <td>ID6</td>\n",
       "      <td>2020-05-11</td>\n",
       "      <td>On Check</td>\n",
       "      <td>18</td>\n",
       "    </tr>\n",
       "  </tbody>\n",
       "</table>\n",
       "</div>"
      ],
      "text/plain": [
       "  ID_Mesin            Mesin Country Machine ID_Area Last Maintenance  \\\n",
       "0      B.4          Novamax              US    ID21       2020-01-18   \n",
       "1      H.2      Risco-TR300              CN    ID29       2021-12-08   \n",
       "2      I.3  Vacuum Filler-2              US    ID21       2020-01-17   \n",
       "3      A.3      Risco-TR700              CN     ID7       2020-08-26   \n",
       "4      G.2      Risco-TR200              TW     ID6       2020-05-11   \n",
       "\n",
       "  Status Sparepart  Age  \n",
       "0           Broken    2  \n",
       "1           Repair    6  \n",
       "2           Repair   18  \n",
       "3         On Check    4  \n",
       "4         On Check   18  "
      ]
     },
     "execution_count": 22,
     "metadata": {},
     "output_type": "execute_result"
    }
   ],
   "source": [
    "mac_area.head()"
   ]
  },
  {
   "cell_type": "code",
   "execution_count": 23,
   "id": "a7acd876",
   "metadata": {
    "execution": {
     "iopub.execute_input": "2025-01-15T01:52:04.153508Z",
     "iopub.status.busy": "2025-01-15T01:52:04.153088Z",
     "iopub.status.idle": "2025-01-15T01:52:04.162869Z",
     "shell.execute_reply": "2025-01-15T01:52:04.161738Z"
    },
    "papermill": {
     "duration": 0.024654,
     "end_time": "2025-01-15T01:52:04.164826",
     "exception": false,
     "start_time": "2025-01-15T01:52:04.140172",
     "status": "completed"
    },
    "tags": []
   },
   "outputs": [
    {
     "data": {
      "text/html": [
       "<div>\n",
       "<style scoped>\n",
       "    .dataframe tbody tr th:only-of-type {\n",
       "        vertical-align: middle;\n",
       "    }\n",
       "\n",
       "    .dataframe tbody tr th {\n",
       "        vertical-align: top;\n",
       "    }\n",
       "\n",
       "    .dataframe thead th {\n",
       "        text-align: right;\n",
       "    }\n",
       "</style>\n",
       "<table border=\"1\" class=\"dataframe\">\n",
       "  <thead>\n",
       "    <tr style=\"text-align: right;\">\n",
       "      <th></th>\n",
       "      <th>ID_Mesin</th>\n",
       "      <th>Mesin</th>\n",
       "      <th>Country Machine</th>\n",
       "    </tr>\n",
       "  </thead>\n",
       "  <tbody>\n",
       "    <tr>\n",
       "      <th>0</th>\n",
       "      <td>A.1</td>\n",
       "      <td>NL1</td>\n",
       "      <td>JP</td>\n",
       "    </tr>\n",
       "    <tr>\n",
       "      <th>1</th>\n",
       "      <td>B.1</td>\n",
       "      <td>NL2</td>\n",
       "      <td>US</td>\n",
       "    </tr>\n",
       "    <tr>\n",
       "      <th>2</th>\n",
       "      <td>C.1</td>\n",
       "      <td>NL3</td>\n",
       "      <td>US</td>\n",
       "    </tr>\n",
       "    <tr>\n",
       "      <th>3</th>\n",
       "      <td>D.1</td>\n",
       "      <td>Hitech-1</td>\n",
       "      <td>KR</td>\n",
       "    </tr>\n",
       "    <tr>\n",
       "      <th>4</th>\n",
       "      <td>E.1</td>\n",
       "      <td>Plate Fomer Stork</td>\n",
       "      <td>JP</td>\n",
       "    </tr>\n",
       "  </tbody>\n",
       "</table>\n",
       "</div>"
      ],
      "text/plain": [
       "  ID_Mesin              Mesin Country Machine\n",
       "0      A.1                NL1              JP\n",
       "1      B.1                NL2              US\n",
       "2      C.1                NL3              US\n",
       "3      D.1           Hitech-1              KR\n",
       "4      E.1  Plate Fomer Stork              JP"
      ]
     },
     "execution_count": 23,
     "metadata": {},
     "output_type": "execute_result"
    }
   ],
   "source": [
    "mac_list.head()"
   ]
  },
  {
   "cell_type": "markdown",
   "id": "d21475ae",
   "metadata": {
    "papermill": {
     "duration": 0.011857,
     "end_time": "2025-01-15T01:52:04.189352",
     "exception": false,
     "start_time": "2025-01-15T01:52:04.177495",
     "status": "completed"
    },
    "tags": []
   },
   "source": [
    "Selanjutnya akan dilakukan join data\n",
    "- Country Machine ke data mac_area (opsional)\n",
    "- Priority dan Area dari area_list\n",
    "- Age, Last Maintenance, Status Sparepart, Country Machine"
   ]
  },
  {
   "cell_type": "markdown",
   "id": "8e8c88b2",
   "metadata": {
    "papermill": {
     "duration": 0.01197,
     "end_time": "2025-01-15T01:52:04.213878",
     "exception": false,
     "start_time": "2025-01-15T01:52:04.201908",
     "status": "completed"
    },
    "tags": []
   },
   "source": [
    "Priority dan Area dari area_list ke train"
   ]
  },
  {
   "cell_type": "code",
   "execution_count": 24,
   "id": "d0dffc4f",
   "metadata": {
    "execution": {
     "iopub.execute_input": "2025-01-15T01:52:04.239650Z",
     "iopub.status.busy": "2025-01-15T01:52:04.239195Z",
     "iopub.status.idle": "2025-01-15T01:52:04.244473Z",
     "shell.execute_reply": "2025-01-15T01:52:04.243438Z"
    },
    "papermill": {
     "duration": 0.020303,
     "end_time": "2025-01-15T01:52:04.246334",
     "exception": false,
     "start_time": "2025-01-15T01:52:04.226031",
     "status": "completed"
    },
    "tags": []
   },
   "outputs": [],
   "source": [
    "def add_priority(train_df, area_list_df):\n",
    "    \n",
    "    # Create a mapping dictionary from area_list\n",
    "    priority_mapping = dict(zip(area_list_df['ID_Area'], area_list_df['Priority']))\n",
    "    \n",
    "    # Add priority column to train_df using map\n",
    "    train_df['Priority'] = train_df['ID_Area'].map(priority_mapping)\n",
    "    \n",
    "    return train_df"
   ]
  },
  {
   "cell_type": "code",
   "execution_count": 25,
   "id": "37a0b00d",
   "metadata": {
    "execution": {
     "iopub.execute_input": "2025-01-15T01:52:04.272538Z",
     "iopub.status.busy": "2025-01-15T01:52:04.272152Z",
     "iopub.status.idle": "2025-01-15T01:52:04.277212Z",
     "shell.execute_reply": "2025-01-15T01:52:04.276100Z"
    },
    "papermill": {
     "duration": 0.020487,
     "end_time": "2025-01-15T01:52:04.279125",
     "exception": false,
     "start_time": "2025-01-15T01:52:04.258638",
     "status": "completed"
    },
    "tags": []
   },
   "outputs": [],
   "source": [
    "def add_area(train_df, area_list_df):\n",
    "    \n",
    "    # Create a mapping dictionary from area_list\n",
    "    area_mapping = dict(zip(area_list_df['ID_Area'], area_list_df['Area']))\n",
    "    \n",
    "    # Add priority column to train_df using map\n",
    "    train_df['Area'] = train_df['ID_Area'].map(area_mapping)\n",
    "    \n",
    "    return train_df"
   ]
  },
  {
   "cell_type": "code",
   "execution_count": 26,
   "id": "909601cd",
   "metadata": {
    "execution": {
     "iopub.execute_input": "2025-01-15T01:52:04.306717Z",
     "iopub.status.busy": "2025-01-15T01:52:04.306341Z",
     "iopub.status.idle": "2025-01-15T01:52:05.611425Z",
     "shell.execute_reply": "2025-01-15T01:52:05.610321Z"
    },
    "papermill": {
     "duration": 1.322079,
     "end_time": "2025-01-15T01:52:05.613513",
     "exception": false,
     "start_time": "2025-01-15T01:52:04.291434",
     "status": "completed"
    },
    "tags": []
   },
   "outputs": [],
   "source": [
    "train_df_with_priority = add_priority(train, area_list)"
   ]
  },
  {
   "cell_type": "code",
   "execution_count": 27,
   "id": "df7e4455",
   "metadata": {
    "execution": {
     "iopub.execute_input": "2025-01-15T01:52:05.639077Z",
     "iopub.status.busy": "2025-01-15T01:52:05.638737Z",
     "iopub.status.idle": "2025-01-15T01:52:06.870466Z",
     "shell.execute_reply": "2025-01-15T01:52:06.869343Z"
    },
    "papermill": {
     "duration": 1.246576,
     "end_time": "2025-01-15T01:52:06.872348",
     "exception": false,
     "start_time": "2025-01-15T01:52:05.625772",
     "status": "completed"
    },
    "tags": []
   },
   "outputs": [],
   "source": [
    "train_df_with_area = add_area(train_df_with_priority, area_list)"
   ]
  },
  {
   "cell_type": "code",
   "execution_count": 28,
   "id": "85cfa674",
   "metadata": {
    "execution": {
     "iopub.execute_input": "2025-01-15T01:52:06.899010Z",
     "iopub.status.busy": "2025-01-15T01:52:06.898647Z",
     "iopub.status.idle": "2025-01-15T01:52:06.902733Z",
     "shell.execute_reply": "2025-01-15T01:52:06.901630Z"
    },
    "papermill": {
     "duration": 0.019899,
     "end_time": "2025-01-15T01:52:06.904536",
     "exception": false,
     "start_time": "2025-01-15T01:52:06.884637",
     "status": "completed"
    },
    "tags": []
   },
   "outputs": [],
   "source": [
    "# test_df_with_priority = add_priority(test, area_list)"
   ]
  },
  {
   "cell_type": "code",
   "execution_count": 29,
   "id": "6dc996ec",
   "metadata": {
    "execution": {
     "iopub.execute_input": "2025-01-15T01:52:06.929743Z",
     "iopub.status.busy": "2025-01-15T01:52:06.929356Z",
     "iopub.status.idle": "2025-01-15T01:52:06.933322Z",
     "shell.execute_reply": "2025-01-15T01:52:06.932302Z"
    },
    "papermill": {
     "duration": 0.01821,
     "end_time": "2025-01-15T01:52:06.934868",
     "exception": false,
     "start_time": "2025-01-15T01:52:06.916658",
     "status": "completed"
    },
    "tags": []
   },
   "outputs": [],
   "source": [
    "# test_df_with_area = add_area(test_df_with_priority, area_list)"
   ]
  },
  {
   "cell_type": "markdown",
   "id": "c2cd7d14",
   "metadata": {
    "papermill": {
     "duration": 0.013061,
     "end_time": "2025-01-15T01:52:06.960051",
     "exception": false,
     "start_time": "2025-01-15T01:52:06.946990",
     "status": "completed"
    },
    "tags": []
   },
   "source": [
    "Age, Last Maintenance, Status Sparepart, Country Machine"
   ]
  },
  {
   "cell_type": "code",
   "execution_count": 30,
   "id": "b1daaa8f",
   "metadata": {
    "execution": {
     "iopub.execute_input": "2025-01-15T01:52:06.986041Z",
     "iopub.status.busy": "2025-01-15T01:52:06.985707Z",
     "iopub.status.idle": "2025-01-15T01:52:06.990577Z",
     "shell.execute_reply": "2025-01-15T01:52:06.989571Z"
    },
    "papermill": {
     "duration": 0.019784,
     "end_time": "2025-01-15T01:52:06.992249",
     "exception": false,
     "start_time": "2025-01-15T01:52:06.972465",
     "status": "completed"
    },
    "tags": []
   },
   "outputs": [],
   "source": [
    "def add_maintenance(train_df, mac_area_df):\n",
    "    # Melakukan penggabungan (merge) berdasarkan ID_Area dan ID_Mesin\n",
    "    merged_df = train_df.merge(mac_area_df[['ID_Area', 'ID_Mesin', 'Last Maintenance']], \n",
    "                                on=['ID_Area', 'ID_Mesin'], \n",
    "                                how='left')\n",
    "    \n",
    "    train_df['Last Maintenance'] = merged_df['Last Maintenance']\n",
    "    \n",
    "    return train_df"
   ]
  },
  {
   "cell_type": "code",
   "execution_count": 31,
   "id": "f0d37f34",
   "metadata": {
    "execution": {
     "iopub.execute_input": "2025-01-15T01:52:07.018473Z",
     "iopub.status.busy": "2025-01-15T01:52:07.018091Z",
     "iopub.status.idle": "2025-01-15T01:52:26.361697Z",
     "shell.execute_reply": "2025-01-15T01:52:26.360173Z"
    },
    "papermill": {
     "duration": 19.358637,
     "end_time": "2025-01-15T01:52:26.363614",
     "exception": false,
     "start_time": "2025-01-15T01:52:07.004977",
     "status": "completed"
    },
    "tags": []
   },
   "outputs": [],
   "source": [
    "train_df_with_maintenance = add_maintenance(train_df_with_area, mac_area)"
   ]
  },
  {
   "cell_type": "code",
   "execution_count": 32,
   "id": "d9abd38f",
   "metadata": {
    "execution": {
     "iopub.execute_input": "2025-01-15T01:52:26.389409Z",
     "iopub.status.busy": "2025-01-15T01:52:26.389064Z",
     "iopub.status.idle": "2025-01-15T01:52:26.392601Z",
     "shell.execute_reply": "2025-01-15T01:52:26.391736Z"
    },
    "papermill": {
     "duration": 0.018168,
     "end_time": "2025-01-15T01:52:26.394292",
     "exception": false,
     "start_time": "2025-01-15T01:52:26.376124",
     "status": "completed"
    },
    "tags": []
   },
   "outputs": [],
   "source": [
    "# test_df_with_maintenance = add_maintenance(test_df_with_area, mac_area)"
   ]
  },
  {
   "cell_type": "code",
   "execution_count": 33,
   "id": "e61faa13",
   "metadata": {
    "execution": {
     "iopub.execute_input": "2025-01-15T01:52:26.419550Z",
     "iopub.status.busy": "2025-01-15T01:52:26.419168Z",
     "iopub.status.idle": "2025-01-15T01:52:26.423916Z",
     "shell.execute_reply": "2025-01-15T01:52:26.422957Z"
    },
    "papermill": {
     "duration": 0.019038,
     "end_time": "2025-01-15T01:52:26.425466",
     "exception": false,
     "start_time": "2025-01-15T01:52:26.406428",
     "status": "completed"
    },
    "tags": []
   },
   "outputs": [],
   "source": [
    "def add_sparepart(train_df, mac_area_df):\n",
    "    # Melakukan penggabungan (merge) berdasarkan ID_Area dan ID_Mesin\n",
    "    merged_df = train_df.merge(mac_area_df[['ID_Area', 'ID_Mesin', 'Status Sparepart']], \n",
    "                                on=['ID_Area', 'ID_Mesin'], \n",
    "                                how='left')\n",
    "    \n",
    "    train_df['Status Sparepart'] = merged_df['Status Sparepart']\n",
    "    \n",
    "    return train_df"
   ]
  },
  {
   "cell_type": "code",
   "execution_count": 34,
   "id": "5e79052e",
   "metadata": {
    "execution": {
     "iopub.execute_input": "2025-01-15T01:52:26.451912Z",
     "iopub.status.busy": "2025-01-15T01:52:26.451542Z",
     "iopub.status.idle": "2025-01-15T01:52:45.605619Z",
     "shell.execute_reply": "2025-01-15T01:52:45.604486Z"
    },
    "papermill": {
     "duration": 19.169817,
     "end_time": "2025-01-15T01:52:45.607654",
     "exception": false,
     "start_time": "2025-01-15T01:52:26.437837",
     "status": "completed"
    },
    "tags": []
   },
   "outputs": [],
   "source": [
    "train_df_with_sparepart = add_sparepart(train_df_with_maintenance, mac_area)"
   ]
  },
  {
   "cell_type": "code",
   "execution_count": 35,
   "id": "c21a2e12",
   "metadata": {
    "execution": {
     "iopub.execute_input": "2025-01-15T01:52:45.633209Z",
     "iopub.status.busy": "2025-01-15T01:52:45.632850Z",
     "iopub.status.idle": "2025-01-15T01:52:45.636666Z",
     "shell.execute_reply": "2025-01-15T01:52:45.635679Z"
    },
    "papermill": {
     "duration": 0.018223,
     "end_time": "2025-01-15T01:52:45.638218",
     "exception": false,
     "start_time": "2025-01-15T01:52:45.619995",
     "status": "completed"
    },
    "tags": []
   },
   "outputs": [],
   "source": [
    "# test_df_with_sparepart = add_sparepart(test_df_with_maintenance, mac_area)"
   ]
  },
  {
   "cell_type": "code",
   "execution_count": 36,
   "id": "b3289e8e",
   "metadata": {
    "execution": {
     "iopub.execute_input": "2025-01-15T01:52:45.663364Z",
     "iopub.status.busy": "2025-01-15T01:52:45.662987Z",
     "iopub.status.idle": "2025-01-15T01:52:45.667724Z",
     "shell.execute_reply": "2025-01-15T01:52:45.666722Z"
    },
    "papermill": {
     "duration": 0.019002,
     "end_time": "2025-01-15T01:52:45.669252",
     "exception": false,
     "start_time": "2025-01-15T01:52:45.650250",
     "status": "completed"
    },
    "tags": []
   },
   "outputs": [],
   "source": [
    "def add_age(train_df, mac_area_df):\n",
    "    # Melakukan penggabungan (merge) berdasarkan ID_Area dan ID_Mesin\n",
    "    merged_df = train_df.merge(mac_area_df[['ID_Area', 'ID_Mesin', 'Age']], \n",
    "                                on=['ID_Area', 'ID_Mesin'], \n",
    "                                how='left')\n",
    "    \n",
    "    train_df['Age'] = merged_df['Age']\n",
    "    \n",
    "    return train_df"
   ]
  },
  {
   "cell_type": "code",
   "execution_count": 37,
   "id": "1a3efb7a",
   "metadata": {
    "execution": {
     "iopub.execute_input": "2025-01-15T01:52:45.694492Z",
     "iopub.status.busy": "2025-01-15T01:52:45.694100Z",
     "iopub.status.idle": "2025-01-15T01:53:05.278617Z",
     "shell.execute_reply": "2025-01-15T01:53:05.277367Z"
    },
    "papermill": {
     "duration": 19.599334,
     "end_time": "2025-01-15T01:53:05.280813",
     "exception": false,
     "start_time": "2025-01-15T01:52:45.681479",
     "status": "completed"
    },
    "tags": []
   },
   "outputs": [],
   "source": [
    "train_df_with_age = add_age(train_df_with_sparepart, mac_area)"
   ]
  },
  {
   "cell_type": "code",
   "execution_count": 38,
   "id": "af8a2d4d",
   "metadata": {
    "execution": {
     "iopub.execute_input": "2025-01-15T01:53:05.307191Z",
     "iopub.status.busy": "2025-01-15T01:53:05.306799Z",
     "iopub.status.idle": "2025-01-15T01:53:05.311028Z",
     "shell.execute_reply": "2025-01-15T01:53:05.309704Z"
    },
    "papermill": {
     "duration": 0.019436,
     "end_time": "2025-01-15T01:53:05.312882",
     "exception": false,
     "start_time": "2025-01-15T01:53:05.293446",
     "status": "completed"
    },
    "tags": []
   },
   "outputs": [],
   "source": [
    "# test_df_with_age = add_age(test_df_with_sparepart, mac_area)"
   ]
  },
  {
   "cell_type": "code",
   "execution_count": 39,
   "id": "0353f607",
   "metadata": {
    "execution": {
     "iopub.execute_input": "2025-01-15T01:53:05.339475Z",
     "iopub.status.busy": "2025-01-15T01:53:05.338961Z",
     "iopub.status.idle": "2025-01-15T01:53:05.344138Z",
     "shell.execute_reply": "2025-01-15T01:53:05.342990Z"
    },
    "papermill": {
     "duration": 0.020024,
     "end_time": "2025-01-15T01:53:05.345733",
     "exception": false,
     "start_time": "2025-01-15T01:53:05.325709",
     "status": "completed"
    },
    "tags": []
   },
   "outputs": [],
   "source": [
    "def add_country(train_df, mac_area_df):\n",
    "    # Melakukan penggabungan (merge) berdasarkan ID_Area dan ID_Mesin\n",
    "    merged_df = train_df.merge(mac_area_df[['ID_Area', 'ID_Mesin', 'Country Machine']], \n",
    "                                on=['ID_Area', 'ID_Mesin'], \n",
    "                                how='left')\n",
    "    \n",
    "    train_df['Country Machine'] = merged_df['Country Machine']\n",
    "    \n",
    "    return train_df"
   ]
  },
  {
   "cell_type": "code",
   "execution_count": 40,
   "id": "5ec77d95",
   "metadata": {
    "execution": {
     "iopub.execute_input": "2025-01-15T01:53:05.371305Z",
     "iopub.status.busy": "2025-01-15T01:53:05.370928Z",
     "iopub.status.idle": "2025-01-15T01:53:28.737185Z",
     "shell.execute_reply": "2025-01-15T01:53:28.735730Z"
    },
    "papermill": {
     "duration": 23.381553,
     "end_time": "2025-01-15T01:53:28.739358",
     "exception": false,
     "start_time": "2025-01-15T01:53:05.357805",
     "status": "completed"
    },
    "tags": []
   },
   "outputs": [],
   "source": [
    "train_full = add_country(train_df_with_age, mac_area)"
   ]
  },
  {
   "cell_type": "code",
   "execution_count": 41,
   "id": "b1e7f7ee",
   "metadata": {
    "execution": {
     "iopub.execute_input": "2025-01-15T01:53:28.765474Z",
     "iopub.status.busy": "2025-01-15T01:53:28.765057Z",
     "iopub.status.idle": "2025-01-15T01:53:28.768940Z",
     "shell.execute_reply": "2025-01-15T01:53:28.767985Z"
    },
    "papermill": {
     "duration": 0.018627,
     "end_time": "2025-01-15T01:53:28.770641",
     "exception": false,
     "start_time": "2025-01-15T01:53:28.752014",
     "status": "completed"
    },
    "tags": []
   },
   "outputs": [],
   "source": [
    "# test_full = add_country(test_df_with_age, mac_area)"
   ]
  },
  {
   "cell_type": "code",
   "execution_count": 42,
   "id": "d2ee392b",
   "metadata": {
    "execution": {
     "iopub.execute_input": "2025-01-15T01:53:28.796559Z",
     "iopub.status.busy": "2025-01-15T01:53:28.796163Z",
     "iopub.status.idle": "2025-01-15T01:53:28.820432Z",
     "shell.execute_reply": "2025-01-15T01:53:28.819257Z"
    },
    "papermill": {
     "duration": 0.03872,
     "end_time": "2025-01-15T01:53:28.822159",
     "exception": false,
     "start_time": "2025-01-15T01:53:28.783439",
     "status": "completed"
    },
    "tags": []
   },
   "outputs": [
    {
     "data": {
      "text/html": [
       "<div>\n",
       "<style scoped>\n",
       "    .dataframe tbody tr th:only-of-type {\n",
       "        vertical-align: middle;\n",
       "    }\n",
       "\n",
       "    .dataframe tbody tr th {\n",
       "        vertical-align: top;\n",
       "    }\n",
       "\n",
       "    .dataframe thead th {\n",
       "        text-align: right;\n",
       "    }\n",
       "</style>\n",
       "<table border=\"1\" class=\"dataframe\">\n",
       "  <thead>\n",
       "    <tr style=\"text-align: right;\">\n",
       "      <th></th>\n",
       "      <th>ID_Transaction</th>\n",
       "      <th>temperature_10H_max (°C)</th>\n",
       "      <th>temperature_10H_min (°C)</th>\n",
       "      <th>temperature-1</th>\n",
       "      <th>temperature-2</th>\n",
       "      <th>temperature-3</th>\n",
       "      <th>apparent_temperature_max</th>\n",
       "      <th>apparent_temperature_min</th>\n",
       "      <th>ID_Area</th>\n",
       "      <th>ID_Mesin</th>\n",
       "      <th>...</th>\n",
       "      <th>Vibration-2</th>\n",
       "      <th>Power</th>\n",
       "      <th>Power_Backup</th>\n",
       "      <th>Status</th>\n",
       "      <th>Priority</th>\n",
       "      <th>Area</th>\n",
       "      <th>Last Maintenance</th>\n",
       "      <th>Status Sparepart</th>\n",
       "      <th>Age</th>\n",
       "      <th>Country Machine</th>\n",
       "    </tr>\n",
       "  </thead>\n",
       "  <tbody>\n",
       "    <tr>\n",
       "      <th>0</th>\n",
       "      <td>TRXc8f4c2dcbfe501093501015b32bd0ba2</td>\n",
       "      <td>1110.970519</td>\n",
       "      <td>NaN</td>\n",
       "      <td>106.145582</td>\n",
       "      <td>38.779147</td>\n",
       "      <td>262.330188</td>\n",
       "      <td>33.916720</td>\n",
       "      <td>NaN</td>\n",
       "      <td>ID12</td>\n",
       "      <td>A.4</td>\n",
       "      <td>...</td>\n",
       "      <td>40.938353</td>\n",
       "      <td>NaN</td>\n",
       "      <td>Yes</td>\n",
       "      <td>Warning</td>\n",
       "      <td>Medium</td>\n",
       "      <td>SRBY</td>\n",
       "      <td>2021-05-05</td>\n",
       "      <td>Broken</td>\n",
       "      <td>8.0</td>\n",
       "      <td>JP</td>\n",
       "    </tr>\n",
       "    <tr>\n",
       "      <th>1</th>\n",
       "      <td>TRXe9e6c37fc1281efd6c5ba52fce259584</td>\n",
       "      <td>608.487665</td>\n",
       "      <td>19.932166</td>\n",
       "      <td>375.386134</td>\n",
       "      <td>17.736401</td>\n",
       "      <td>45.051041</td>\n",
       "      <td>4.542451</td>\n",
       "      <td>-21.991755</td>\n",
       "      <td>ID37</td>\n",
       "      <td>K.3</td>\n",
       "      <td>...</td>\n",
       "      <td>NaN</td>\n",
       "      <td>311.803841</td>\n",
       "      <td>Yes</td>\n",
       "      <td>Normal</td>\n",
       "      <td>Medium</td>\n",
       "      <td>BKS</td>\n",
       "      <td>2020-10-09</td>\n",
       "      <td>Ready</td>\n",
       "      <td>11.0</td>\n",
       "      <td>JP</td>\n",
       "    </tr>\n",
       "    <tr>\n",
       "      <th>2</th>\n",
       "      <td>TRXcaef103041dfe1b84537bc3dbdbc6567</td>\n",
       "      <td>462.826917</td>\n",
       "      <td>3.185101</td>\n",
       "      <td>117.322749</td>\n",
       "      <td>22.256591</td>\n",
       "      <td>0.165788</td>\n",
       "      <td>8.695319</td>\n",
       "      <td>-31.803539</td>\n",
       "      <td>ID24</td>\n",
       "      <td>J.1</td>\n",
       "      <td>...</td>\n",
       "      <td>46.980726</td>\n",
       "      <td>1257.681079</td>\n",
       "      <td>No</td>\n",
       "      <td>Normal</td>\n",
       "      <td>High</td>\n",
       "      <td>SKBM</td>\n",
       "      <td>2020-02-12</td>\n",
       "      <td>On Check</td>\n",
       "      <td>1.0</td>\n",
       "      <td>KR</td>\n",
       "    </tr>\n",
       "    <tr>\n",
       "      <th>3</th>\n",
       "      <td>TRX06f9e5574a639bcedb7ec8c3cb9fbaa4</td>\n",
       "      <td>710.093309</td>\n",
       "      <td>26.190643</td>\n",
       "      <td>294.871314</td>\n",
       "      <td>30.639358</td>\n",
       "      <td>140.984886</td>\n",
       "      <td>18.843502</td>\n",
       "      <td>-39.872275</td>\n",
       "      <td>ID7</td>\n",
       "      <td>J.4</td>\n",
       "      <td>...</td>\n",
       "      <td>54.860603</td>\n",
       "      <td>478.325694</td>\n",
       "      <td>No</td>\n",
       "      <td>Breakdown</td>\n",
       "      <td>Medium</td>\n",
       "      <td>KRWG</td>\n",
       "      <td>2021-01-24</td>\n",
       "      <td>Broken</td>\n",
       "      <td>12.0</td>\n",
       "      <td>JP</td>\n",
       "    </tr>\n",
       "    <tr>\n",
       "      <th>4</th>\n",
       "      <td>TRXd8f3a5ce90d25127ba3240a12eb9c140</td>\n",
       "      <td>410.114364</td>\n",
       "      <td>9.664961</td>\n",
       "      <td>185.267516</td>\n",
       "      <td>28.154454</td>\n",
       "      <td>57.002150</td>\n",
       "      <td>23.915704</td>\n",
       "      <td>NaN</td>\n",
       "      <td>ID41</td>\n",
       "      <td>J.2</td>\n",
       "      <td>...</td>\n",
       "      <td>NaN</td>\n",
       "      <td>674.159077</td>\n",
       "      <td>Yes</td>\n",
       "      <td>Breakdown</td>\n",
       "      <td>Medium</td>\n",
       "      <td>BPN</td>\n",
       "      <td>2021-10-22</td>\n",
       "      <td>In Use</td>\n",
       "      <td>2.0</td>\n",
       "      <td>US</td>\n",
       "    </tr>\n",
       "  </tbody>\n",
       "</table>\n",
       "<p>5 rows × 33 columns</p>\n",
       "</div>"
      ],
      "text/plain": [
       "                        ID_Transaction  temperature_10H_max (°C)  \\\n",
       "0  TRXc8f4c2dcbfe501093501015b32bd0ba2               1110.970519   \n",
       "1  TRXe9e6c37fc1281efd6c5ba52fce259584                608.487665   \n",
       "2  TRXcaef103041dfe1b84537bc3dbdbc6567                462.826917   \n",
       "3  TRX06f9e5574a639bcedb7ec8c3cb9fbaa4                710.093309   \n",
       "4  TRXd8f3a5ce90d25127ba3240a12eb9c140                410.114364   \n",
       "\n",
       "   temperature_10H_min (°C)  temperature-1  temperature-2  temperature-3  \\\n",
       "0                       NaN     106.145582      38.779147     262.330188   \n",
       "1                 19.932166     375.386134      17.736401      45.051041   \n",
       "2                  3.185101     117.322749      22.256591       0.165788   \n",
       "3                 26.190643     294.871314      30.639358     140.984886   \n",
       "4                  9.664961     185.267516      28.154454      57.002150   \n",
       "\n",
       "   apparent_temperature_max  apparent_temperature_min ID_Area ID_Mesin  ...  \\\n",
       "0                 33.916720                       NaN    ID12      A.4  ...   \n",
       "1                  4.542451                -21.991755    ID37      K.3  ...   \n",
       "2                  8.695319                -31.803539    ID24      J.1  ...   \n",
       "3                 18.843502                -39.872275     ID7      J.4  ...   \n",
       "4                 23.915704                       NaN    ID41      J.2  ...   \n",
       "\n",
       "  Vibration-2        Power  Power_Backup     Status  Priority  Area  \\\n",
       "0   40.938353          NaN           Yes    Warning    Medium  SRBY   \n",
       "1         NaN   311.803841           Yes     Normal    Medium   BKS   \n",
       "2   46.980726  1257.681079            No     Normal      High  SKBM   \n",
       "3   54.860603   478.325694            No  Breakdown    Medium  KRWG   \n",
       "4         NaN   674.159077           Yes  Breakdown    Medium   BPN   \n",
       "\n",
       "   Last Maintenance  Status Sparepart   Age  Country Machine  \n",
       "0        2021-05-05            Broken   8.0               JP  \n",
       "1        2020-10-09             Ready  11.0               JP  \n",
       "2        2020-02-12          On Check   1.0               KR  \n",
       "3        2021-01-24            Broken  12.0               JP  \n",
       "4        2021-10-22            In Use   2.0               US  \n",
       "\n",
       "[5 rows x 33 columns]"
      ]
     },
     "execution_count": 42,
     "metadata": {},
     "output_type": "execute_result"
    }
   ],
   "source": [
    "train_full.head()"
   ]
  },
  {
   "cell_type": "code",
   "execution_count": 43,
   "id": "f5ba8066",
   "metadata": {
    "execution": {
     "iopub.execute_input": "2025-01-15T01:53:28.848869Z",
     "iopub.status.busy": "2025-01-15T01:53:28.848353Z",
     "iopub.status.idle": "2025-01-15T01:53:28.860929Z",
     "shell.execute_reply": "2025-01-15T01:53:28.859424Z"
    },
    "papermill": {
     "duration": 0.027787,
     "end_time": "2025-01-15T01:53:28.862713",
     "exception": false,
     "start_time": "2025-01-15T01:53:28.834926",
     "status": "completed"
    },
    "tags": []
   },
   "outputs": [
    {
     "name": "stdout",
     "output_type": "stream",
     "text": [
      "<class 'pandas.core.frame.DataFrame'>\n",
      "RangeIndex: 13000000 entries, 0 to 12999999\n",
      "Data columns (total 33 columns):\n",
      " #   Column                    Dtype  \n",
      "---  ------                    -----  \n",
      " 0   ID_Transaction            object \n",
      " 1   temperature_10H_max (°C)  float64\n",
      " 2   temperature_10H_min (°C)  float64\n",
      " 3   temperature-1             float64\n",
      " 4   temperature-2             float64\n",
      " 5   temperature-3             float64\n",
      " 6   apparent_temperature_max  float64\n",
      " 7   apparent_temperature_min  float64\n",
      " 8   ID_Area                   object \n",
      " 9   ID_Mesin                  object \n",
      " 10  timestamp                 object \n",
      " 11  humidity                  float64\n",
      " 12  Voltage-L                 float64\n",
      " 13  Voltage-R                 float64\n",
      " 14  Voltage-M                 float64\n",
      " 15  Current-M                 float64\n",
      " 16  Current-R                 float64\n",
      " 17  Current-T                 float64\n",
      " 18  RPM                       float64\n",
      " 19  RPM-1                     float64\n",
      " 20  RPM-2                     float64\n",
      " 21  RPM-3                     float64\n",
      " 22  Vibration-1               float64\n",
      " 23  Vibration-2               float64\n",
      " 24  Power                     float64\n",
      " 25  Power_Backup              object \n",
      " 26  Status                    object \n",
      " 27  Priority                  object \n",
      " 28  Area                      object \n",
      " 29  Last Maintenance          object \n",
      " 30  Status Sparepart          object \n",
      " 31  Age                       float64\n",
      " 32  Country Machine           object \n",
      "dtypes: float64(22), object(11)\n",
      "memory usage: 3.2+ GB\n"
     ]
    }
   ],
   "source": [
    "train_full.info()"
   ]
  },
  {
   "cell_type": "markdown",
   "id": "b4f159e1",
   "metadata": {
    "papermill": {
     "duration": 0.018921,
     "end_time": "2025-01-15T01:53:28.894868",
     "exception": false,
     "start_time": "2025-01-15T01:53:28.875947",
     "status": "completed"
    },
    "tags": []
   },
   "source": [
    "Join data berhasil, karena jumlah baris pada train dan test sama seperti sebelumnya.\n",
    "Selanjutnya dilakukan EDA data hasil join agar bisa ditemukan praproses yang sesuai."
   ]
  },
  {
   "cell_type": "code",
   "execution_count": 44,
   "id": "77fe6b57",
   "metadata": {
    "execution": {
     "iopub.execute_input": "2025-01-15T01:53:28.937523Z",
     "iopub.status.busy": "2025-01-15T01:53:28.936975Z",
     "iopub.status.idle": "2025-01-15T02:00:50.007332Z",
     "shell.execute_reply": "2025-01-15T02:00:50.005819Z"
    },
    "papermill": {
     "duration": 441.098123,
     "end_time": "2025-01-15T02:00:50.010141",
     "exception": false,
     "start_time": "2025-01-15T01:53:28.912018",
     "status": "completed"
    },
    "tags": []
   },
   "outputs": [],
   "source": [
    "train_full.to_csv('/kaggle/working/train_full.csv', index=False)"
   ]
  },
  {
   "cell_type": "code",
   "execution_count": 45,
   "id": "fc7cdf3f",
   "metadata": {
    "execution": {
     "iopub.execute_input": "2025-01-15T02:00:50.038816Z",
     "iopub.status.busy": "2025-01-15T02:00:50.038435Z",
     "iopub.status.idle": "2025-01-15T02:00:50.042612Z",
     "shell.execute_reply": "2025-01-15T02:00:50.041531Z"
    },
    "papermill": {
     "duration": 0.020155,
     "end_time": "2025-01-15T02:00:50.044726",
     "exception": false,
     "start_time": "2025-01-15T02:00:50.024571",
     "status": "completed"
    },
    "tags": []
   },
   "outputs": [],
   "source": [
    "# test_full.to_csv('/kaggle/working/test_full.csv', index=False)"
   ]
  },
  {
   "cell_type": "markdown",
   "id": "59805384",
   "metadata": {
    "papermill": {
     "duration": 0.012191,
     "end_time": "2025-01-15T02:00:50.070018",
     "exception": false,
     "start_time": "2025-01-15T02:00:50.057827",
     "status": "completed"
    },
    "tags": []
   },
   "source": [
    "#### NA"
   ]
  },
  {
   "cell_type": "markdown",
   "id": "1b2a39e5",
   "metadata": {
    "papermill": {
     "duration": 0.01246,
     "end_time": "2025-01-15T02:00:50.094689",
     "exception": false,
     "start_time": "2025-01-15T02:00:50.082229",
     "status": "completed"
    },
    "tags": []
   },
   "source": [
    "Cek NA setelah join data"
   ]
  },
  {
   "cell_type": "code",
   "execution_count": 46,
   "id": "ec73a8c3",
   "metadata": {
    "execution": {
     "iopub.execute_input": "2025-01-15T02:00:50.121948Z",
     "iopub.status.busy": "2025-01-15T02:00:50.121532Z",
     "iopub.status.idle": "2025-01-15T02:00:50.127090Z",
     "shell.execute_reply": "2025-01-15T02:00:50.125928Z"
    },
    "papermill": {
     "duration": 0.021374,
     "end_time": "2025-01-15T02:00:50.129068",
     "exception": false,
     "start_time": "2025-01-15T02:00:50.107694",
     "status": "completed"
    },
    "tags": []
   },
   "outputs": [],
   "source": [
    "def analyze_missing_values(df):\n",
    "    missing = df.isnull().sum()\n",
    "    missing_pct = (missing / len(df)) * 100\n",
    "    missing_df = pd.DataFrame({\n",
    "        'Missing Values': missing,\n",
    "        'Percentage': missing_pct\n",
    "    }).sort_values('Percentage', ascending=False)\n",
    "    \n",
    "    print(\"\\n=== Missing Values Analysis ===\")\n",
    "    print(missing_df[missing_df['Missing Values'] > 0])"
   ]
  },
  {
   "cell_type": "code",
   "execution_count": 47,
   "id": "39f2b933",
   "metadata": {
    "execution": {
     "iopub.execute_input": "2025-01-15T02:00:50.155593Z",
     "iopub.status.busy": "2025-01-15T02:00:50.155186Z",
     "iopub.status.idle": "2025-01-15T02:00:57.129652Z",
     "shell.execute_reply": "2025-01-15T02:00:57.128336Z"
    },
    "papermill": {
     "duration": 6.989649,
     "end_time": "2025-01-15T02:00:57.131402",
     "exception": false,
     "start_time": "2025-01-15T02:00:50.141753",
     "status": "completed"
    },
    "tags": []
   },
   "outputs": [
    {
     "name": "stdout",
     "output_type": "stream",
     "text": [
      "\n",
      "=== Missing Values Analysis ===\n",
      "                          Missing Values  Percentage\n",
      "Country Machine                  4031795   31.013808\n",
      "Last Maintenance                 4031795   31.013808\n",
      "Status Sparepart                 4031795   31.013808\n",
      "Age                              4031795   31.013808\n",
      "Current-T                        2954720   22.728615\n",
      "apparent_temperature_max         2775038   21.346446\n",
      "apparent_temperature_min         2621692   20.166862\n",
      "humidity                         2532064   19.477415\n",
      "temperature_10H_min (°C)         2488572   19.142862\n",
      "RPM-2                            2438948   18.761138\n",
      "RPM-3                            2360433   18.157177\n",
      "Area                             2245196   17.270738\n",
      "Priority                         2245196   17.270738\n",
      "ID_Area                          2245196   17.270738\n",
      "ID_Mesin                         2184031   16.800238\n",
      "Vibration-2                      1973544   15.181108\n",
      "RPM-1                            1745236   13.424892\n",
      "Power                            1702431   13.095623\n",
      "temperature-2                    1508600   11.604615\n",
      "RPM                              1440706   11.082354\n",
      "Voltage-L                        1255754    9.659646\n",
      "Voltage-R                         897445    6.903423\n",
      "Vibration-1                       696210    5.355462\n",
      "temperature-3                     468901    3.606931\n",
      "Voltage-M                         445621    3.427854\n",
      "Power_Backup                      437397    3.364592\n",
      "temperature-1                     378878    2.914446\n",
      "temperature_10H_max (°C)          372665    2.866654\n",
      "Current-R                         182444    1.403415\n",
      "Current-M                         141165    1.085885\n"
     ]
    }
   ],
   "source": [
    "analyze_missing_values(train_full)"
   ]
  },
  {
   "cell_type": "code",
   "execution_count": 48,
   "id": "db60b0ea",
   "metadata": {
    "execution": {
     "iopub.execute_input": "2025-01-15T02:00:57.157897Z",
     "iopub.status.busy": "2025-01-15T02:00:57.157500Z",
     "iopub.status.idle": "2025-01-15T02:00:57.161428Z",
     "shell.execute_reply": "2025-01-15T02:00:57.160339Z"
    },
    "papermill": {
     "duration": 0.01897,
     "end_time": "2025-01-15T02:00:57.163107",
     "exception": false,
     "start_time": "2025-01-15T02:00:57.144137",
     "status": "completed"
    },
    "tags": []
   },
   "outputs": [],
   "source": [
    "# analyze_missing_values(test_full)"
   ]
  }
 ],
 "metadata": {
  "kaggle": {
   "accelerator": "none",
   "dataSources": [
    {
     "databundleVersionId": 10731399,
     "sourceId": 91088,
     "sourceType": "competition"
    }
   ],
   "dockerImageVersionId": 30823,
   "isGpuEnabled": false,
   "isInternetEnabled": true,
   "language": "python",
   "sourceType": "notebook"
  },
  "kernelspec": {
   "display_name": "Python 3",
   "language": "python",
   "name": "python3"
  },
  "language_info": {
   "codemirror_mode": {
    "name": "ipython",
    "version": 3
   },
   "file_extension": ".py",
   "mimetype": "text/x-python",
   "name": "python",
   "nbconvert_exporter": "python",
   "pygments_lexer": "ipython3",
   "version": "3.10.12"
  },
  "papermill": {
   "default_parameters": {},
   "duration": 738.033018,
   "end_time": "2025-01-15T02:00:59.403427",
   "environment_variables": {},
   "exception": null,
   "input_path": "__notebook__.ipynb",
   "output_path": "__notebook__.ipynb",
   "parameters": {},
   "start_time": "2025-01-15T01:48:41.370409",
   "version": "2.6.0"
  }
 },
 "nbformat": 4,
 "nbformat_minor": 5
}
